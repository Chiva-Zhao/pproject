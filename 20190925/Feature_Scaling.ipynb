{
 "cells": [
  {
   "cell_type": "code",
   "metadata": {
    "collapsed": true,
    "pycharm": {
     "name": "#%%\n",
     "is_executing": false
    }
   },
   "source": [
    "from sklearn.preprocessing import StandardScaler, MinMaxScaler, RobustScaler\n",
    "import numpy as np\n",
    "import pandas as pd\n",
    "np.set_printoptions(suppress=True)"
   ],
   "execution_count": 1,
   "outputs": []
  },
  {
   "cell_type": "markdown",
   "source": [
    "#### Load sample data of video views"
   ],
   "metadata": {
    "collapsed": false,
    "pycharm": {
     "name": "#%% md\n"
    }
   }
  },
  {
   "cell_type": "code",
   "execution_count": 19,
   "outputs": [
    {
     "data": {
      "text/plain": "     views\n0   1295.0\n1     25.0\n2  19000.0\n3      5.0\n4      1.0\n5    300.0",
      "text/html": "<div>\n<style scoped>\n    .dataframe tbody tr th:only-of-type {\n        vertical-align: middle;\n    }\n\n    .dataframe tbody tr th {\n        vertical-align: top;\n    }\n\n    .dataframe thead th {\n        text-align: right;\n    }\n</style>\n<table border=\"1\" class=\"dataframe\">\n  <thead>\n    <tr style=\"text-align: right;\">\n      <th></th>\n      <th>views</th>\n    </tr>\n  </thead>\n  <tbody>\n    <tr>\n      <th>0</th>\n      <td>1295.0</td>\n    </tr>\n    <tr>\n      <th>1</th>\n      <td>25.0</td>\n    </tr>\n    <tr>\n      <th>2</th>\n      <td>19000.0</td>\n    </tr>\n    <tr>\n      <th>3</th>\n      <td>5.0</td>\n    </tr>\n    <tr>\n      <th>4</th>\n      <td>1.0</td>\n    </tr>\n    <tr>\n      <th>5</th>\n      <td>300.0</td>\n    </tr>\n  </tbody>\n</table>\n</div>"
     },
     "metadata": {},
     "output_type": "execute_result",
     "execution_count": 19
    }
   ],
   "source": [
    "views = pd.DataFrame([1295., 25., 19000., 5., 1., 300.], columns=['views'])\n",
    "views"
   ],
   "metadata": {
    "collapsed": false,
    "pycharm": {
     "name": "#%%\n",
     "is_executing": false
    }
   }
  },
  {
   "cell_type": "markdown",
   "source": [
    "#### Standard Scaler \n",
    "The standard scaler tries to standardize each value in a feature column by removing the mean and scaling\n",
    "the variance to be 1 from the values. This is also known as centering and scaling and can be denoted\n",
    "mathematically as $SS(X_i) = {X_i-\\mu_x \\over \\sigma_x}$"
   ],
   "metadata": {
    "collapsed": false,
    "pycharm": {
     "name": "#%% md\n"
    }
   }
  },
  {
   "cell_type": "code",
   "execution_count": 20,
   "outputs": [
    {
     "name": "stdout",
     "text": [
      "(6, 1)\n(6,)\n(6, 1)\n"
     ],
     "output_type": "stream"
    },
    {
     "data": {
      "text/plain": "     views    zscore\n0   1295.0 -0.307214\n1     25.0 -0.489306\n2  19000.0  2.231317\n3      5.0 -0.492173\n4      1.0 -0.492747\n5    300.0 -0.449877",
      "text/html": "<div>\n<style scoped>\n    .dataframe tbody tr th:only-of-type {\n        vertical-align: middle;\n    }\n\n    .dataframe tbody tr th {\n        vertical-align: top;\n    }\n\n    .dataframe thead th {\n        text-align: right;\n    }\n</style>\n<table border=\"1\" class=\"dataframe\">\n  <thead>\n    <tr style=\"text-align: right;\">\n      <th></th>\n      <th>views</th>\n      <th>zscore</th>\n    </tr>\n  </thead>\n  <tbody>\n    <tr>\n      <th>0</th>\n      <td>1295.0</td>\n      <td>-0.307214</td>\n    </tr>\n    <tr>\n      <th>1</th>\n      <td>25.0</td>\n      <td>-0.489306</td>\n    </tr>\n    <tr>\n      <th>2</th>\n      <td>19000.0</td>\n      <td>2.231317</td>\n    </tr>\n    <tr>\n      <th>3</th>\n      <td>5.0</td>\n      <td>-0.492173</td>\n    </tr>\n    <tr>\n      <th>4</th>\n      <td>1.0</td>\n      <td>-0.492747</td>\n    </tr>\n    <tr>\n      <th>5</th>\n      <td>300.0</td>\n      <td>-0.449877</td>\n    </tr>\n  </tbody>\n</table>\n</div>"
     },
     "metadata": {},
     "output_type": "execute_result",
     "execution_count": 20
    }
   ],
   "source": [
    "ss = StandardScaler()\n",
    "views['zscore'] = ss.fit_transform(views)\n",
    "views"
   ],
   "metadata": {
    "collapsed": false,
    "pycharm": {
     "name": "#%%\n",
     "is_executing": false
    }
   }
  },
  {
   "cell_type": "markdown",
   "source": [
    "We can see the standardized and scaled values in the zscore column in the preceding dataframe. In\n",
    "fact, you can manually use the formula we used earlier to compute the same result. The following example\n",
    "computes the z-score mathematically"
   ],
   "metadata": {
    "collapsed": false,
    "pycharm": {
     "name": "#%% md\n"
    }
   }
  },
  {
   "cell_type": "code",
   "execution_count": 35,
   "outputs": [
    {
     "data": {
      "text/plain": "      views\n0 -0.307214\n1 -0.489306\n2  2.231317\n3 -0.492173\n4 -0.492747\n5 -0.449877",
      "text/html": "<div>\n<style scoped>\n    .dataframe tbody tr th:only-of-type {\n        vertical-align: middle;\n    }\n\n    .dataframe tbody tr th {\n        vertical-align: top;\n    }\n\n    .dataframe thead th {\n        text-align: right;\n    }\n</style>\n<table border=\"1\" class=\"dataframe\">\n  <thead>\n    <tr style=\"text-align: right;\">\n      <th></th>\n      <th>views</th>\n    </tr>\n  </thead>\n  <tbody>\n    <tr>\n      <th>0</th>\n      <td>-0.307214</td>\n    </tr>\n    <tr>\n      <th>1</th>\n      <td>-0.489306</td>\n    </tr>\n    <tr>\n      <th>2</th>\n      <td>2.231317</td>\n    </tr>\n    <tr>\n      <th>3</th>\n      <td>-0.492173</td>\n    </tr>\n    <tr>\n      <th>4</th>\n      <td>-0.492747</td>\n    </tr>\n    <tr>\n      <th>5</th>\n      <td>-0.449877</td>\n    </tr>\n  </tbody>\n</table>\n</div>"
     },
     "metadata": {},
     "output_type": "execute_result",
     "execution_count": 35
    }
   ],
   "source": [
    "vw = views[['views']]\n",
    "vv = (vw - np.mean(vw))/np.std(vw)\n",
    "vv"
   ],
   "metadata": {
    "collapsed": false,
    "pycharm": {
     "name": "#%%\n",
     "is_executing": false
    }
   }
  },
  {
   "cell_type": "markdown",
   "source": [
    "#### Min-Max Scaling\n",
    "With min-max scaling, we can transform and scale our feature values such that each value is within the\n",
    "range of [0, 1]. However the MinMaxScaler class in scikit-learn also allows you to specify your own upper\n",
    "and lower bound in the scaled value range using the feature_range variable. Mathematically we can\n",
    "represent this scaler as\n",
    "$$MMX_i = {X_i-min(X) \\over max(X)-min(X)}$$"
   ],
   "metadata": {
    "collapsed": false,
    "pycharm": {
     "name": "#%% md\n"
    }
   }
  },
  {
   "cell_type": "code",
   "execution_count": 29,
   "outputs": [
    {
     "data": {
      "text/plain": "     views    zscore   mmscore\n0   1295.0 -0.307214  0.068109\n1     25.0 -0.489306  0.001263\n2  19000.0  2.231317  1.000000\n3      5.0 -0.492173  0.000211\n4      1.0 -0.492747  0.000000\n5    300.0 -0.449877  0.015738",
      "text/html": "<div>\n<style scoped>\n    .dataframe tbody tr th:only-of-type {\n        vertical-align: middle;\n    }\n\n    .dataframe tbody tr th {\n        vertical-align: top;\n    }\n\n    .dataframe thead th {\n        text-align: right;\n    }\n</style>\n<table border=\"1\" class=\"dataframe\">\n  <thead>\n    <tr style=\"text-align: right;\">\n      <th></th>\n      <th>views</th>\n      <th>zscore</th>\n      <th>mmscore</th>\n    </tr>\n  </thead>\n  <tbody>\n    <tr>\n      <th>0</th>\n      <td>1295.0</td>\n      <td>-0.307214</td>\n      <td>0.068109</td>\n    </tr>\n    <tr>\n      <th>1</th>\n      <td>25.0</td>\n      <td>-0.489306</td>\n      <td>0.001263</td>\n    </tr>\n    <tr>\n      <th>2</th>\n      <td>19000.0</td>\n      <td>2.231317</td>\n      <td>1.000000</td>\n    </tr>\n    <tr>\n      <th>3</th>\n      <td>5.0</td>\n      <td>-0.492173</td>\n      <td>0.000211</td>\n    </tr>\n    <tr>\n      <th>4</th>\n      <td>1.0</td>\n      <td>-0.492747</td>\n      <td>0.000000</td>\n    </tr>\n    <tr>\n      <th>5</th>\n      <td>300.0</td>\n      <td>-0.449877</td>\n      <td>0.015738</td>\n    </tr>\n  </tbody>\n</table>\n</div>"
     },
     "metadata": {},
     "output_type": "execute_result",
     "execution_count": 29
    }
   ],
   "source": [
    "mm = MinMaxScaler()\n",
    "views['mmscore'] = mm.fit_transform(views[['views']])\n",
    "views"
   ],
   "metadata": {
    "collapsed": false,
    "pycharm": {
     "name": "#%%\n",
     "is_executing": false
    }
   }
  },
  {
   "cell_type": "markdown",
   "source": [
    "The preceding output shows the min-max scaled values in the minmax column and as expected, the\n",
    "maximum viewed video in row index 2 has a value of 1, and the minimum viewed video in row index 4 has a\n",
    "value of 0. You can also compute this mathematically using the following code"
   ],
   "metadata": {
    "collapsed": false,
    "pycharm": {
     "name": "#%% md\n"
    }
   }
  },
  {
   "cell_type": "code",
   "execution_count": 36,
   "outputs": [
    {
     "data": {
      "text/plain": "      views\n0  0.068109\n1  0.001263\n2  1.000000\n3  0.000211\n4  0.000000\n5  0.015738",
      "text/html": "<div>\n<style scoped>\n    .dataframe tbody tr th:only-of-type {\n        vertical-align: middle;\n    }\n\n    .dataframe tbody tr th {\n        vertical-align: top;\n    }\n\n    .dataframe thead th {\n        text-align: right;\n    }\n</style>\n<table border=\"1\" class=\"dataframe\">\n  <thead>\n    <tr style=\"text-align: right;\">\n      <th></th>\n      <th>views</th>\n    </tr>\n  </thead>\n  <tbody>\n    <tr>\n      <th>0</th>\n      <td>0.068109</td>\n    </tr>\n    <tr>\n      <th>1</th>\n      <td>0.001263</td>\n    </tr>\n    <tr>\n      <th>2</th>\n      <td>1.000000</td>\n    </tr>\n    <tr>\n      <th>3</th>\n      <td>0.000211</td>\n    </tr>\n    <tr>\n      <th>4</th>\n      <td>0.000000</td>\n    </tr>\n    <tr>\n      <th>5</th>\n      <td>0.015738</td>\n    </tr>\n  </tbody>\n</table>\n</div>"
     },
     "metadata": {},
     "output_type": "execute_result",
     "execution_count": 36
    }
   ],
   "source": [
    "(vw - np.min(vw))/(np.max(vw) - np.min(vw))"
   ],
   "metadata": {
    "collapsed": false,
    "pycharm": {
     "name": "#%%\n",
     "is_executing": false
    }
   }
  },
  {
   "cell_type": "markdown",
   "source": [
    "#### Robust Scaler\n",
    "The disadvantage of min-max scaling is that often the presence of outliers affects the scaled values for any\n",
    "feature. Robust scaling tries to use specific statistical measures to scale features without being affected by\n",
    "outliers. Mathematically this scaler can be represented as\n",
    "\n",
    "$$RS(X_i)={X_i-median(X)\\over IQR_{(1,3)}(X)}$$\n",
    "\n",
    "where we scale each value of feature X by subtracting the median of X and dividing the resultant by the IQR\n",
    "also known as the Inter-Quartile Range of X which is the range (difference) between the first quartile (25th\n",
    "%ile) and the third quartile (75th %ile). The following code performs robust scaling on our sample feature."
   ],
   "metadata": {
    "collapsed": false,
    "pycharm": {
     "name": "#%% md\n"
    }
   }
  },
  {
   "cell_type": "code",
   "execution_count": 37,
   "outputs": [
    {
     "data": {
      "text/plain": "     views    zscore   mmscore         rs\n0   1295.0 -0.307214  0.068109   1.092883\n1     25.0 -0.489306  0.001263  -0.132690\n2  19000.0  2.231317  1.000000  18.178528\n3      5.0 -0.492173  0.000211  -0.151990\n4      1.0 -0.492747  0.000000  -0.155850\n5    300.0 -0.449877  0.015738   0.132690",
      "text/html": "<div>\n<style scoped>\n    .dataframe tbody tr th:only-of-type {\n        vertical-align: middle;\n    }\n\n    .dataframe tbody tr th {\n        vertical-align: top;\n    }\n\n    .dataframe thead th {\n        text-align: right;\n    }\n</style>\n<table border=\"1\" class=\"dataframe\">\n  <thead>\n    <tr style=\"text-align: right;\">\n      <th></th>\n      <th>views</th>\n      <th>zscore</th>\n      <th>mmscore</th>\n      <th>rs</th>\n    </tr>\n  </thead>\n  <tbody>\n    <tr>\n      <th>0</th>\n      <td>1295.0</td>\n      <td>-0.307214</td>\n      <td>0.068109</td>\n      <td>1.092883</td>\n    </tr>\n    <tr>\n      <th>1</th>\n      <td>25.0</td>\n      <td>-0.489306</td>\n      <td>0.001263</td>\n      <td>-0.132690</td>\n    </tr>\n    <tr>\n      <th>2</th>\n      <td>19000.0</td>\n      <td>2.231317</td>\n      <td>1.000000</td>\n      <td>18.178528</td>\n    </tr>\n    <tr>\n      <th>3</th>\n      <td>5.0</td>\n      <td>-0.492173</td>\n      <td>0.000211</td>\n      <td>-0.151990</td>\n    </tr>\n    <tr>\n      <th>4</th>\n      <td>1.0</td>\n      <td>-0.492747</td>\n      <td>0.000000</td>\n      <td>-0.155850</td>\n    </tr>\n    <tr>\n      <th>5</th>\n      <td>300.0</td>\n      <td>-0.449877</td>\n      <td>0.015738</td>\n      <td>0.132690</td>\n    </tr>\n  </tbody>\n</table>\n</div>"
     },
     "metadata": {},
     "output_type": "execute_result",
     "execution_count": 37
    }
   ],
   "source": [
    "rs = RobustScaler()\n",
    "views['rs'] = rs.fit_transform(views[['views']])\n",
    "views"
   ],
   "metadata": {
    "collapsed": false,
    "pycharm": {
     "name": "#%%\n",
     "is_executing": false
    }
   }
  },
  {
   "cell_type": "markdown",
   "source": [
    "You can also compute the same using the mathematical equation we\n",
    "formulated for the robust scaler as depicted in the following snippet"
   ],
   "metadata": {
    "collapsed": false,
    "pycharm": {
     "name": "#%% md\n"
    }
   }
  },
  {
   "cell_type": "code",
   "execution_count": 43,
   "outputs": [
    {
     "data": {
      "text/plain": "       views\n0   1.092883\n1  -0.132690\n2  18.178528\n3  -0.151990\n4  -0.155850\n5   0.132690",
      "text/html": "<div>\n<style scoped>\n    .dataframe tbody tr th:only-of-type {\n        vertical-align: middle;\n    }\n\n    .dataframe tbody tr th {\n        vertical-align: top;\n    }\n\n    .dataframe thead th {\n        text-align: right;\n    }\n</style>\n<table border=\"1\" class=\"dataframe\">\n  <thead>\n    <tr style=\"text-align: right;\">\n      <th></th>\n      <th>views</th>\n    </tr>\n  </thead>\n  <tbody>\n    <tr>\n      <th>0</th>\n      <td>1.092883</td>\n    </tr>\n    <tr>\n      <th>1</th>\n      <td>-0.132690</td>\n    </tr>\n    <tr>\n      <th>2</th>\n      <td>18.178528</td>\n    </tr>\n    <tr>\n      <th>3</th>\n      <td>-0.151990</td>\n    </tr>\n    <tr>\n      <th>4</th>\n      <td>-0.155850</td>\n    </tr>\n    <tr>\n      <th>5</th>\n      <td>0.132690</td>\n    </tr>\n  </tbody>\n</table>\n</div>"
     },
     "metadata": {},
     "output_type": "execute_result",
     "execution_count": 43
    }
   ],
   "source": [
    "quartiles = np.percentile(vw,(25.,75.))\n",
    "iqr = quartiles[1] - quartiles[0]\n",
    "(vw - np.median(vw))/iqr"
   ],
   "metadata": {
    "collapsed": false,
    "pycharm": {
     "name": "#%%\n",
     "is_executing": false
    }
   }
  }
 ],
 "metadata": {
  "kernelspec": {
   "display_name": "Python 3",
   "language": "python",
   "name": "python3"
  },
  "language_info": {
   "codemirror_mode": {
    "name": "ipython",
    "version": 2
   },
   "file_extension": ".py",
   "mimetype": "text/x-python",
   "name": "python",
   "nbconvert_exporter": "python",
   "pygments_lexer": "ipython2",
   "version": "2.7.6"
  },
  "pycharm": {
   "stem_cell": {
    "cell_type": "raw",
    "source": [],
    "metadata": {
     "collapsed": false
    }
   }
  }
 },
 "nbformat": 4,
 "nbformat_minor": 0
}