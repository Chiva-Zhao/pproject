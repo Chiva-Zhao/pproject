{
 "cells": [
  {
   "cell_type": "markdown",
   "metadata": {
    "collapsed": true,
    "pycharm": {
     "name": "#%% md\n"
    }
   },
   "source": [
    "# 深度学习计算\n",
    "上⼀章介绍了包括多层感知机在内的简单深度学习模型的原理和实现。本章我们将简要概括深度\n",
    "学习计算的各个重要组成部分，如模型构造、参数的访问和初始化等，⾃定义层，读取、存储和\n",
    "使⽤GPU。通过本章的学习，我们将能够深⼊了解模型实现和计算的各个细节，并为在之后章节\n",
    "实现更复杂模型打下坚实的基础。\n",
    "\n",
    "\n"
   ]
  }
 ],
 "metadata": {
  "kernelspec": {
   "display_name": "Python 3",
   "language": "python",
   "name": "python3"
  },
  "language_info": {
   "codemirror_mode": {
    "name": "ipython",
    "version": 2
   },
   "file_extension": ".py",
   "mimetype": "text/x-python",
   "name": "python",
   "nbconvert_exporter": "python",
   "pygments_lexer": "ipython2",
   "version": "2.7.6"
  },
  "pycharm": {
   "stem_cell": {
    "cell_type": "raw",
    "source": [],
    "metadata": {
     "collapsed": false
    }
   }
  }
 },
 "nbformat": 4,
 "nbformat_minor": 0
}