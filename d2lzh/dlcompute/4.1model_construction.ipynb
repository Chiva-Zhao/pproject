{
 "cells": [
  {
   "cell_type": "markdown",
   "metadata": {
    "collapsed": true,
    "pycharm": {
     "name": "#%% md\n"
    }
   },
   "source": [
    "# 模型构造\n",
    "让我们回顾⼀下在[“多层感知机的简洁实现”](../dlbasic/3.10mlp-gluon.ipynb) ⼀节中含单隐藏层的多层感知机的实现⽅法。我们\n",
    "⾸先构造Sequential实例，然后依次添加两个全连接层。其中第⼀层的输出⼤小为256，即隐\n",
    "藏层单元个数是256；第⼆层的输出⼤小为10，即输出层单元个数是10。我们在上⼀章的其他节\n",
    "中也使⽤了Sequential类构造模型。这⾥我们介绍另外⼀种基于Block类的模型构造⽅法：它\n",
    "让模型构造更加灵活。\n",
    "## 继承Block类来构造模型\n",
    "Block类是nn模块⾥提供的⼀个模型构造类，我们可以继承它来定义我们想要的模型。下⾯继\n",
    "承Block类构造本节开头提到的多层感知机。这⾥定义的MLP类重载了Block类的__init__函\n",
    "数和forward函数。它们分别⽤于创建模型参数和定义前向计算。前向计算也即正向传播"
   ]
  },
  {
   "cell_type": "code",
   "execution_count": null,
   "outputs": [],
   "source": [
    "from mxnet import nd\n",
    "from mxnet.gluon import nn\n",
    "class MLP(nn.Block):\n",
    "    # 声明带有模型参数的层，这⾥声明了两个全连接层\n",
    "    def __init__(self, **kwargs):\n",
    "        # 调⽤MLP⽗类Block的构造函数来进⾏必要的初始化。这样在构造实例时还可以指定其他函数\n",
    "        # 参数，如“模型参数的访问、初始化和共享”⼀节将介绍的模型参数params\n",
    "        super(MLP, self).__init__(**kwargs)\n",
    "        self.hidden = nn.Dense(256, activation='relu')\n",
    "        self.output = nn.Dense(10)\n",
    "    # 定义模型的前向计算，即如何根据输⼊x计算返回所需要的模型输出\n",
    "    def forward(self, x):\n",
    "        return self.output(self.hidden(x))"
   ],
   "metadata": {
    "collapsed": false,
    "pycharm": {
     "name": "#%%\n"
    }
   }
  },
  {
   "cell_type": "markdown",
   "source": [
    "以上的MLP类中⽆须定义反向传播函数。系统将通过⾃动求梯度而⾃动⽣成反向传播所需\n",
    "的backward函数。我们可以实例化MLP类得到模型变量net。下⾯的代码初始化net并传⼊\n",
    "输⼊数据X做⼀次前向计算。其中， net(X)会调⽤MLP继承⾃Block类的__call__函数，\n",
    "这个函数将调⽤MLP类定义的forward函数来完成前向计算。"
   ],
   "metadata": {
    "collapsed": false,
    "pycharm": {
     "name": "#%% md\n"
    }
   }
  }
 ],
 "metadata": {
  "kernelspec": {
   "display_name": "Python 3",
   "language": "python",
   "name": "python3"
  },
  "language_info": {
   "codemirror_mode": {
    "name": "ipython",
    "version": 2
   },
   "file_extension": ".py",
   "mimetype": "text/x-python",
   "name": "python",
   "nbconvert_exporter": "python",
   "pygments_lexer": "ipython2",
   "version": "2.7.6"
  },
  "pycharm": {
   "stem_cell": {
    "cell_type": "raw",
    "source": [],
    "metadata": {
     "collapsed": false
    }
   }
  }
 },
 "nbformat": 4,
 "nbformat_minor": 0
}