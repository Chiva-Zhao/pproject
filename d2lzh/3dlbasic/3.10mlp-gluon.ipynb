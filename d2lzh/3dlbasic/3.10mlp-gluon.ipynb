{
 "cells": [
  {
   "cell_type": "markdown",
   "metadata": {
    "collapsed": true,
    "pycharm": {
     "name": "#%% md\n"
    }
   },
   "source": [
    "# 多层感知机的简洁实现\n",
    "下⾯我们使⽤Gluon来实现上⼀节中的多层感知机。⾸先导⼊所需的包或模块"
   ]
  },
  {
   "cell_type": "code",
   "execution_count": 11,
   "outputs": [],
   "source": [
    "%matplotlib inline\n",
    "from mxnet import gluon,init\n",
    "import d2lzh as d2l\n",
    "from mxnet.gluon import loss as gloss, nn"
   ],
   "metadata": {
    "collapsed": false,
    "pycharm": {
     "name": "#%%\n",
     "is_executing": false
    }
   }
  },
  {
   "cell_type": "markdown",
   "source": [
    "## 定义模型\n",
    "和softmax回归唯⼀的不同在于，我们多加了⼀个全连接层作为隐藏层。它的隐藏单元个数为256，\n",
    "并使⽤ReLU函数作为激活函数。"
   ],
   "metadata": {
    "collapsed": false,
    "pycharm": {
     "name": "#%% md\n"
    }
   }
  },
  {
   "cell_type": "code",
   "execution_count": 12,
   "outputs": [],
   "source": [
    "net = nn.Sequential()\n",
    "net.add(nn.Dense(256, 'relu'), nn.Dense(10))\n",
    "net.initialize(init.Normal(sigma=0.01))"
   ],
   "metadata": {
    "collapsed": false,
    "pycharm": {
     "name": "#%%\n",
     "is_executing": false
    }
   }
  },
  {
   "cell_type": "markdown",
   "source": [
    "## 读取数据并训练模型\n",
    "我们使⽤与“softmax回归的简洁实现”⼀节中训练softmax回归⼏乎相同的步骤来读取数据并训\n",
    "练模型。"
   ],
   "metadata": {
    "collapsed": false,
    "pycharm": {
     "name": "#%% md\n"
    }
   }
  },
  {
   "cell_type": "code",
   "execution_count": 14,
   "outputs": [
    {
     "name": "stdout",
     "text": [
      "epoch 1, loss 0.3827, train acc 0.857, test acc 0.866\n",
      "epoch 2, loss 0.3687, train acc 0.864, test acc 0.866\n",
      "epoch 3, loss 0.3507, train acc 0.869, test acc 0.872\n",
      "epoch 4, loss 0.3426, train acc 0.872, test acc 0.880\n",
      "epoch 5, loss 0.3290, train acc 0.877, test acc 0.872\n",
      "epoch 6, loss 0.3195, train acc 0.880, test acc 0.873\n",
      "epoch 7, loss 0.3104, train acc 0.883, test acc 0.883\n",
      "epoch 8, loss 0.3026, train acc 0.886, test acc 0.885\n",
      "epoch 9, loss 0.2956, train acc 0.889, test acc 0.883\n",
      "epoch 10, loss 0.2913, train acc 0.889, test acc 0.886\n"
     ],
     "output_type": "stream"
    }
   ],
   "source": [
    "batch_size = 256\n",
    "epochs = 5\n",
    "lr=0.5\n",
    "trainer = gluon.Trainer(net.collect_params(),'sgd',{'learning_rate': lr})\n",
    "train_data, test_data = d2l.load_data_fashion_mnist(batch_size)\n",
    "d2l.train_ch3(net, train_data,test_data,\n",
    "              gloss.SoftmaxCrossEntropyLoss(),epochs,batch_size,None,None,trainer)\n"
   ],
   "metadata": {
    "collapsed": false,
    "pycharm": {
     "name": "#%%\n",
     "is_executing": false
    }
   }
  }
 ],
 "metadata": {
  "kernelspec": {
   "display_name": "Python 3",
   "language": "python",
   "name": "python3"
  },
  "language_info": {
   "codemirror_mode": {
    "name": "ipython",
    "version": 2
   },
   "file_extension": ".py",
   "mimetype": "text/x-python",
   "name": "python",
   "nbconvert_exporter": "python",
   "pygments_lexer": "ipython2",
   "version": "2.7.6"
  },
  "pycharm": {
   "stem_cell": {
    "cell_type": "raw",
    "source": [],
    "metadata": {
     "collapsed": false
    }
   }
  }
 },
 "nbformat": 4,
 "nbformat_minor": 0
}