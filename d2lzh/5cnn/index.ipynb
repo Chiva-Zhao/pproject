{
 "cells": [
  {
   "cell_type": "markdown",
   "metadata": {
    "collapsed": true,
    "pycharm": {
     "name": "#%% md\n"
    }
   },
   "source": [
    "# 卷积神经网络\n",
    "本章将介绍卷积神经⽹络。它是近年来深度学习能在计算机视觉领域取得突破性成果的基⽯。它\n",
    "也逐渐在被其他诸如⾃然语⾔处理、推荐系统和语⾳识别等领域⼴泛使⽤。我们将先描述卷积神\n",
    "经⽹络中卷积层和池化层的⼯作原理，并解释填充、步幅、输⼊通道和输出通道的含义。在掌握\n",
    "了这些基础知识以后，我们将探究数个具有代表性的深度卷积神经⽹络的设计思路。这些模型包\n",
    "括最早提出的AlexNet，以及后来的使⽤重复元素的⽹络（VGG）、⽹络中的⽹络（NiN）、含并⾏\n",
    "连结的⽹络（GoogLeNet）、残差⽹络（ResNet）和稠密连接⽹络（DenseNet）。它们中有不少在\n",
    "过去⼏年的ImageNet⽐赛（⼀个著名的计算机视觉竞赛）中⼤放异彩。虽然深度模型看上去只是\n",
    "具有很多层的神经⽹络，然而获得有效的深度模型并不容易。有幸的是，本章阐述的批量归⼀化\n",
    "和残差⽹络为训练和设计深度模型提供了两类重要思路。\n",
    "\n",
    "\n"
   ]
  }
 ],
 "metadata": {
  "kernelspec": {
   "display_name": "Python 3",
   "language": "python",
   "name": "python3"
  },
  "language_info": {
   "codemirror_mode": {
    "name": "ipython",
    "version": 2
   },
   "file_extension": ".py",
   "mimetype": "text/x-python",
   "name": "python",
   "nbconvert_exporter": "python",
   "pygments_lexer": "ipython2",
   "version": "2.7.6"
  },
  "pycharm": {
   "stem_cell": {
    "cell_type": "raw",
    "source": [],
    "metadata": {
     "collapsed": false
    }
   }
  }
 },
 "nbformat": 4,
 "nbformat_minor": 0
}