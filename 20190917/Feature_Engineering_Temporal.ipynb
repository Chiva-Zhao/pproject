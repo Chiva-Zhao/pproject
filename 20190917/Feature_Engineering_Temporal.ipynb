{
 "cells": [
  {
   "cell_type": "code",
   "execution_count": 3,
   "metadata": {
    "collapsed": true,
    "pycharm": {
     "is_executing": false
    }
   },
   "outputs": [],
   "source": [
    "import datetime\n",
    "import numpy as np\n",
    "import pandas as pd\n",
    "from dateutil.parser import parse\n",
    "import pytz"
   ]
  },
  {
   "cell_type": "markdown",
   "source": [
    "#### Load and process sample temporal data"
   ],
   "metadata": {
    "collapsed": false,
    "pycharm": {
     "name": "#%% md\n"
    }
   }
  },
  {
   "cell_type": "code",
   "execution_count": 4,
   "outputs": [
    {
     "data": {
      "text/plain": "                               Time\n0  2015-03-08 10:30:00.360000+00:00\n1  2017-07-13 15:45:05.755000-07:00\n2  2012-01-20 22:30:00.254000+05:30\n3  2016-12-25 00:30:00.000000+10:00",
      "text/html": "<div>\n<style scoped>\n    .dataframe tbody tr th:only-of-type {\n        vertical-align: middle;\n    }\n\n    .dataframe tbody tr th {\n        vertical-align: top;\n    }\n\n    .dataframe thead th {\n        text-align: right;\n    }\n</style>\n<table border=\"1\" class=\"dataframe\">\n  <thead>\n    <tr style=\"text-align: right;\">\n      <th></th>\n      <th>Time</th>\n    </tr>\n  </thead>\n  <tbody>\n    <tr>\n      <th>0</th>\n      <td>2015-03-08 10:30:00.360000+00:00</td>\n    </tr>\n    <tr>\n      <th>1</th>\n      <td>2017-07-13 15:45:05.755000-07:00</td>\n    </tr>\n    <tr>\n      <th>2</th>\n      <td>2012-01-20 22:30:00.254000+05:30</td>\n    </tr>\n    <tr>\n      <th>3</th>\n      <td>2016-12-25 00:30:00.000000+10:00</td>\n    </tr>\n  </tbody>\n</table>\n</div>"
     },
     "metadata": {},
     "output_type": "execute_result",
     "execution_count": 4
    }
   ],
   "source": [
    "time_stamps = ['2015-03-08 10:30:00.360000+00:00', '2017-07-13 15:45:05.755000-07:00',\n",
    "               '2012-01-20 22:30:00.254000+05:30', '2016-12-25 00:30:00.000000+10:00']\n",
    "df = pd.DataFrame(time_stamps, columns=['Time'])\n",
    "df"
   ],
   "metadata": {
    "collapsed": false,
    "pycharm": {
     "name": "#%%\n",
     "is_executing": false
    }
   }
  },
  {
   "cell_type": "code",
   "execution_count": 12,
   "outputs": [
    {
     "data": {
      "text/plain": "array([Timestamp('2015-03-08 10:30:00.360000+0000', tz='UTC'),\n       Timestamp('2017-07-13 15:45:05.755000-0700', tz='pytz.FixedOffset(-420)'),\n       Timestamp('2012-01-20 22:30:00.254000+0530', tz='pytz.FixedOffset(330)'),\n       Timestamp('2016-12-25 00:30:00+1000', tz='pytz.FixedOffset(600)')],\n      dtype=object)"
     },
     "metadata": {},
     "output_type": "execute_result",
     "execution_count": 12
    }
   ],
   "source": [
    "pd.Timestamp('2015-03-08 10:30:00.360000+00:00')\n",
    "ts_objs = np.array([pd.Timestamp(item) for item in df.Time])\n",
    "df['TS_obj'] = ts_objs\n",
    "ts_objs"
   ],
   "metadata": {
    "collapsed": false,
    "pycharm": {
     "name": "#%%\n",
     "is_executing": false
    }
   }
  },
  {
   "cell_type": "markdown",
   "source": [
    "#### Date-Based Features"
   ],
   "metadata": {
    "collapsed": false,
    "pycharm": {
     "name": "#%% md\n"
    }
   }
  },
  {
   "cell_type": "code",
   "execution_count": 13,
   "outputs": [
    {
     "name": "stderr",
     "text": [
      "C:\\ProgramData\\Anaconda3\\lib\\site-packages\\ipykernel_launcher.py:5: FutureWarning: `weekday_name` is deprecated and will be removed in a future version. Use `day_name` instead\n  \"\"\"\n"
     ],
     "output_type": "stream"
    },
    {
     "data": {
      "text/plain": "                               Time  Year  Month  Day  Quarter  DayOfWeek  \\\n0  2015-03-08 10:30:00.360000+00:00  2015      3    8        1          6   \n1  2017-07-13 15:45:05.755000-07:00  2017      7   13        3          3   \n2  2012-01-20 22:30:00.254000+05:30  2012      1   20        1          4   \n3  2016-12-25 00:30:00.000000+10:00  2016     12   25        4          6   \n\n    DayName  DayOfYear  WeekOfYear  \n0    Sunday         67          10  \n1  Thursday        194          28  \n2    Friday         20           3  \n3    Sunday        360          51  ",
      "text/html": "<div>\n<style scoped>\n    .dataframe tbody tr th:only-of-type {\n        vertical-align: middle;\n    }\n\n    .dataframe tbody tr th {\n        vertical-align: top;\n    }\n\n    .dataframe thead th {\n        text-align: right;\n    }\n</style>\n<table border=\"1\" class=\"dataframe\">\n  <thead>\n    <tr style=\"text-align: right;\">\n      <th></th>\n      <th>Time</th>\n      <th>Year</th>\n      <th>Month</th>\n      <th>Day</th>\n      <th>Quarter</th>\n      <th>DayOfWeek</th>\n      <th>DayName</th>\n      <th>DayOfYear</th>\n      <th>WeekOfYear</th>\n    </tr>\n  </thead>\n  <tbody>\n    <tr>\n      <th>0</th>\n      <td>2015-03-08 10:30:00.360000+00:00</td>\n      <td>2015</td>\n      <td>3</td>\n      <td>8</td>\n      <td>1</td>\n      <td>6</td>\n      <td>Sunday</td>\n      <td>67</td>\n      <td>10</td>\n    </tr>\n    <tr>\n      <th>1</th>\n      <td>2017-07-13 15:45:05.755000-07:00</td>\n      <td>2017</td>\n      <td>7</td>\n      <td>13</td>\n      <td>3</td>\n      <td>3</td>\n      <td>Thursday</td>\n      <td>194</td>\n      <td>28</td>\n    </tr>\n    <tr>\n      <th>2</th>\n      <td>2012-01-20 22:30:00.254000+05:30</td>\n      <td>2012</td>\n      <td>1</td>\n      <td>20</td>\n      <td>1</td>\n      <td>4</td>\n      <td>Friday</td>\n      <td>20</td>\n      <td>3</td>\n    </tr>\n    <tr>\n      <th>3</th>\n      <td>2016-12-25 00:30:00.000000+10:00</td>\n      <td>2016</td>\n      <td>12</td>\n      <td>25</td>\n      <td>4</td>\n      <td>6</td>\n      <td>Sunday</td>\n      <td>360</td>\n      <td>51</td>\n    </tr>\n  </tbody>\n</table>\n</div>"
     },
     "metadata": {},
     "output_type": "execute_result",
     "execution_count": 13
    }
   ],
   "source": [
    "df['Year'] = df['TS_obj'].apply(lambda d: d.year)\n",
    "df['Month'] = df['TS_obj'].apply(lambda d: d.month)\n",
    "df['Day'] = df['TS_obj'].apply(lambda d: d.day)\n",
    "df['DayOfWeek'] = df['TS_obj'].apply(lambda d: d.dayofweek)\n",
    "df['DayName'] = df['TS_obj'].apply(lambda d: d.weekday_name)\n",
    "df['DayOfYear'] = df['TS_obj'].apply(lambda d: d.dayofyear)\n",
    "df['WeekOfYear'] = df['TS_obj'].apply(lambda d: d.weekofyear)\n",
    "df['Quarter'] = df['TS_obj'].apply(lambda d: d.quarter)\n",
    "\n",
    "df[['Time', 'Year', 'Month', 'Day', 'Quarter', \n",
    "    'DayOfWeek', 'DayName', 'DayOfYear', 'WeekOfYear']]"
   ],
   "metadata": {
    "collapsed": false,
    "pycharm": {
     "name": "#%%\n",
     "is_executing": false
    }
   }
  },
  {
   "cell_type": "markdown",
   "source": [
    "#### Time-Based Features"
   ],
   "metadata": {
    "collapsed": false,
    "pycharm": {
     "name": "#%% md\n"
    }
   }
  },
  {
   "cell_type": "code",
   "execution_count": 15,
   "outputs": [
    {
     "data": {
      "text/plain": "                               Time  Hour  Minute  Second  MUsecond  \\\n0  2015-03-08 10:30:00.360000+00:00    10      30       0    360000   \n1  2017-07-13 15:45:05.755000-07:00    15      45       5    755000   \n2  2012-01-20 22:30:00.254000+05:30    22      30       0    254000   \n3  2016-12-25 00:30:00.000000+10:00     0      30       0         0   \n\n         UTC_offset  \n0          00:00:00  \n1 -1 days +17:00:00  \n2          05:30:00  \n3          10:00:00  ",
      "text/html": "<div>\n<style scoped>\n    .dataframe tbody tr th:only-of-type {\n        vertical-align: middle;\n    }\n\n    .dataframe tbody tr th {\n        vertical-align: top;\n    }\n\n    .dataframe thead th {\n        text-align: right;\n    }\n</style>\n<table border=\"1\" class=\"dataframe\">\n  <thead>\n    <tr style=\"text-align: right;\">\n      <th></th>\n      <th>Time</th>\n      <th>Hour</th>\n      <th>Minute</th>\n      <th>Second</th>\n      <th>MUsecond</th>\n      <th>UTC_offset</th>\n    </tr>\n  </thead>\n  <tbody>\n    <tr>\n      <th>0</th>\n      <td>2015-03-08 10:30:00.360000+00:00</td>\n      <td>10</td>\n      <td>30</td>\n      <td>0</td>\n      <td>360000</td>\n      <td>00:00:00</td>\n    </tr>\n    <tr>\n      <th>1</th>\n      <td>2017-07-13 15:45:05.755000-07:00</td>\n      <td>15</td>\n      <td>45</td>\n      <td>5</td>\n      <td>755000</td>\n      <td>-1 days +17:00:00</td>\n    </tr>\n    <tr>\n      <th>2</th>\n      <td>2012-01-20 22:30:00.254000+05:30</td>\n      <td>22</td>\n      <td>30</td>\n      <td>0</td>\n      <td>254000</td>\n      <td>05:30:00</td>\n    </tr>\n    <tr>\n      <th>3</th>\n      <td>2016-12-25 00:30:00.000000+10:00</td>\n      <td>0</td>\n      <td>30</td>\n      <td>0</td>\n      <td>0</td>\n      <td>10:00:00</td>\n    </tr>\n  </tbody>\n</table>\n</div>"
     },
     "metadata": {},
     "output_type": "execute_result",
     "execution_count": 15
    }
   ],
   "source": [
    "df['Hour'] = df['TS_obj'].apply(lambda d: d.hour)\n",
    "df['Minute'] = df['TS_obj'].apply(lambda d: d.minute)\n",
    "df['Second'] = df['TS_obj'].apply(lambda d: d.second)\n",
    "df['MUsecond'] = df['TS_obj'].apply(lambda d: d.microsecond)\n",
    "df['UTC_offset'] = df['TS_obj'].apply(lambda d: d.utcoffset())\n",
    "\n",
    "df[['Time', 'Hour', 'Minute', 'Second', 'MUsecond', 'UTC_offset']]"
   ],
   "metadata": {
    "collapsed": false,
    "pycharm": {
     "name": "#%%\n",
     "is_executing": false
    }
   }
  },
  {
   "cell_type": "code",
   "execution_count": 16,
   "outputs": [
    {
     "data": {
      "text/plain": "                               Time  Hour TimeOfDayBin\n0  2015-03-08 10:30:00.360000+00:00    10      Morning\n1  2017-07-13 15:45:05.755000-07:00    15    Afternoon\n2  2012-01-20 22:30:00.254000+05:30    22        Night\n3  2016-12-25 00:30:00.000000+10:00     0   Late Night",
      "text/html": "<div>\n<style scoped>\n    .dataframe tbody tr th:only-of-type {\n        vertical-align: middle;\n    }\n\n    .dataframe tbody tr th {\n        vertical-align: top;\n    }\n\n    .dataframe thead th {\n        text-align: right;\n    }\n</style>\n<table border=\"1\" class=\"dataframe\">\n  <thead>\n    <tr style=\"text-align: right;\">\n      <th></th>\n      <th>Time</th>\n      <th>Hour</th>\n      <th>TimeOfDayBin</th>\n    </tr>\n  </thead>\n  <tbody>\n    <tr>\n      <th>0</th>\n      <td>2015-03-08 10:30:00.360000+00:00</td>\n      <td>10</td>\n      <td>Morning</td>\n    </tr>\n    <tr>\n      <th>1</th>\n      <td>2017-07-13 15:45:05.755000-07:00</td>\n      <td>15</td>\n      <td>Afternoon</td>\n    </tr>\n    <tr>\n      <th>2</th>\n      <td>2012-01-20 22:30:00.254000+05:30</td>\n      <td>22</td>\n      <td>Night</td>\n    </tr>\n    <tr>\n      <th>3</th>\n      <td>2016-12-25 00:30:00.000000+10:00</td>\n      <td>0</td>\n      <td>Late Night</td>\n    </tr>\n  </tbody>\n</table>\n</div>"
     },
     "metadata": {},
     "output_type": "execute_result",
     "execution_count": 16
    }
   ],
   "source": [
    "# Let’s try to use binning to bin each temporal value into a specific time of the day by leveraging the\n",
    "# Hour feature we just obtained\n",
    "hour_bins = [-1, 5, 11, 16, 21, 23]\n",
    "bin_names = ['Late Night', 'Morning', 'Afternoon', 'Evening', 'Night']\n",
    "df['TimeOfDayBin'] = pd.cut(df['Hour'], \n",
    "                            bins=hour_bins, labels=bin_names)\n",
    "df[['Time', 'Hour', 'TimeOfDayBin']]"
   ],
   "metadata": {
    "collapsed": false,
    "pycharm": {
     "name": "#%%\n",
     "is_executing": false
    }
   }
  },
  {
   "cell_type": "markdown",
   "source": [
    "This information can also be used to engineer new features like potential time zones from which each\n",
    "temporal value might have been obtained. The following code helps us achieve the same"
   ],
   "metadata": {
    "collapsed": false,
    "pycharm": {
     "name": "#%% md\n"
    }
   }
  },
  {
   "cell_type": "code",
   "execution_count": 17,
   "outputs": [
    {
     "data": {
      "text/plain": "                               Time        UTC_offset                 TZ_info  \\\n0  2015-03-08 10:30:00.360000+00:00          00:00:00                     UTC   \n1  2017-07-13 15:45:05.755000-07:00 -1 days +17:00:00  pytz.FixedOffset(-420)   \n2  2012-01-20 22:30:00.254000+05:30          05:30:00   pytz.FixedOffset(330)   \n3  2016-12-25 00:30:00.000000+10:00          10:00:00   pytz.FixedOffset(600)   \n\n              TimeZones  \n0  [WET, UTC, +00, GMT]  \n1       [-07, MST, PDT]  \n2          [+0530, IST]  \n3     [AEST, +10, ChST]  ",
      "text/html": "<div>\n<style scoped>\n    .dataframe tbody tr th:only-of-type {\n        vertical-align: middle;\n    }\n\n    .dataframe tbody tr th {\n        vertical-align: top;\n    }\n\n    .dataframe thead th {\n        text-align: right;\n    }\n</style>\n<table border=\"1\" class=\"dataframe\">\n  <thead>\n    <tr style=\"text-align: right;\">\n      <th></th>\n      <th>Time</th>\n      <th>UTC_offset</th>\n      <th>TZ_info</th>\n      <th>TimeZones</th>\n    </tr>\n  </thead>\n  <tbody>\n    <tr>\n      <th>0</th>\n      <td>2015-03-08 10:30:00.360000+00:00</td>\n      <td>00:00:00</td>\n      <td>UTC</td>\n      <td>[WET, UTC, +00, GMT]</td>\n    </tr>\n    <tr>\n      <th>1</th>\n      <td>2017-07-13 15:45:05.755000-07:00</td>\n      <td>-1 days +17:00:00</td>\n      <td>pytz.FixedOffset(-420)</td>\n      <td>[-07, MST, PDT]</td>\n    </tr>\n    <tr>\n      <th>2</th>\n      <td>2012-01-20 22:30:00.254000+05:30</td>\n      <td>05:30:00</td>\n      <td>pytz.FixedOffset(330)</td>\n      <td>[+0530, IST]</td>\n    </tr>\n    <tr>\n      <th>3</th>\n      <td>2016-12-25 00:30:00.000000+10:00</td>\n      <td>10:00:00</td>\n      <td>pytz.FixedOffset(600)</td>\n      <td>[AEST, +10, ChST]</td>\n    </tr>\n  </tbody>\n</table>\n</div>"
     },
     "metadata": {},
     "output_type": "execute_result",
     "execution_count": 17
    }
   ],
   "source": [
    "df['TZ_info'] = df['TS_obj'].apply(lambda d: d.tzinfo)\n",
    "df['TimeZones'] = df['TS_obj'].apply(lambda d: list({d.astimezone(tz).tzname() \n",
    "                                   for tz in map(pytz.timezone, \n",
    "                                                 pytz.all_timezones_set)\n",
    "                                       if d.astimezone(tz).utcoffset() == d.utcoffset()}))\n",
    "\n",
    "df[['Time', 'UTC_offset', 'TZ_info', 'TimeZones']]"
   ],
   "metadata": {
    "collapsed": false,
    "pycharm": {
     "name": "#%%\n",
     "is_executing": false
    }
   }
  },
  {
   "cell_type": "code",
   "execution_count": 18,
   "outputs": [
    {
     "data": {
      "text/plain": "                               Time                          TimeUTC  \\\n0  2015-03-08 10:30:00.360000+00:00 2015-03-08 10:30:00.360000+00:00   \n1  2017-07-13 15:45:05.755000-07:00 2017-07-13 22:45:05.755000+00:00   \n2  2012-01-20 22:30:00.254000+05:30 2012-01-20 17:00:00.254000+00:00   \n3  2016-12-25 00:30:00.000000+10:00        2016-12-24 14:30:00+00:00   \n\n          Epoch  GregOrdinal  \n0  1.425811e+09       735665  \n1  1.499986e+09       736523  \n2  1.327079e+09       734522  \n3  1.482590e+09       736322  ",
      "text/html": "<div>\n<style scoped>\n    .dataframe tbody tr th:only-of-type {\n        vertical-align: middle;\n    }\n\n    .dataframe tbody tr th {\n        vertical-align: top;\n    }\n\n    .dataframe thead th {\n        text-align: right;\n    }\n</style>\n<table border=\"1\" class=\"dataframe\">\n  <thead>\n    <tr style=\"text-align: right;\">\n      <th></th>\n      <th>Time</th>\n      <th>TimeUTC</th>\n      <th>Epoch</th>\n      <th>GregOrdinal</th>\n    </tr>\n  </thead>\n  <tbody>\n    <tr>\n      <th>0</th>\n      <td>2015-03-08 10:30:00.360000+00:00</td>\n      <td>2015-03-08 10:30:00.360000+00:00</td>\n      <td>1.425811e+09</td>\n      <td>735665</td>\n    </tr>\n    <tr>\n      <th>1</th>\n      <td>2017-07-13 15:45:05.755000-07:00</td>\n      <td>2017-07-13 22:45:05.755000+00:00</td>\n      <td>1.499986e+09</td>\n      <td>736523</td>\n    </tr>\n    <tr>\n      <th>2</th>\n      <td>2012-01-20 22:30:00.254000+05:30</td>\n      <td>2012-01-20 17:00:00.254000+00:00</td>\n      <td>1.327079e+09</td>\n      <td>734522</td>\n    </tr>\n    <tr>\n      <th>3</th>\n      <td>2016-12-25 00:30:00.000000+10:00</td>\n      <td>2016-12-24 14:30:00+00:00</td>\n      <td>1.482590e+09</td>\n      <td>736322</td>\n    </tr>\n  </tbody>\n</table>\n</div>"
     },
     "metadata": {},
     "output_type": "execute_result",
     "execution_count": 18
    }
   ],
   "source": [
    "df['TimeUTC'] = df['TS_obj'].apply(lambda d: d.tz_convert(pytz.utc))\n",
    "df['Epoch'] = df['TimeUTC'].apply(lambda d: d.timestamp())\n",
    "df['GregOrdinal'] = df['TimeUTC'].apply(lambda d: d.toordinal())\n",
    "\n",
    "df[['Time', 'TimeUTC', 'Epoch', 'GregOrdinal']]"
   ],
   "metadata": {
    "collapsed": false,
    "pycharm": {
     "name": "#%%\n",
     "is_executing": false
    }
   }
  },
  {
   "cell_type": "code",
   "execution_count": 21,
   "outputs": [
    {
     "data": {
      "text/plain": "                               Time                          TimeUTC  \\\n0  2015-03-08 10:30:00.360000+00:00 2015-03-08 10:30:00.360000+00:00   \n1  2017-07-13 15:45:05.755000-07:00 2017-07-13 22:45:05.755000+00:00   \n2  2012-01-20 22:30:00.254000+05:30 2012-01-20 17:00:00.254000+00:00   \n3  2016-12-25 00:30:00.000000+10:00        2016-12-24 14:30:00+00:00   \n\n   DaysElapsedEpoch  DaysElapsedOrdinal  \n0       1653.888019                1654  \n1        795.377540                 796  \n2       2796.617187                2797  \n3        996.721357                 997  ",
      "text/html": "<div>\n<style scoped>\n    .dataframe tbody tr th:only-of-type {\n        vertical-align: middle;\n    }\n\n    .dataframe tbody tr th {\n        vertical-align: top;\n    }\n\n    .dataframe thead th {\n        text-align: right;\n    }\n</style>\n<table border=\"1\" class=\"dataframe\">\n  <thead>\n    <tr style=\"text-align: right;\">\n      <th></th>\n      <th>Time</th>\n      <th>TimeUTC</th>\n      <th>DaysElapsedEpoch</th>\n      <th>DaysElapsedOrdinal</th>\n    </tr>\n  </thead>\n  <tbody>\n    <tr>\n      <th>0</th>\n      <td>2015-03-08 10:30:00.360000+00:00</td>\n      <td>2015-03-08 10:30:00.360000+00:00</td>\n      <td>1653.888019</td>\n      <td>1654</td>\n    </tr>\n    <tr>\n      <th>1</th>\n      <td>2017-07-13 15:45:05.755000-07:00</td>\n      <td>2017-07-13 22:45:05.755000+00:00</td>\n      <td>795.377540</td>\n      <td>796</td>\n    </tr>\n    <tr>\n      <th>2</th>\n      <td>2012-01-20 22:30:00.254000+05:30</td>\n      <td>2012-01-20 17:00:00.254000+00:00</td>\n      <td>2796.617187</td>\n      <td>2797</td>\n    </tr>\n    <tr>\n      <th>3</th>\n      <td>2016-12-25 00:30:00.000000+10:00</td>\n      <td>2016-12-24 14:30:00+00:00</td>\n      <td>996.721357</td>\n      <td>997</td>\n    </tr>\n  </tbody>\n</table>\n</div>"
     },
     "metadata": {},
     "output_type": "execute_result",
     "execution_count": 21
    }
   ],
   "source": [
    "curr_ts = datetime.datetime.now(pytz.utc)\n",
    "# compute days elapsed since today\n",
    "df['DaysElapsedEpoch'] = (curr_ts.timestamp() - df['Epoch']) / (3600*24)\n",
    "df['DaysElapsedOrdinal'] = (curr_ts.toordinal() - df['GregOrdinal']) \n",
    "\n",
    "df[['Time', 'TimeUTC', 'DaysElapsedEpoch', 'DaysElapsedOrdinal']]"
   ],
   "metadata": {
    "collapsed": false,
    "pycharm": {
     "name": "#%%\n",
     "is_executing": false
    }
   }
  }
 ],
 "metadata": {
  "kernelspec": {
   "display_name": "Python 3",
   "language": "python",
   "name": "python3"
  },
  "language_info": {
   "codemirror_mode": {
    "name": "ipython",
    "version": 2
   },
   "file_extension": ".py",
   "mimetype": "text/x-python",
   "name": "python",
   "nbconvert_exporter": "python",
   "pygments_lexer": "ipython2",
   "version": "2.7.6"
  },
  "pycharm": {
   "stem_cell": {
    "cell_type": "raw",
    "source": [],
    "metadata": {
     "collapsed": false
    }
   }
  }
 },
 "nbformat": 4,
 "nbformat_minor": 0
}