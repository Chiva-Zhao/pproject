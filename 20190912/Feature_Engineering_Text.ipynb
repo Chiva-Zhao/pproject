{
 "cells": [
  {
   "cell_type": "code",
   "execution_count": 21,
   "metadata": {
    "collapsed": true,
    "pycharm": {
     "is_executing": false
    }
   },
   "outputs": [],
   "source": [
    "import pandas as pd\n",
    "import numpy as np\n",
    "import re\n",
    "import nltk"
   ]
  },
  {
   "cell_type": "markdown",
   "source": [
    "#### Sample corpus of text documents\n",
    "Let’s now load some sample text documents, do some basic pre-processing, and learn about various\n",
    "feature engineering strategies to deal with text data. "
   ],
   "metadata": {
    "collapsed": false,
    "pycharm": {
     "name": "#%% md\n"
    }
   }
  },
  {
   "cell_type": "code",
   "execution_count": 22,
   "outputs": [
    {
     "data": {
      "text/plain": "                                            Document Category\n0                     The sky is blue and beautiful.  weather\n1                  Love this blue and beautiful sky!  weather\n2       The quick brown fox jumps over the lazy dog.  animals\n3   The brown fox is quick and the blue dog is lazy!  animals\n4  The sky is very blue and the sky is very beaut...  weather\n5        The dog is lazy but the brown fox is quick!  animals",
      "text/html": "<div>\n<style scoped>\n    .dataframe tbody tr th:only-of-type {\n        vertical-align: middle;\n    }\n\n    .dataframe tbody tr th {\n        vertical-align: top;\n    }\n\n    .dataframe thead th {\n        text-align: right;\n    }\n</style>\n<table border=\"1\" class=\"dataframe\">\n  <thead>\n    <tr style=\"text-align: right;\">\n      <th></th>\n      <th>Document</th>\n      <th>Category</th>\n    </tr>\n  </thead>\n  <tbody>\n    <tr>\n      <th>0</th>\n      <td>The sky is blue and beautiful.</td>\n      <td>weather</td>\n    </tr>\n    <tr>\n      <th>1</th>\n      <td>Love this blue and beautiful sky!</td>\n      <td>weather</td>\n    </tr>\n    <tr>\n      <th>2</th>\n      <td>The quick brown fox jumps over the lazy dog.</td>\n      <td>animals</td>\n    </tr>\n    <tr>\n      <th>3</th>\n      <td>The brown fox is quick and the blue dog is lazy!</td>\n      <td>animals</td>\n    </tr>\n    <tr>\n      <th>4</th>\n      <td>The sky is very blue and the sky is very beaut...</td>\n      <td>weather</td>\n    </tr>\n    <tr>\n      <th>5</th>\n      <td>The dog is lazy but the brown fox is quick!</td>\n      <td>animals</td>\n    </tr>\n  </tbody>\n</table>\n</div>"
     },
     "metadata": {},
     "output_type": "execute_result",
     "execution_count": 22
    }
   ],
   "source": [
    "corpus = ['The sky is blue and beautiful.',\n",
    "          'Love this blue and beautiful sky!',\n",
    "          'The quick brown fox jumps over the lazy dog.',\n",
    "          'The brown fox is quick and the blue dog is lazy!',\n",
    "          'The sky is very blue and the sky is very beautiful today',\n",
    "          'The dog is lazy but the brown fox is quick!'    \n",
    "]\n",
    "labels = ['weather', 'weather', 'animals', 'animals', 'weather', 'animals']\n",
    "corpus = np.array(corpus)\n",
    "corpus_df = pd.DataFrame({'Document': corpus, \n",
    "                          'Category': labels})\n",
    "corpus_df = corpus_df[['Document', 'Category']]\n",
    "corpus_df"
   ],
   "metadata": {
    "collapsed": false,
    "pycharm": {
     "name": "#%%\n",
     "is_executing": false
    }
   }
  },
  {
   "cell_type": "markdown",
   "source": [
    "#### Simple text pre-processing"
   ],
   "metadata": {
    "collapsed": false,
    "pycharm": {
     "name": "#%% md\n"
    }
   }
  },
  {
   "cell_type": "code",
   "execution_count": 23,
   "outputs": [],
   "source": [
    "wpt = nltk.WordPunctTokenizer()\n",
    "stop_words = nltk.corpus.stopwords.words('english')\n",
    "def normalize_document(doc):\n",
    "    # lower case and remove special characters\\whitespaces\n",
    "    doc = re.sub(r'[^a-zA-Z0-9\\s]', '', doc, re.I)\n",
    "    doc = doc.lower()\n",
    "    doc = doc.strip()\n",
    "    # tokenize document\n",
    "    tokens = wpt.tokenize(doc)\n",
    "    # filter stopwords out of document\n",
    "    filtered_tokens = [token for token in tokens if token not in stop_words]\n",
    "    # re-create document from filtered tokens\n",
    "    doc = ' '.join(filtered_tokens)\n",
    "    return doc\n",
    "\n",
    "normalize_corpus = np.vectorize(normalize_document)"
   ],
   "metadata": {
    "collapsed": false,
    "pycharm": {
     "name": "#%%\n",
     "is_executing": false
    }
   }
  },
  {
   "cell_type": "code",
   "execution_count": 24,
   "outputs": [
    {
     "data": {
      "text/plain": "array(['sky blue beautiful', 'love blue beautiful sky',\n       'quick brown fox jumps lazy dog', 'brown fox quick blue dog lazy',\n       'sky blue sky beautiful today', 'dog lazy brown fox quick'],\n      dtype='<U30')"
     },
     "metadata": {},
     "output_type": "execute_result",
     "execution_count": 24
    }
   ],
   "source": [
    "norm_corpus = normalize_corpus(corpus)\n",
    "norm_corpus"
   ],
   "metadata": {
    "collapsed": false,
    "pycharm": {
     "name": "#%%\n",
     "is_executing": false
    }
   }
  },
  {
   "cell_type": "markdown",
   "source": [
    "#### Bag of Words Model"
   ],
   "metadata": {
    "collapsed": false,
    "pycharm": {
     "name": "#%% md\n"
    }
   }
  },
  {
   "cell_type": "code",
   "execution_count": 25,
   "outputs": [
    {
     "data": {
      "text/plain": "array([[1, 1, 0, 0, 0, 0, 0, 0, 0, 1, 0],\n       [1, 1, 0, 0, 0, 0, 0, 1, 0, 1, 0],\n       [0, 0, 1, 1, 1, 1, 1, 0, 1, 0, 0],\n       [0, 1, 1, 1, 1, 0, 1, 0, 1, 0, 0],\n       [1, 1, 0, 0, 0, 0, 0, 0, 0, 2, 1],\n       [0, 0, 1, 1, 1, 0, 1, 0, 1, 0, 0]], dtype=int64)"
     },
     "metadata": {},
     "output_type": "execute_result",
     "execution_count": 25
    }
   ],
   "source": [
    "from sklearn.feature_extraction.text import CountVectorizer\n",
    "cv = CountVectorizer(min_df=0., max_df=1.)\n",
    "cv_matrix = cv.fit_transform(norm_corpus).toarray()\n",
    "cv_matrix"
   ],
   "metadata": {
    "collapsed": false,
    "pycharm": {
     "name": "#%%\n",
     "is_executing": false
    }
   }
  },
  {
   "cell_type": "code",
   "execution_count": 26,
   "outputs": [
    {
     "data": {
      "text/plain": "   beautiful  blue  brown  dog  fox  jumps  lazy  love  quick  sky  today\n0          1     1      0    0    0      0     0     0      0    1      0\n1          1     1      0    0    0      0     0     1      0    1      0\n2          0     0      1    1    1      1     1     0      1    0      0\n3          0     1      1    1    1      0     1     0      1    0      0\n4          1     1      0    0    0      0     0     0      0    2      1\n5          0     0      1    1    1      0     1     0      1    0      0",
      "text/html": "<div>\n<style scoped>\n    .dataframe tbody tr th:only-of-type {\n        vertical-align: middle;\n    }\n\n    .dataframe tbody tr th {\n        vertical-align: top;\n    }\n\n    .dataframe thead th {\n        text-align: right;\n    }\n</style>\n<table border=\"1\" class=\"dataframe\">\n  <thead>\n    <tr style=\"text-align: right;\">\n      <th></th>\n      <th>beautiful</th>\n      <th>blue</th>\n      <th>brown</th>\n      <th>dog</th>\n      <th>fox</th>\n      <th>jumps</th>\n      <th>lazy</th>\n      <th>love</th>\n      <th>quick</th>\n      <th>sky</th>\n      <th>today</th>\n    </tr>\n  </thead>\n  <tbody>\n    <tr>\n      <th>0</th>\n      <td>1</td>\n      <td>1</td>\n      <td>0</td>\n      <td>0</td>\n      <td>0</td>\n      <td>0</td>\n      <td>0</td>\n      <td>0</td>\n      <td>0</td>\n      <td>1</td>\n      <td>0</td>\n    </tr>\n    <tr>\n      <th>1</th>\n      <td>1</td>\n      <td>1</td>\n      <td>0</td>\n      <td>0</td>\n      <td>0</td>\n      <td>0</td>\n      <td>0</td>\n      <td>1</td>\n      <td>0</td>\n      <td>1</td>\n      <td>0</td>\n    </tr>\n    <tr>\n      <th>2</th>\n      <td>0</td>\n      <td>0</td>\n      <td>1</td>\n      <td>1</td>\n      <td>1</td>\n      <td>1</td>\n      <td>1</td>\n      <td>0</td>\n      <td>1</td>\n      <td>0</td>\n      <td>0</td>\n    </tr>\n    <tr>\n      <th>3</th>\n      <td>0</td>\n      <td>1</td>\n      <td>1</td>\n      <td>1</td>\n      <td>1</td>\n      <td>0</td>\n      <td>1</td>\n      <td>0</td>\n      <td>1</td>\n      <td>0</td>\n      <td>0</td>\n    </tr>\n    <tr>\n      <th>4</th>\n      <td>1</td>\n      <td>1</td>\n      <td>0</td>\n      <td>0</td>\n      <td>0</td>\n      <td>0</td>\n      <td>0</td>\n      <td>0</td>\n      <td>0</td>\n      <td>2</td>\n      <td>1</td>\n    </tr>\n    <tr>\n      <th>5</th>\n      <td>0</td>\n      <td>0</td>\n      <td>1</td>\n      <td>1</td>\n      <td>1</td>\n      <td>0</td>\n      <td>1</td>\n      <td>0</td>\n      <td>1</td>\n      <td>0</td>\n      <td>0</td>\n    </tr>\n  </tbody>\n</table>\n</div>"
     },
     "metadata": {},
     "output_type": "execute_result",
     "execution_count": 26
    }
   ],
   "source": [
    "vocab = cv.get_feature_names()\n",
    "pd.DataFrame(cv_matrix,columns=vocab)"
   ],
   "metadata": {
    "collapsed": false,
    "pycharm": {
     "name": "#%%\n",
     "is_executing": false
    }
   }
  },
  {
   "cell_type": "markdown",
   "source": [
    "#### Bag of N-Grams Model"
   ],
   "metadata": {
    "collapsed": false,
    "pycharm": {
     "name": "#%% md\n"
    }
   }
  },
  {
   "cell_type": "code",
   "execution_count": 27,
   "outputs": [
    {
     "data": {
      "text/plain": "   beautiful sky  beautiful today  blue beautiful  blue dog  blue sky  \\\n0              0                0               1         0         0   \n1              1                0               1         0         0   \n2              0                0               0         0         0   \n3              0                0               0         1         0   \n4              0                1               0         0         1   \n5              0                0               0         0         0   \n\n   brown fox  dog lazy  fox jumps  fox quick  jumps lazy  lazy brown  \\\n0          0         0          0          0           0           0   \n1          0         0          0          0           0           0   \n2          1         0          1          0           1           0   \n3          1         1          0          1           0           0   \n4          0         0          0          0           0           0   \n5          1         1          0          1           0           1   \n\n   lazy dog  love blue  quick blue  quick brown  sky beautiful  sky blue  \n0         0          0           0            0              0         1  \n1         0          1           0            0              0         0  \n2         1          0           0            1              0         0  \n3         0          0           1            0              0         0  \n4         0          0           0            0              1         1  \n5         0          0           0            0              0         0  ",
      "text/html": "<div>\n<style scoped>\n    .dataframe tbody tr th:only-of-type {\n        vertical-align: middle;\n    }\n\n    .dataframe tbody tr th {\n        vertical-align: top;\n    }\n\n    .dataframe thead th {\n        text-align: right;\n    }\n</style>\n<table border=\"1\" class=\"dataframe\">\n  <thead>\n    <tr style=\"text-align: right;\">\n      <th></th>\n      <th>beautiful sky</th>\n      <th>beautiful today</th>\n      <th>blue beautiful</th>\n      <th>blue dog</th>\n      <th>blue sky</th>\n      <th>brown fox</th>\n      <th>dog lazy</th>\n      <th>fox jumps</th>\n      <th>fox quick</th>\n      <th>jumps lazy</th>\n      <th>lazy brown</th>\n      <th>lazy dog</th>\n      <th>love blue</th>\n      <th>quick blue</th>\n      <th>quick brown</th>\n      <th>sky beautiful</th>\n      <th>sky blue</th>\n    </tr>\n  </thead>\n  <tbody>\n    <tr>\n      <th>0</th>\n      <td>0</td>\n      <td>0</td>\n      <td>1</td>\n      <td>0</td>\n      <td>0</td>\n      <td>0</td>\n      <td>0</td>\n      <td>0</td>\n      <td>0</td>\n      <td>0</td>\n      <td>0</td>\n      <td>0</td>\n      <td>0</td>\n      <td>0</td>\n      <td>0</td>\n      <td>0</td>\n      <td>1</td>\n    </tr>\n    <tr>\n      <th>1</th>\n      <td>1</td>\n      <td>0</td>\n      <td>1</td>\n      <td>0</td>\n      <td>0</td>\n      <td>0</td>\n      <td>0</td>\n      <td>0</td>\n      <td>0</td>\n      <td>0</td>\n      <td>0</td>\n      <td>0</td>\n      <td>1</td>\n      <td>0</td>\n      <td>0</td>\n      <td>0</td>\n      <td>0</td>\n    </tr>\n    <tr>\n      <th>2</th>\n      <td>0</td>\n      <td>0</td>\n      <td>0</td>\n      <td>0</td>\n      <td>0</td>\n      <td>1</td>\n      <td>0</td>\n      <td>1</td>\n      <td>0</td>\n      <td>1</td>\n      <td>0</td>\n      <td>1</td>\n      <td>0</td>\n      <td>0</td>\n      <td>1</td>\n      <td>0</td>\n      <td>0</td>\n    </tr>\n    <tr>\n      <th>3</th>\n      <td>0</td>\n      <td>0</td>\n      <td>0</td>\n      <td>1</td>\n      <td>0</td>\n      <td>1</td>\n      <td>1</td>\n      <td>0</td>\n      <td>1</td>\n      <td>0</td>\n      <td>0</td>\n      <td>0</td>\n      <td>0</td>\n      <td>1</td>\n      <td>0</td>\n      <td>0</td>\n      <td>0</td>\n    </tr>\n    <tr>\n      <th>4</th>\n      <td>0</td>\n      <td>1</td>\n      <td>0</td>\n      <td>0</td>\n      <td>1</td>\n      <td>0</td>\n      <td>0</td>\n      <td>0</td>\n      <td>0</td>\n      <td>0</td>\n      <td>0</td>\n      <td>0</td>\n      <td>0</td>\n      <td>0</td>\n      <td>0</td>\n      <td>1</td>\n      <td>1</td>\n    </tr>\n    <tr>\n      <th>5</th>\n      <td>0</td>\n      <td>0</td>\n      <td>0</td>\n      <td>0</td>\n      <td>0</td>\n      <td>1</td>\n      <td>1</td>\n      <td>0</td>\n      <td>1</td>\n      <td>0</td>\n      <td>1</td>\n      <td>0</td>\n      <td>0</td>\n      <td>0</td>\n      <td>0</td>\n      <td>0</td>\n      <td>0</td>\n    </tr>\n  </tbody>\n</table>\n</div>"
     },
     "metadata": {},
     "output_type": "execute_result",
     "execution_count": 27
    }
   ],
   "source": [
    "# Bi-grams indicate n-grams of order 2 (two words), Tri-grams indicate n-grams of order 3 (three words), and so on. \n",
    "# We can easily extend the bag of words model to use a bag of n-grams model to give us n-gram based feature vectors\n",
    "bv = CountVectorizer(ngram_range=(2,2))\n",
    "bv_matrix = bv.fit_transform(norm_corpus).toarray()\n",
    "vocab = bv.get_feature_names()\n",
    "pd.DataFrame(bv_matrix, columns=vocab)"
   ],
   "metadata": {
    "collapsed": false,
    "pycharm": {
     "name": "#%%\n",
     "is_executing": false
    }
   }
  },
  {
   "cell_type": "markdown",
   "source": [
    "#### TF-IDF Model\n",
    "TF-IDF stands for Term Frequency-Inverse Document Frequency, which uses a combination of two metrics in\n",
    "its computation, namely: term frequency (tf) and inverse document frequency (idf). This technique was\n",
    "developed for ranking results for queries in search engines and now it is an indispensable model in the\n",
    "world of information retrieval and text analytics.\n",
    "\n",
    "$tfidf(w,D)=tf(w,D)\\times\\ idf(w,D)=tf(w,D)\\times\\ log\\bigg(\\frac{C}{df(w)}\\bigg)$\n",
    "\n",
    "Here, $tfidf (w, D)$ is the TF-IDF score for word w in document D. The term $tf (w, D)$ represents the term\n",
    "frequency of the word w in document D, which can be obtained from the Bag of Words model. The term\n",
    "$idf (w, D)$ is the inverse document frequency for the term w, which can be computed as the log transform\n",
    "of the total number of documents in the corpus C divided by the document frequency of the word w,\n",
    "which is basically the frequency of documents in the corpus where the word w occurs."
   ],
   "metadata": {
    "collapsed": false,
    "pycharm": {
     "name": "#%% md\n"
    }
   }
  },
  {
   "cell_type": "code",
   "execution_count": 45,
   "outputs": [
    {
     "name": "stdout",
     "text": [
      "['beautiful', 'blue', 'brown', 'dog', 'fox', 'jumps', 'lazy', 'love', 'quick', 'sky', 'today']\n"
     ],
     "output_type": "stream"
    },
    {
     "data": {
      "text/plain": "   beautiful  blue  brown   dog   fox  jumps  lazy  love  quick   sky  today\n0       0.60  0.52   0.00  0.00  0.00   0.00  0.00  0.00   0.00  0.60   0.00\n1       0.46  0.39   0.00  0.00  0.00   0.00  0.00  0.66   0.00  0.46   0.00\n2       0.00  0.00   0.38  0.38  0.38   0.54  0.38  0.00   0.38  0.00   0.00\n3       0.00  0.36   0.42  0.42  0.42   0.00  0.42  0.00   0.42  0.00   0.00\n4       0.36  0.31   0.00  0.00  0.00   0.00  0.00  0.00   0.00  0.72   0.52\n5       0.00  0.00   0.45  0.45  0.45   0.00  0.45  0.00   0.45  0.00   0.00",
      "text/html": "<div>\n<style scoped>\n    .dataframe tbody tr th:only-of-type {\n        vertical-align: middle;\n    }\n\n    .dataframe tbody tr th {\n        vertical-align: top;\n    }\n\n    .dataframe thead th {\n        text-align: right;\n    }\n</style>\n<table border=\"1\" class=\"dataframe\">\n  <thead>\n    <tr style=\"text-align: right;\">\n      <th></th>\n      <th>beautiful</th>\n      <th>blue</th>\n      <th>brown</th>\n      <th>dog</th>\n      <th>fox</th>\n      <th>jumps</th>\n      <th>lazy</th>\n      <th>love</th>\n      <th>quick</th>\n      <th>sky</th>\n      <th>today</th>\n    </tr>\n  </thead>\n  <tbody>\n    <tr>\n      <th>0</th>\n      <td>0.60</td>\n      <td>0.52</td>\n      <td>0.00</td>\n      <td>0.00</td>\n      <td>0.00</td>\n      <td>0.00</td>\n      <td>0.00</td>\n      <td>0.00</td>\n      <td>0.00</td>\n      <td>0.60</td>\n      <td>0.00</td>\n    </tr>\n    <tr>\n      <th>1</th>\n      <td>0.46</td>\n      <td>0.39</td>\n      <td>0.00</td>\n      <td>0.00</td>\n      <td>0.00</td>\n      <td>0.00</td>\n      <td>0.00</td>\n      <td>0.66</td>\n      <td>0.00</td>\n      <td>0.46</td>\n      <td>0.00</td>\n    </tr>\n    <tr>\n      <th>2</th>\n      <td>0.00</td>\n      <td>0.00</td>\n      <td>0.38</td>\n      <td>0.38</td>\n      <td>0.38</td>\n      <td>0.54</td>\n      <td>0.38</td>\n      <td>0.00</td>\n      <td>0.38</td>\n      <td>0.00</td>\n      <td>0.00</td>\n    </tr>\n    <tr>\n      <th>3</th>\n      <td>0.00</td>\n      <td>0.36</td>\n      <td>0.42</td>\n      <td>0.42</td>\n      <td>0.42</td>\n      <td>0.00</td>\n      <td>0.42</td>\n      <td>0.00</td>\n      <td>0.42</td>\n      <td>0.00</td>\n      <td>0.00</td>\n    </tr>\n    <tr>\n      <th>4</th>\n      <td>0.36</td>\n      <td>0.31</td>\n      <td>0.00</td>\n      <td>0.00</td>\n      <td>0.00</td>\n      <td>0.00</td>\n      <td>0.00</td>\n      <td>0.00</td>\n      <td>0.00</td>\n      <td>0.72</td>\n      <td>0.52</td>\n    </tr>\n    <tr>\n      <th>5</th>\n      <td>0.00</td>\n      <td>0.00</td>\n      <td>0.45</td>\n      <td>0.45</td>\n      <td>0.45</td>\n      <td>0.00</td>\n      <td>0.45</td>\n      <td>0.00</td>\n      <td>0.45</td>\n      <td>0.00</td>\n      <td>0.00</td>\n    </tr>\n  </tbody>\n</table>\n</div>"
     },
     "metadata": {},
     "output_type": "execute_result",
     "execution_count": 45
    }
   ],
   "source": [
    "from sklearn.feature_extraction.text import TfidfVectorizer\n",
    "tv = TfidfVectorizer(min_df=0., max_df=1., use_idf=True)\n",
    "tv_matrix = tv.fit_transform(norm_corpus)\n",
    "tv_matrix = tv_matrix.toarray()\n",
    "\n",
    "vocab = tv.get_feature_names()\n",
    "pd.DataFrame(np.round(tv_matrix, 2), columns=vocab)"
   ],
   "metadata": {
    "collapsed": false,
    "pycharm": {
     "name": "#%%\n",
     "is_executing": false
    }
   }
  },
  {
   "cell_type": "markdown",
   "source": [
    "#### Document Similarity"
   ],
   "metadata": {
    "collapsed": false,
    "pycharm": {
     "name": "#%% md\n"
    }
   }
  },
  {
   "cell_type": "code",
   "execution_count": 29,
   "outputs": [
    {
     "data": {
      "text/plain": "          0         1         2         3         4         5\n0  1.000000  0.753128  0.000000  0.185447  0.807539  0.000000\n1  0.753128  1.000000  0.000000  0.139665  0.608181  0.000000\n2  0.000000  0.000000  1.000000  0.784362  0.000000  0.839987\n3  0.185447  0.139665  0.784362  1.000000  0.109653  0.933779\n4  0.807539  0.608181  0.000000  0.109653  1.000000  0.000000\n5  0.000000  0.000000  0.839987  0.933779  0.000000  1.000000",
      "text/html": "<div>\n<style scoped>\n    .dataframe tbody tr th:only-of-type {\n        vertical-align: middle;\n    }\n\n    .dataframe tbody tr th {\n        vertical-align: top;\n    }\n\n    .dataframe thead th {\n        text-align: right;\n    }\n</style>\n<table border=\"1\" class=\"dataframe\">\n  <thead>\n    <tr style=\"text-align: right;\">\n      <th></th>\n      <th>0</th>\n      <th>1</th>\n      <th>2</th>\n      <th>3</th>\n      <th>4</th>\n      <th>5</th>\n    </tr>\n  </thead>\n  <tbody>\n    <tr>\n      <th>0</th>\n      <td>1.000000</td>\n      <td>0.753128</td>\n      <td>0.000000</td>\n      <td>0.185447</td>\n      <td>0.807539</td>\n      <td>0.000000</td>\n    </tr>\n    <tr>\n      <th>1</th>\n      <td>0.753128</td>\n      <td>1.000000</td>\n      <td>0.000000</td>\n      <td>0.139665</td>\n      <td>0.608181</td>\n      <td>0.000000</td>\n    </tr>\n    <tr>\n      <th>2</th>\n      <td>0.000000</td>\n      <td>0.000000</td>\n      <td>1.000000</td>\n      <td>0.784362</td>\n      <td>0.000000</td>\n      <td>0.839987</td>\n    </tr>\n    <tr>\n      <th>3</th>\n      <td>0.185447</td>\n      <td>0.139665</td>\n      <td>0.784362</td>\n      <td>1.000000</td>\n      <td>0.109653</td>\n      <td>0.933779</td>\n    </tr>\n    <tr>\n      <th>4</th>\n      <td>0.807539</td>\n      <td>0.608181</td>\n      <td>0.000000</td>\n      <td>0.109653</td>\n      <td>1.000000</td>\n      <td>0.000000</td>\n    </tr>\n    <tr>\n      <th>5</th>\n      <td>0.000000</td>\n      <td>0.000000</td>\n      <td>0.839987</td>\n      <td>0.933779</td>\n      <td>0.000000</td>\n      <td>1.000000</td>\n    </tr>\n  </tbody>\n</table>\n</div>"
     },
     "metadata": {},
     "output_type": "execute_result",
     "execution_count": 29
    }
   ],
   "source": [
    "from sklearn.metrics.pairwise import cosine_similarity\n",
    "similarity_matrix = cosine_similarity(tv_matrix)\n",
    "similarity_df = pd.DataFrame(similarity_matrix)\n",
    "similarity_df"
   ],
   "metadata": {
    "collapsed": false,
    "pycharm": {
     "name": "#%%\n",
     "is_executing": false
    }
   }
  },
  {
   "cell_type": "markdown",
   "source": [
    "#### Clustering documents using similarity features"
   ],
   "metadata": {
    "collapsed": false,
    "pycharm": {
     "name": "#%% md\n"
    }
   }
  },
  {
   "cell_type": "code",
   "execution_count": 31,
   "outputs": [
    {
     "data": {
      "text/plain": "                                            Document Category  ClusterLabel\n0                     The sky is blue and beautiful.  weather             0\n1                  Love this blue and beautiful sky!  weather             0\n2       The quick brown fox jumps over the lazy dog.  animals             1\n3   The brown fox is quick and the blue dog is lazy!  animals             1\n4  The sky is very blue and the sky is very beaut...  weather             0\n5        The dog is lazy but the brown fox is quick!  animals             1",
      "text/html": "<div>\n<style scoped>\n    .dataframe tbody tr th:only-of-type {\n        vertical-align: middle;\n    }\n\n    .dataframe tbody tr th {\n        vertical-align: top;\n    }\n\n    .dataframe thead th {\n        text-align: right;\n    }\n</style>\n<table border=\"1\" class=\"dataframe\">\n  <thead>\n    <tr style=\"text-align: right;\">\n      <th></th>\n      <th>Document</th>\n      <th>Category</th>\n      <th>ClusterLabel</th>\n    </tr>\n  </thead>\n  <tbody>\n    <tr>\n      <th>0</th>\n      <td>The sky is blue and beautiful.</td>\n      <td>weather</td>\n      <td>0</td>\n    </tr>\n    <tr>\n      <th>1</th>\n      <td>Love this blue and beautiful sky!</td>\n      <td>weather</td>\n      <td>0</td>\n    </tr>\n    <tr>\n      <th>2</th>\n      <td>The quick brown fox jumps over the lazy dog.</td>\n      <td>animals</td>\n      <td>1</td>\n    </tr>\n    <tr>\n      <th>3</th>\n      <td>The brown fox is quick and the blue dog is lazy!</td>\n      <td>animals</td>\n      <td>1</td>\n    </tr>\n    <tr>\n      <th>4</th>\n      <td>The sky is very blue and the sky is very beaut...</td>\n      <td>weather</td>\n      <td>0</td>\n    </tr>\n    <tr>\n      <th>5</th>\n      <td>The dog is lazy but the brown fox is quick!</td>\n      <td>animals</td>\n      <td>1</td>\n    </tr>\n  </tbody>\n</table>\n</div>"
     },
     "metadata": {},
     "output_type": "execute_result",
     "execution_count": 31
    }
   ],
   "source": [
    "from sklearn.cluster import KMeans\n",
    "km = KMeans(n_clusters=2)\n",
    "km.fit_transform(similarity_df)\n",
    "cluster_labels = km.labels_\n",
    "cluster_labels = pd.DataFrame(cluster_labels, columns=['ClusterLabel'])\n",
    "pd.concat([corpus_df, cluster_labels], axis=1)"
   ],
   "metadata": {
    "collapsed": false,
    "pycharm": {
     "name": "#%%\n",
     "is_executing": false
    }
   }
  },
  {
   "cell_type": "markdown",
   "source": [
    "### Topic models\n",
    "There are various techniques for topic modeling and most of them involve some form of matrix\n",
    "decomposition. Some techniques like Latent Semantic Indexing (LSI) use matrix decomposition operations,\n",
    "more specifically Singular Valued Decomposition (refer back to important mathematical concepts in\n",
    "Chapter 1), to split a term-document matrix (transpose of our TF-IDF document-term feature matrix) into\n",
    "three matrices, U, S & VT. You can use the left singular vectors in matrix U and multiply it by the singular\n",
    "vectors S to get terms and their weights (signifying importance) per topic. You can use scikit-learn or\n",
    "gensim to use LSI based topic modeling."
   ],
   "metadata": {
    "collapsed": false,
    "pycharm": {
     "name": "#%% md\n"
    }
   }
  },
  {
   "cell_type": "code",
   "execution_count": 41,
   "outputs": [
    {
     "data": {
      "text/plain": "         T1        T2\n0  0.190548  0.809452\n1  0.176804  0.823196\n2  0.846184  0.153816\n3  0.814863  0.185137\n4  0.180516  0.819484\n5  0.839172  0.160828",
      "text/html": "<div>\n<style scoped>\n    .dataframe tbody tr th:only-of-type {\n        vertical-align: middle;\n    }\n\n    .dataframe tbody tr th {\n        vertical-align: top;\n    }\n\n    .dataframe thead th {\n        text-align: right;\n    }\n</style>\n<table border=\"1\" class=\"dataframe\">\n  <thead>\n    <tr style=\"text-align: right;\">\n      <th></th>\n      <th>T1</th>\n      <th>T2</th>\n    </tr>\n  </thead>\n  <tbody>\n    <tr>\n      <th>0</th>\n      <td>0.190548</td>\n      <td>0.809452</td>\n    </tr>\n    <tr>\n      <th>1</th>\n      <td>0.176804</td>\n      <td>0.823196</td>\n    </tr>\n    <tr>\n      <th>2</th>\n      <td>0.846184</td>\n      <td>0.153816</td>\n    </tr>\n    <tr>\n      <th>3</th>\n      <td>0.814863</td>\n      <td>0.185137</td>\n    </tr>\n    <tr>\n      <th>4</th>\n      <td>0.180516</td>\n      <td>0.819484</td>\n    </tr>\n    <tr>\n      <th>5</th>\n      <td>0.839172</td>\n      <td>0.160828</td>\n    </tr>\n  </tbody>\n</table>\n</div>"
     },
     "metadata": {},
     "output_type": "execute_result",
     "execution_count": 41
    }
   ],
   "source": [
    "from sklearn.decomposition import LatentDirichletAllocation\n",
    "lda = LatentDirichletAllocation(n_components=2, max_iter=100, random_state=42)\n",
    "dt_matrix = lda.fit_transform(tv_matrix)\n",
    "feature = pd.DataFrame(dt_matrix,columns=['T1', 'T2'])\n",
    "feature"
   ],
   "metadata": {
    "collapsed": false,
    "pycharm": {
     "name": "#%%\n",
     "is_executing": false
    }
   }
  },
  {
   "cell_type": "markdown",
   "source": [
    "#### Show topics and their weights\n",
    "Thus, the `dt_matrix` refers to the document-topic matrix giving us two features since we chose number\n",
    "of topics to be 2. You can also use the other matrix obtained from the decomposition, the topic-term matrix\n",
    "to see the topics extracted from our corpus using the LDA model using the following code"
   ],
   "metadata": {
    "collapsed": false,
    "pycharm": {
     "name": "#%% md\n"
    }
   }
  },
  {
   "cell_type": "code",
   "execution_count": 46,
   "outputs": [
    {
     "name": "stdout",
     "text": [
      "[[0.51095945 0.77315732 1.72736387 1.72736387 1.72736387 1.03283253\n  1.72736387 0.50974622 1.72736387 0.51098278 0.50968019]\n [1.90682693 1.79962821 0.51310187 0.51310187 0.51310187 0.50977437\n  0.51310187 1.14812724 0.51310187 2.26438664 1.00682512]]\n[('brown', 1.7273638692668465), ('dog', 1.7273638692668465), ('fox', 1.7273638692668465), ('lazy', 1.7273638692668465), ('quick', 1.7273638692668465), ('jumps', 1.0328325272484777), ('blue', 0.7731573162915626)]\n\n[('sky', 2.264386643135622), ('beautiful', 1.9068269319456903), ('blue', 1.7996282104933266), ('love', 1.148127242397004), ('today', 1.0068251160429935)]\n\n"
     ],
     "output_type": "stream"
    }
   ],
   "source": [
    "tt_matrix = lda.components_\n",
    "print(tt_matrix)\n",
    "for topic_weights in tt_matrix:\n",
    "    topic = [(token, weight) for token, weight in zip(vocab, topic_weights)]\n",
    "    topic = sorted(topic, key=lambda x: -x[1])\n",
    "    topic = [item for item in topic if item[1] > 0.6]\n",
    "    print(topic)\n",
    "    print()"
   ],
   "metadata": {
    "collapsed": false,
    "pycharm": {
     "name": "#%%\n",
     "is_executing": false
    }
   }
  },
  {
   "cell_type": "markdown",
   "source": [
    "#### Clustering documents using topic model features\n",
    "The preceding output represents each of the two topics as a collection of terms and their importance\n",
    "is depicted by the corresponding weight. It is definitely interesting to see that the two topics are quite\n",
    "distinguishable from each other by looking at the terms. The first topic shows terms relevant to animals and\n",
    "the second topic shows terms relevant to weather. This is reinforced by applying our unsupervised K-means\n",
    "clustering algorithm on our document-topic feature matrix (dt_matrix) using the following code snippet."
   ],
   "metadata": {
    "collapsed": false,
    "pycharm": {
     "name": "#%% md\n"
    }
   }
  },
  {
   "cell_type": "code",
   "execution_count": 60,
   "outputs": [
    {
     "data": {
      "text/plain": "                                            Document Category  ClusterLabel\n0                     The sky is blue and beautiful.  weather             0\n1                  Love this blue and beautiful sky!  weather             0\n2       The quick brown fox jumps over the lazy dog.  animals             1\n3   The brown fox is quick and the blue dog is lazy!  animals             1\n4  The sky is very blue and the sky is very beaut...  weather             0\n5        The dog is lazy but the brown fox is quick!  animals             1",
      "text/html": "<div>\n<style scoped>\n    .dataframe tbody tr th:only-of-type {\n        vertical-align: middle;\n    }\n\n    .dataframe tbody tr th {\n        vertical-align: top;\n    }\n\n    .dataframe thead th {\n        text-align: right;\n    }\n</style>\n<table border=\"1\" class=\"dataframe\">\n  <thead>\n    <tr style=\"text-align: right;\">\n      <th></th>\n      <th>Document</th>\n      <th>Category</th>\n      <th>ClusterLabel</th>\n    </tr>\n  </thead>\n  <tbody>\n    <tr>\n      <th>0</th>\n      <td>The sky is blue and beautiful.</td>\n      <td>weather</td>\n      <td>0</td>\n    </tr>\n    <tr>\n      <th>1</th>\n      <td>Love this blue and beautiful sky!</td>\n      <td>weather</td>\n      <td>0</td>\n    </tr>\n    <tr>\n      <th>2</th>\n      <td>The quick brown fox jumps over the lazy dog.</td>\n      <td>animals</td>\n      <td>1</td>\n    </tr>\n    <tr>\n      <th>3</th>\n      <td>The brown fox is quick and the blue dog is lazy!</td>\n      <td>animals</td>\n      <td>1</td>\n    </tr>\n    <tr>\n      <th>4</th>\n      <td>The sky is very blue and the sky is very beaut...</td>\n      <td>weather</td>\n      <td>0</td>\n    </tr>\n    <tr>\n      <th>5</th>\n      <td>The dog is lazy but the brown fox is quick!</td>\n      <td>animals</td>\n      <td>1</td>\n    </tr>\n  </tbody>\n</table>\n</div>"
     },
     "metadata": {},
     "output_type": "execute_result",
     "execution_count": 60
    }
   ],
   "source": [
    "km = KMeans(2)    \n",
    "km.fit(feature)\n",
    "cluster_labels = km.labels_\n",
    "cluster_labels = pd.DataFrame(cluster_labels, columns=['ClusterLabel'])\n",
    "pd.concat([corpus_df,cluster_labels],axis=1)"
   ],
   "metadata": {
    "collapsed": false,
    "pycharm": {
     "name": "#%%\n",
     "is_executing": false
    }
   }
  },
  {
   "cell_type": "markdown",
   "source": [
    "### Word Embeddings\n",
    "- **size**: Represents the feature vector size for each word in the corpus when\n",
    "transformed.\n",
    "- **window**: Sets the context window size specifying the length of the window of words to\n",
    "be taken into account as belonging to a single, similar context when training.\n",
    "- **min_count**: Specifies the minimum word frequency value needed across the corpus\n",
    "to consider the word as a part of the final vocabulary during training the model.\n",
    "- **sample**: Used to downsample the effects of words which occur very frequently."
   ],
   "metadata": {
    "collapsed": false,
    "pycharm": {
     "name": "#%% md\n"
    }
   }
  },
  {
   "cell_type": "code",
   "execution_count": 62,
   "outputs": [
    {
     "traceback": [
      "\u001b[1;31m---------------------------------------------------------------------------\u001b[0m",
      "\u001b[1;31mTypeError\u001b[0m                                 Traceback (most recent call last)",
      "\u001b[1;32m<ipython-input-62-4ba4f5c396ac>\u001b[0m in \u001b[0;36m<module>\u001b[1;34m\u001b[0m\n\u001b[0;32m     13\u001b[0m                           \u001b[0mwindow\u001b[0m\u001b[1;33m=\u001b[0m\u001b[0mwindow_context\u001b[0m\u001b[1;33m,\u001b[0m \u001b[0mmin_count\u001b[0m \u001b[1;33m=\u001b[0m \u001b[0mmin_word_count\u001b[0m\u001b[1;33m,\u001b[0m\u001b[1;33m\u001b[0m\u001b[1;33m\u001b[0m\u001b[0m\n\u001b[0;32m     14\u001b[0m                           sample=sample)\n\u001b[1;32m---> 15\u001b[1;33m \u001b[0mw2v_model\u001b[0m\u001b[1;33m.\u001b[0m\u001b[0mwv\u001b[0m\u001b[1;33m(\u001b[0m\u001b[1;34m'sky'\u001b[0m\u001b[1;33m)\u001b[0m\u001b[1;33m\u001b[0m\u001b[1;33m\u001b[0m\u001b[0m\n\u001b[0m",
      "\u001b[1;31mTypeError\u001b[0m: 'Word2VecKeyedVectors' object is not callable"
     ],
     "ename": "TypeError",
     "evalue": "'Word2VecKeyedVectors' object is not callable",
     "output_type": "error"
    }
   ],
   "source": [
    "from gensim.models import word2vec\n",
    "\n",
    "wpt = nltk.WordPunctTokenizer()\n",
    "tokenized_corpus = [wpt.tokenize(document) for document in norm_corpus]\n",
    "\n",
    "# Set values for various parameters\n",
    "feature_size = 10    # Word vector dimensionality  \n",
    "window_context = 10          # Context window size                                                                                    \n",
    "min_word_count = 1   # Minimum word count                        \n",
    "sample = 1e-3   # Downsample setting for frequent words\n",
    "\n",
    "w2v_model = word2vec.Word2Vec(tokenized_corpus, size=feature_size, \n",
    "                          window=window_context, min_count = min_word_count,\n",
    "                          sample=sample)"
   ],
   "metadata": {
    "collapsed": false,
    "pycharm": {
     "name": "#%%\n",
     "is_executing": false
    }
   }
  },
  {
   "cell_type": "code",
   "execution_count": 63,
   "outputs": [
    {
     "traceback": [
      "\u001b[1;31m---------------------------------------------------------------------------\u001b[0m",
      "\u001b[1;31mTypeError\u001b[0m                                 Traceback (most recent call last)",
      "\u001b[1;32m<ipython-input-63-7f130a72d77b>\u001b[0m in \u001b[0;36m<module>\u001b[1;34m\u001b[0m\n\u001b[1;32m----> 1\u001b[1;33m \u001b[0mw2v_model\u001b[0m\u001b[1;33m.\u001b[0m\u001b[0mwv\u001b[0m\u001b[1;33m(\u001b[0m\u001b[1;34m'sky'\u001b[0m\u001b[1;33m)\u001b[0m\u001b[1;33m\u001b[0m\u001b[1;33m\u001b[0m\u001b[0m\n\u001b[0m",
      "\u001b[1;31mTypeError\u001b[0m: 'Word2VecKeyedVectors' object is not callable"
     ],
     "ename": "TypeError",
     "evalue": "'Word2VecKeyedVectors' object is not callable",
     "output_type": "error"
    }
   ],
   "source": [
    "w2v_model.wv('sky')"
   ],
   "metadata": {
    "collapsed": false,
    "pycharm": {
     "name": "#%%\n",
     "is_executing": false
    }
   }
  },
  {
   "cell_type": "markdown",
   "source": [
    "A question might arise in your mind now that so far, we had feature vectors for each complete\n",
    "document, but now we have vectors for each word. How on earth do we represent entire documents now?\n",
    "We can do that using various aggregation and combinations. A simple scheme would be to use an averaged\n",
    "word vector representation, where we simply sum all the word vectors occurring in a document and then\n",
    "divide by the count of word vectors to represent an averaged word vector for the document. The following\n",
    "code enables us to do the same"
   ],
   "metadata": {
    "collapsed": false,
    "pycharm": {
     "name": "#%% md\n"
    }
   }
  },
  {
   "cell_type": "code",
   "execution_count": 64,
   "outputs": [],
   "source": [
    "def average_word_vectors(words, model, vocabulary, num_features):\n",
    "    \n",
    "    feature_vector = np.zeros((num_features,),dtype=\"float64\")\n",
    "    nwords = 0.\n",
    "    \n",
    "    for word in words:\n",
    "        if word in vocabulary: \n",
    "            nwords = nwords + 1.\n",
    "            feature_vector = np.add(feature_vector, model[word])\n",
    "    \n",
    "    if nwords:\n",
    "        feature_vector = np.divide(feature_vector, nwords)\n",
    "        \n",
    "    return feature_vector\n",
    "    \n",
    "   \n",
    "def averaged_word_vectorizer(corpus, model, num_features):\n",
    "    vocabulary = set(model.wv.index2word)\n",
    "    features = [average_word_vectors(tokenized_sentence, model, vocabulary, num_features)\n",
    "                    for tokenized_sentence in corpus]\n",
    "    return np.array(features)"
   ],
   "metadata": {
    "collapsed": false,
    "pycharm": {
     "name": "#%%\n",
     "is_executing": false
    }
   }
  },
  {
   "cell_type": "code",
   "execution_count": 65,
   "outputs": [
    {
     "name": "stderr",
     "text": [
      "C:\\ProgramData\\Anaconda3\\lib\\site-packages\\ipykernel_launcher.py:9: DeprecationWarning: Call to deprecated `__getitem__` (Method will be removed in 4.0.0, use self.wv.__getitem__() instead).\n  if __name__ == '__main__':\n"
     ],
     "output_type": "stream"
    },
    {
     "data": {
      "text/plain": "          0         1         2         3         4         5         6  \\\n0 -0.028813  0.014459 -0.001859  0.033134 -0.015159 -0.017498 -0.015926   \n1 -0.027867  0.021286 -0.000418  0.014098 -0.015677 -0.004650 -0.017075   \n2  0.010377 -0.006664 -0.004633  0.000897  0.001042  0.013745 -0.002968   \n3 -0.006176  0.000572 -0.003033  0.011313 -0.008103  0.010579 -0.005232   \n4 -0.024877  0.017566  0.004884  0.032732 -0.005788 -0.010325 -0.015727   \n5  0.002542  0.000231 -0.009711  0.005324 -0.001228  0.011612  0.003586   \n\n          7         8         9  \n0 -0.035119  0.012561  0.010375  \n1 -0.033211  0.003152 -0.001771  \n2  0.002782  0.002518  0.005250  \n3  0.000071  0.008494  0.004596  \n4 -0.033549  0.008134  0.016120  \n5  0.005812  0.011193  0.013413  ",
      "text/html": "<div>\n<style scoped>\n    .dataframe tbody tr th:only-of-type {\n        vertical-align: middle;\n    }\n\n    .dataframe tbody tr th {\n        vertical-align: top;\n    }\n\n    .dataframe thead th {\n        text-align: right;\n    }\n</style>\n<table border=\"1\" class=\"dataframe\">\n  <thead>\n    <tr style=\"text-align: right;\">\n      <th></th>\n      <th>0</th>\n      <th>1</th>\n      <th>2</th>\n      <th>3</th>\n      <th>4</th>\n      <th>5</th>\n      <th>6</th>\n      <th>7</th>\n      <th>8</th>\n      <th>9</th>\n    </tr>\n  </thead>\n  <tbody>\n    <tr>\n      <th>0</th>\n      <td>-0.028813</td>\n      <td>0.014459</td>\n      <td>-0.001859</td>\n      <td>0.033134</td>\n      <td>-0.015159</td>\n      <td>-0.017498</td>\n      <td>-0.015926</td>\n      <td>-0.035119</td>\n      <td>0.012561</td>\n      <td>0.010375</td>\n    </tr>\n    <tr>\n      <th>1</th>\n      <td>-0.027867</td>\n      <td>0.021286</td>\n      <td>-0.000418</td>\n      <td>0.014098</td>\n      <td>-0.015677</td>\n      <td>-0.004650</td>\n      <td>-0.017075</td>\n      <td>-0.033211</td>\n      <td>0.003152</td>\n      <td>-0.001771</td>\n    </tr>\n    <tr>\n      <th>2</th>\n      <td>0.010377</td>\n      <td>-0.006664</td>\n      <td>-0.004633</td>\n      <td>0.000897</td>\n      <td>0.001042</td>\n      <td>0.013745</td>\n      <td>-0.002968</td>\n      <td>0.002782</td>\n      <td>0.002518</td>\n      <td>0.005250</td>\n    </tr>\n    <tr>\n      <th>3</th>\n      <td>-0.006176</td>\n      <td>0.000572</td>\n      <td>-0.003033</td>\n      <td>0.011313</td>\n      <td>-0.008103</td>\n      <td>0.010579</td>\n      <td>-0.005232</td>\n      <td>0.000071</td>\n      <td>0.008494</td>\n      <td>0.004596</td>\n    </tr>\n    <tr>\n      <th>4</th>\n      <td>-0.024877</td>\n      <td>0.017566</td>\n      <td>0.004884</td>\n      <td>0.032732</td>\n      <td>-0.005788</td>\n      <td>-0.010325</td>\n      <td>-0.015727</td>\n      <td>-0.033549</td>\n      <td>0.008134</td>\n      <td>0.016120</td>\n    </tr>\n    <tr>\n      <th>5</th>\n      <td>0.002542</td>\n      <td>0.000231</td>\n      <td>-0.009711</td>\n      <td>0.005324</td>\n      <td>-0.001228</td>\n      <td>0.011612</td>\n      <td>0.003586</td>\n      <td>0.005812</td>\n      <td>0.011193</td>\n      <td>0.013413</td>\n    </tr>\n  </tbody>\n</table>\n</div>"
     },
     "metadata": {},
     "output_type": "execute_result",
     "execution_count": 65
    }
   ],
   "source": [
    "w2v_feature_array = averaged_word_vectorizer(corpus=tokenized_corpus, model=w2v_model,\n",
    "                                             num_features=feature_size)\n",
    "pd.DataFrame(w2v_feature_array)"
   ],
   "metadata": {
    "collapsed": false,
    "pycharm": {
     "name": "#%%\n",
     "is_executing": false
    }
   }
  },
  {
   "cell_type": "markdown",
   "source": [
    "Thus, we have our averaged word vector based feature set for all our corpus documents, as depicted\n",
    "by the dataframe. Let’s use a different clustering algorithm this time known as **Affinity\n",
    "Propagation** to try to cluster our documents based on these new features. Affinity Propagation is based on\n",
    "the concept of message passing and you do not need to specify the number of clusters beforehand like you\n",
    "did in K-means clustering"
   ],
   "metadata": {
    "collapsed": false,
    "pycharm": {
     "name": "#%% md\n"
    }
   }
  },
  {
   "cell_type": "code",
   "execution_count": 72,
   "outputs": [
    {
     "data": {
      "text/plain": "                                            Document Category  ClusterLabel\n0                     The sky is blue and beautiful.  weather             0\n1                  Love this blue and beautiful sky!  weather             0\n2       The quick brown fox jumps over the lazy dog.  animals             1\n3   The brown fox is quick and the blue dog is lazy!  animals             1\n4  The sky is very blue and the sky is very beaut...  weather             0\n5        The dog is lazy but the brown fox is quick!  animals             1",
      "text/html": "<div>\n<style scoped>\n    .dataframe tbody tr th:only-of-type {\n        vertical-align: middle;\n    }\n\n    .dataframe tbody tr th {\n        vertical-align: top;\n    }\n\n    .dataframe thead th {\n        text-align: right;\n    }\n</style>\n<table border=\"1\" class=\"dataframe\">\n  <thead>\n    <tr style=\"text-align: right;\">\n      <th></th>\n      <th>Document</th>\n      <th>Category</th>\n      <th>ClusterLabel</th>\n    </tr>\n  </thead>\n  <tbody>\n    <tr>\n      <th>0</th>\n      <td>The sky is blue and beautiful.</td>\n      <td>weather</td>\n      <td>0</td>\n    </tr>\n    <tr>\n      <th>1</th>\n      <td>Love this blue and beautiful sky!</td>\n      <td>weather</td>\n      <td>0</td>\n    </tr>\n    <tr>\n      <th>2</th>\n      <td>The quick brown fox jumps over the lazy dog.</td>\n      <td>animals</td>\n      <td>1</td>\n    </tr>\n    <tr>\n      <th>3</th>\n      <td>The brown fox is quick and the blue dog is lazy!</td>\n      <td>animals</td>\n      <td>1</td>\n    </tr>\n    <tr>\n      <th>4</th>\n      <td>The sky is very blue and the sky is very beaut...</td>\n      <td>weather</td>\n      <td>0</td>\n    </tr>\n    <tr>\n      <th>5</th>\n      <td>The dog is lazy but the brown fox is quick!</td>\n      <td>animals</td>\n      <td>1</td>\n    </tr>\n  </tbody>\n</table>\n</div>"
     },
     "metadata": {},
     "output_type": "execute_result",
     "execution_count": 72
    }
   ],
   "source": [
    "from sklearn.cluster import AffinityPropagation\n",
    "ap = AffinityPropagation()\n",
    "ap.fit(w2v_feature_array)\n",
    "cluster_labels = ap.labels_\n",
    "cluster_labels = pd.DataFrame(cluster_labels, columns=['ClusterLabel'])\n",
    "pd.concat([corpus_df, cluster_labels], axis=1)"
   ],
   "metadata": {
    "collapsed": false,
    "pycharm": {
     "name": "#%%\n",
     "is_executing": false
    }
   }
  }
 ],
 "metadata": {
  "kernelspec": {
   "display_name": "Python 3",
   "language": "python",
   "name": "python3"
  },
  "language_info": {
   "codemirror_mode": {
    "name": "ipython",
    "version": 2
   },
   "file_extension": ".py",
   "mimetype": "text/x-python",
   "name": "python",
   "nbconvert_exporter": "python",
   "pygments_lexer": "ipython2",
   "version": "2.7.6"
  },
  "pycharm": {
   "stem_cell": {
    "cell_type": "raw",
    "source": [],
    "metadata": {
     "collapsed": false
    }
   }
  }
 },
 "nbformat": 4,
 "nbformat_minor": 0
}