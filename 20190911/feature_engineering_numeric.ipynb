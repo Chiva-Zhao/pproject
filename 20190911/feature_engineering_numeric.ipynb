{
 "cells": [
  {
   "cell_type": "code",
   "execution_count": 1,
   "metadata": {
    "collapsed": true,
    "pycharm": {
     "is_executing": false
    }
   },
   "outputs": [],
   "source": [
    "import numpy as np\n",
    "import pandas as pd\n",
    "import matplotlib.pyplot as plt\n",
    "import matplotlib as mpl\n",
    "import scipy.stats as spstats\n",
    "\n",
    "%matplotlib inline\n",
    "mpl.style.reload_library()\n",
    "mpl.style.use('classic')\n",
    "mpl.rcParams['figure.facecolor'] = (1, 1, 1, 0)\n",
    "mpl.rcParams['figure.figsize'] = [6.0, 4.0]\n",
    "mpl.rcParams['figure.dpi'] = 100"
   ]
  },
  {
   "cell_type": "markdown",
   "source": [
    "## Raw Measures\n",
    "### values"
   ],
   "metadata": {
    "collapsed": false
   }
  },
  {
   "cell_type": "code",
   "execution_count": 3,
   "outputs": [
    {
     "data": {
      "text/plain": "   #                   Name Type 1  Type 2  Total  HP  Attack  Defense  \\\n0  1              Bulbasaur  Grass  Poison    318  45      49       49   \n1  2                Ivysaur  Grass  Poison    405  60      62       63   \n2  3               Venusaur  Grass  Poison    525  80      82       83   \n3  3  VenusaurMega Venusaur  Grass  Poison    625  80     100      123   \n4  4             Charmander   Fire     NaN    309  39      52       43   \n\n   Sp. Atk  Sp. Def  Speed Generation  Legendary  \n0       65       65     45      Gen 1      False  \n1       80       80     60      Gen 1      False  \n2      100      100     80      Gen 1      False  \n3      122      120     80      Gen 1      False  \n4       60       50     65      Gen 1      False  ",
      "text/html": "<div>\n<style scoped>\n    .dataframe tbody tr th:only-of-type {\n        vertical-align: middle;\n    }\n\n    .dataframe tbody tr th {\n        vertical-align: top;\n    }\n\n    .dataframe thead th {\n        text-align: right;\n    }\n</style>\n<table border=\"1\" class=\"dataframe\">\n  <thead>\n    <tr style=\"text-align: right;\">\n      <th></th>\n      <th>#</th>\n      <th>Name</th>\n      <th>Type 1</th>\n      <th>Type 2</th>\n      <th>Total</th>\n      <th>HP</th>\n      <th>Attack</th>\n      <th>Defense</th>\n      <th>Sp. Atk</th>\n      <th>Sp. Def</th>\n      <th>Speed</th>\n      <th>Generation</th>\n      <th>Legendary</th>\n    </tr>\n  </thead>\n  <tbody>\n    <tr>\n      <th>0</th>\n      <td>1</td>\n      <td>Bulbasaur</td>\n      <td>Grass</td>\n      <td>Poison</td>\n      <td>318</td>\n      <td>45</td>\n      <td>49</td>\n      <td>49</td>\n      <td>65</td>\n      <td>65</td>\n      <td>45</td>\n      <td>Gen 1</td>\n      <td>False</td>\n    </tr>\n    <tr>\n      <th>1</th>\n      <td>2</td>\n      <td>Ivysaur</td>\n      <td>Grass</td>\n      <td>Poison</td>\n      <td>405</td>\n      <td>60</td>\n      <td>62</td>\n      <td>63</td>\n      <td>80</td>\n      <td>80</td>\n      <td>60</td>\n      <td>Gen 1</td>\n      <td>False</td>\n    </tr>\n    <tr>\n      <th>2</th>\n      <td>3</td>\n      <td>Venusaur</td>\n      <td>Grass</td>\n      <td>Poison</td>\n      <td>525</td>\n      <td>80</td>\n      <td>82</td>\n      <td>83</td>\n      <td>100</td>\n      <td>100</td>\n      <td>80</td>\n      <td>Gen 1</td>\n      <td>False</td>\n    </tr>\n    <tr>\n      <th>3</th>\n      <td>3</td>\n      <td>VenusaurMega Venusaur</td>\n      <td>Grass</td>\n      <td>Poison</td>\n      <td>625</td>\n      <td>80</td>\n      <td>100</td>\n      <td>123</td>\n      <td>122</td>\n      <td>120</td>\n      <td>80</td>\n      <td>Gen 1</td>\n      <td>False</td>\n    </tr>\n    <tr>\n      <th>4</th>\n      <td>4</td>\n      <td>Charmander</td>\n      <td>Fire</td>\n      <td>NaN</td>\n      <td>309</td>\n      <td>39</td>\n      <td>52</td>\n      <td>43</td>\n      <td>60</td>\n      <td>50</td>\n      <td>65</td>\n      <td>Gen 1</td>\n      <td>False</td>\n    </tr>\n  </tbody>\n</table>\n</div>"
     },
     "metadata": {},
     "output_type": "execute_result",
     "execution_count": 3
    }
   ],
   "source": [
    "poke_df = pd.read_csv('datasets/Pokemon.csv',encoding='utf-8')\n",
    "poke_df.head()"
   ],
   "metadata": {
    "collapsed": false,
    "pycharm": {
     "name": "#%%\n",
     "is_executing": false
    }
   }
  },
  {
   "cell_type": "code",
   "execution_count": 5,
   "outputs": [
    {
     "data": {
      "text/plain": "   Total  HP  Attack  Defense\n0    318  45      49       49\n1    405  60      62       63\n2    525  80      82       83\n3    625  80     100      123\n4    309  39      52       43",
      "text/html": "<div>\n<style scoped>\n    .dataframe tbody tr th:only-of-type {\n        vertical-align: middle;\n    }\n\n    .dataframe tbody tr th {\n        vertical-align: top;\n    }\n\n    .dataframe thead th {\n        text-align: right;\n    }\n</style>\n<table border=\"1\" class=\"dataframe\">\n  <thead>\n    <tr style=\"text-align: right;\">\n      <th></th>\n      <th>Total</th>\n      <th>HP</th>\n      <th>Attack</th>\n      <th>Defense</th>\n    </tr>\n  </thead>\n  <tbody>\n    <tr>\n      <th>0</th>\n      <td>318</td>\n      <td>45</td>\n      <td>49</td>\n      <td>49</td>\n    </tr>\n    <tr>\n      <th>1</th>\n      <td>405</td>\n      <td>60</td>\n      <td>62</td>\n      <td>63</td>\n    </tr>\n    <tr>\n      <th>2</th>\n      <td>525</td>\n      <td>80</td>\n      <td>82</td>\n      <td>83</td>\n    </tr>\n    <tr>\n      <th>3</th>\n      <td>625</td>\n      <td>80</td>\n      <td>100</td>\n      <td>123</td>\n    </tr>\n    <tr>\n      <th>4</th>\n      <td>309</td>\n      <td>39</td>\n      <td>52</td>\n      <td>43</td>\n    </tr>\n  </tbody>\n</table>\n</div>"
     },
     "metadata": {},
     "output_type": "execute_result",
     "execution_count": 5
    }
   ],
   "source": [
    "poke_df[['Total','HP','Attack','Defense']].head()"
   ],
   "metadata": {
    "collapsed": false,
    "pycharm": {
     "name": "#%%\n",
     "is_executing": false
    }
   }
  },
  {
   "cell_type": "code",
   "execution_count": 6,
   "outputs": [
    {
     "data": {
      "text/plain": "           Total          HP      Attack     Defense\ncount  800.00000  800.000000  800.000000  800.000000\nmean   435.10250   69.258750   79.001250   73.842500\nstd    119.96304   25.534669   32.457366   31.183501\nmin    180.00000    1.000000    5.000000    5.000000\n25%    330.00000   50.000000   55.000000   50.000000\n50%    450.00000   65.000000   75.000000   70.000000\n75%    515.00000   80.000000  100.000000   90.000000\nmax    780.00000  255.000000  190.000000  230.000000",
      "text/html": "<div>\n<style scoped>\n    .dataframe tbody tr th:only-of-type {\n        vertical-align: middle;\n    }\n\n    .dataframe tbody tr th {\n        vertical-align: top;\n    }\n\n    .dataframe thead th {\n        text-align: right;\n    }\n</style>\n<table border=\"1\" class=\"dataframe\">\n  <thead>\n    <tr style=\"text-align: right;\">\n      <th></th>\n      <th>Total</th>\n      <th>HP</th>\n      <th>Attack</th>\n      <th>Defense</th>\n    </tr>\n  </thead>\n  <tbody>\n    <tr>\n      <th>count</th>\n      <td>800.00000</td>\n      <td>800.000000</td>\n      <td>800.000000</td>\n      <td>800.000000</td>\n    </tr>\n    <tr>\n      <th>mean</th>\n      <td>435.10250</td>\n      <td>69.258750</td>\n      <td>79.001250</td>\n      <td>73.842500</td>\n    </tr>\n    <tr>\n      <th>std</th>\n      <td>119.96304</td>\n      <td>25.534669</td>\n      <td>32.457366</td>\n      <td>31.183501</td>\n    </tr>\n    <tr>\n      <th>min</th>\n      <td>180.00000</td>\n      <td>1.000000</td>\n      <td>5.000000</td>\n      <td>5.000000</td>\n    </tr>\n    <tr>\n      <th>25%</th>\n      <td>330.00000</td>\n      <td>50.000000</td>\n      <td>55.000000</td>\n      <td>50.000000</td>\n    </tr>\n    <tr>\n      <th>50%</th>\n      <td>450.00000</td>\n      <td>65.000000</td>\n      <td>75.000000</td>\n      <td>70.000000</td>\n    </tr>\n    <tr>\n      <th>75%</th>\n      <td>515.00000</td>\n      <td>80.000000</td>\n      <td>100.000000</td>\n      <td>90.000000</td>\n    </tr>\n    <tr>\n      <th>max</th>\n      <td>780.00000</td>\n      <td>255.000000</td>\n      <td>190.000000</td>\n      <td>230.000000</td>\n    </tr>\n  </tbody>\n</table>\n</div>"
     },
     "metadata": {},
     "output_type": "execute_result",
     "execution_count": 6
    }
   ],
   "source": [
    "poke_df[['Total','HP','Attack','Defense']].describe()"
   ],
   "metadata": {
    "collapsed": false,
    "pycharm": {
     "name": "#%%\n",
     "is_executing": false
    }
   }
  },
  {
   "cell_type": "markdown",
   "source": [
    "### Count"
   ],
   "metadata": {
    "collapsed": false,
    "pycharm": {
     "name": "#%% md\n"
    }
   }
  },
  {
   "cell_type": "code",
   "execution_count": 7,
   "outputs": [
    {
     "data": {
      "text/plain": "                                    user_id             song_id  \\\n0  b6b799f34a204bd928ea014c243ddad6d0be4f8f  SOBONKR12A58A7A7E0   \n1  b41ead730ac14f6b6717b9cf8859d5579f3f8d4d  SOBONKR12A58A7A7E0   \n2  4c84359a164b161496d05282707cecbd50adbfc4  SOBONKR12A58A7A7E0   \n3  779b5908593756abb6ff7586177c966022668b06  SOBONKR12A58A7A7E0   \n4  dd88ea94f605a63d9fc37a214127e3f00e85e42d  SOBONKR12A58A7A7E0   \n\n            title  listen_count  \n0  You're The One             2  \n1  You're The One             0  \n2  You're The One             0  \n3  You're The One             0  \n4  You're The One             0  ",
      "text/html": "<div>\n<style scoped>\n    .dataframe tbody tr th:only-of-type {\n        vertical-align: middle;\n    }\n\n    .dataframe tbody tr th {\n        vertical-align: top;\n    }\n\n    .dataframe thead th {\n        text-align: right;\n    }\n</style>\n<table border=\"1\" class=\"dataframe\">\n  <thead>\n    <tr style=\"text-align: right;\">\n      <th></th>\n      <th>user_id</th>\n      <th>song_id</th>\n      <th>title</th>\n      <th>listen_count</th>\n    </tr>\n  </thead>\n  <tbody>\n    <tr>\n      <th>0</th>\n      <td>b6b799f34a204bd928ea014c243ddad6d0be4f8f</td>\n      <td>SOBONKR12A58A7A7E0</td>\n      <td>You're The One</td>\n      <td>2</td>\n    </tr>\n    <tr>\n      <th>1</th>\n      <td>b41ead730ac14f6b6717b9cf8859d5579f3f8d4d</td>\n      <td>SOBONKR12A58A7A7E0</td>\n      <td>You're The One</td>\n      <td>0</td>\n    </tr>\n    <tr>\n      <th>2</th>\n      <td>4c84359a164b161496d05282707cecbd50adbfc4</td>\n      <td>SOBONKR12A58A7A7E0</td>\n      <td>You're The One</td>\n      <td>0</td>\n    </tr>\n    <tr>\n      <th>3</th>\n      <td>779b5908593756abb6ff7586177c966022668b06</td>\n      <td>SOBONKR12A58A7A7E0</td>\n      <td>You're The One</td>\n      <td>0</td>\n    </tr>\n    <tr>\n      <th>4</th>\n      <td>dd88ea94f605a63d9fc37a214127e3f00e85e42d</td>\n      <td>SOBONKR12A58A7A7E0</td>\n      <td>You're The One</td>\n      <td>0</td>\n    </tr>\n  </tbody>\n</table>\n</div>"
     },
     "metadata": {},
     "output_type": "execute_result",
     "execution_count": 7
    }
   ],
   "source": [
    "popsong_df = pd.read_csv('datasets/song_views.csv',encoding='utf-8')\n",
    "popsong_df.head()"
   ],
   "metadata": {
    "collapsed": false,
    "pycharm": {
     "name": "#%%\n",
     "is_executing": false
    }
   }
  },
  {
   "cell_type": "markdown",
   "source": [
    "### Binarization"
   ],
   "metadata": {
    "collapsed": false
   }
  },
  {
   "cell_type": "code",
   "execution_count": 17,
   "outputs": [
    {
     "data": {
      "text/plain": "                                    user_id             song_id  \\\n0  b6b799f34a204bd928ea014c243ddad6d0be4f8f  SOBONKR12A58A7A7E0   \n1  b41ead730ac14f6b6717b9cf8859d5579f3f8d4d  SOBONKR12A58A7A7E0   \n2  4c84359a164b161496d05282707cecbd50adbfc4  SOBONKR12A58A7A7E0   \n3  779b5908593756abb6ff7586177c966022668b06  SOBONKR12A58A7A7E0   \n4  dd88ea94f605a63d9fc37a214127e3f00e85e42d  SOBONKR12A58A7A7E0   \n5  68f0359a2f1cedb0d15c98d88017281db79f9bc6  SOBONKR12A58A7A7E0   \n6  116a4c95d63623a967edf2f3456c90ebbf964e6f  SOBONKR12A58A7A7E0   \n7  45544491ccfcdc0b0803c34f201a6287ed4e30f8  SOBONKR12A58A7A7E0   \n8  e701a24d9b6c59f5ac37ab28462ca82470e27cfb  SOBONKR12A58A7A7E0   \n9  edc8b7b1fd592a3b69c3d823a742e1a064abec95  SOBONKR12A58A7A7E0   \n\n            title  listen_count  watched  \n0  You're The One             2        1  \n1  You're The One             0        0  \n2  You're The One             0        0  \n3  You're The One             0        0  \n4  You're The One             0        0  \n5  You're The One             0        0  \n6  You're The One            17        1  \n7  You're The One             0        0  \n8  You're The One            68        1  \n9  You're The One             0        0  ",
      "text/html": "<div>\n<style scoped>\n    .dataframe tbody tr th:only-of-type {\n        vertical-align: middle;\n    }\n\n    .dataframe tbody tr th {\n        vertical-align: top;\n    }\n\n    .dataframe thead th {\n        text-align: right;\n    }\n</style>\n<table border=\"1\" class=\"dataframe\">\n  <thead>\n    <tr style=\"text-align: right;\">\n      <th></th>\n      <th>user_id</th>\n      <th>song_id</th>\n      <th>title</th>\n      <th>listen_count</th>\n      <th>watched</th>\n    </tr>\n  </thead>\n  <tbody>\n    <tr>\n      <th>0</th>\n      <td>b6b799f34a204bd928ea014c243ddad6d0be4f8f</td>\n      <td>SOBONKR12A58A7A7E0</td>\n      <td>You're The One</td>\n      <td>2</td>\n      <td>1</td>\n    </tr>\n    <tr>\n      <th>1</th>\n      <td>b41ead730ac14f6b6717b9cf8859d5579f3f8d4d</td>\n      <td>SOBONKR12A58A7A7E0</td>\n      <td>You're The One</td>\n      <td>0</td>\n      <td>0</td>\n    </tr>\n    <tr>\n      <th>2</th>\n      <td>4c84359a164b161496d05282707cecbd50adbfc4</td>\n      <td>SOBONKR12A58A7A7E0</td>\n      <td>You're The One</td>\n      <td>0</td>\n      <td>0</td>\n    </tr>\n    <tr>\n      <th>3</th>\n      <td>779b5908593756abb6ff7586177c966022668b06</td>\n      <td>SOBONKR12A58A7A7E0</td>\n      <td>You're The One</td>\n      <td>0</td>\n      <td>0</td>\n    </tr>\n    <tr>\n      <th>4</th>\n      <td>dd88ea94f605a63d9fc37a214127e3f00e85e42d</td>\n      <td>SOBONKR12A58A7A7E0</td>\n      <td>You're The One</td>\n      <td>0</td>\n      <td>0</td>\n    </tr>\n    <tr>\n      <th>5</th>\n      <td>68f0359a2f1cedb0d15c98d88017281db79f9bc6</td>\n      <td>SOBONKR12A58A7A7E0</td>\n      <td>You're The One</td>\n      <td>0</td>\n      <td>0</td>\n    </tr>\n    <tr>\n      <th>6</th>\n      <td>116a4c95d63623a967edf2f3456c90ebbf964e6f</td>\n      <td>SOBONKR12A58A7A7E0</td>\n      <td>You're The One</td>\n      <td>17</td>\n      <td>1</td>\n    </tr>\n    <tr>\n      <th>7</th>\n      <td>45544491ccfcdc0b0803c34f201a6287ed4e30f8</td>\n      <td>SOBONKR12A58A7A7E0</td>\n      <td>You're The One</td>\n      <td>0</td>\n      <td>0</td>\n    </tr>\n    <tr>\n      <th>8</th>\n      <td>e701a24d9b6c59f5ac37ab28462ca82470e27cfb</td>\n      <td>SOBONKR12A58A7A7E0</td>\n      <td>You're The One</td>\n      <td>68</td>\n      <td>1</td>\n    </tr>\n    <tr>\n      <th>9</th>\n      <td>edc8b7b1fd592a3b69c3d823a742e1a064abec95</td>\n      <td>SOBONKR12A58A7A7E0</td>\n      <td>You're The One</td>\n      <td>0</td>\n      <td>0</td>\n    </tr>\n  </tbody>\n</table>\n</div>"
     },
     "metadata": {},
     "output_type": "execute_result",
     "execution_count": 17
    }
   ],
   "source": [
    "watched = np.array(popsong_df['listen_count'])\n",
    "watched[watched>1] = 1\n",
    "popsong_df['watched'] = watched\n",
    "popsong_df.head(10)"
   ],
   "metadata": {
    "collapsed": false,
    "pycharm": {
     "name": "#%%\n",
     "is_executing": false
    }
   }
  },
  {
   "cell_type": "markdown",
   "source": [
    "You can also use scikit-learn’s Binarizer class here from its preprocessing module to perform the\n",
    "same task instead of numpy arrays, as depicted in the following code"
   ],
   "metadata": {
    "collapsed": false,
    "pycharm": {
     "name": "#%% md\n"
    }
   }
  },
  {
   "cell_type": "code",
   "execution_count": 24,
   "outputs": [
    {
     "data": {
      "text/plain": "                                    user_id             song_id  \\\n0  b6b799f34a204bd928ea014c243ddad6d0be4f8f  SOBONKR12A58A7A7E0   \n1  b41ead730ac14f6b6717b9cf8859d5579f3f8d4d  SOBONKR12A58A7A7E0   \n2  4c84359a164b161496d05282707cecbd50adbfc4  SOBONKR12A58A7A7E0   \n3  779b5908593756abb6ff7586177c966022668b06  SOBONKR12A58A7A7E0   \n4  dd88ea94f605a63d9fc37a214127e3f00e85e42d  SOBONKR12A58A7A7E0   \n5  68f0359a2f1cedb0d15c98d88017281db79f9bc6  SOBONKR12A58A7A7E0   \n6  116a4c95d63623a967edf2f3456c90ebbf964e6f  SOBONKR12A58A7A7E0   \n7  45544491ccfcdc0b0803c34f201a6287ed4e30f8  SOBONKR12A58A7A7E0   \n8  e701a24d9b6c59f5ac37ab28462ca82470e27cfb  SOBONKR12A58A7A7E0   \n9  edc8b7b1fd592a3b69c3d823a742e1a064abec95  SOBONKR12A58A7A7E0   \n\n            title  listen_count  watched  pd_watched  \n0  You're The One             2        1           1  \n1  You're The One             0        0           0  \n2  You're The One             0        0           0  \n3  You're The One             0        0           0  \n4  You're The One             0        0           0  \n5  You're The One             0        0           0  \n6  You're The One            17        1           1  \n7  You're The One             0        0           0  \n8  You're The One            68        1           1  \n9  You're The One             0        0           0  ",
      "text/html": "<div>\n<style scoped>\n    .dataframe tbody tr th:only-of-type {\n        vertical-align: middle;\n    }\n\n    .dataframe tbody tr th {\n        vertical-align: top;\n    }\n\n    .dataframe thead th {\n        text-align: right;\n    }\n</style>\n<table border=\"1\" class=\"dataframe\">\n  <thead>\n    <tr style=\"text-align: right;\">\n      <th></th>\n      <th>user_id</th>\n      <th>song_id</th>\n      <th>title</th>\n      <th>listen_count</th>\n      <th>watched</th>\n      <th>pd_watched</th>\n    </tr>\n  </thead>\n  <tbody>\n    <tr>\n      <th>0</th>\n      <td>b6b799f34a204bd928ea014c243ddad6d0be4f8f</td>\n      <td>SOBONKR12A58A7A7E0</td>\n      <td>You're The One</td>\n      <td>2</td>\n      <td>1</td>\n      <td>1</td>\n    </tr>\n    <tr>\n      <th>1</th>\n      <td>b41ead730ac14f6b6717b9cf8859d5579f3f8d4d</td>\n      <td>SOBONKR12A58A7A7E0</td>\n      <td>You're The One</td>\n      <td>0</td>\n      <td>0</td>\n      <td>0</td>\n    </tr>\n    <tr>\n      <th>2</th>\n      <td>4c84359a164b161496d05282707cecbd50adbfc4</td>\n      <td>SOBONKR12A58A7A7E0</td>\n      <td>You're The One</td>\n      <td>0</td>\n      <td>0</td>\n      <td>0</td>\n    </tr>\n    <tr>\n      <th>3</th>\n      <td>779b5908593756abb6ff7586177c966022668b06</td>\n      <td>SOBONKR12A58A7A7E0</td>\n      <td>You're The One</td>\n      <td>0</td>\n      <td>0</td>\n      <td>0</td>\n    </tr>\n    <tr>\n      <th>4</th>\n      <td>dd88ea94f605a63d9fc37a214127e3f00e85e42d</td>\n      <td>SOBONKR12A58A7A7E0</td>\n      <td>You're The One</td>\n      <td>0</td>\n      <td>0</td>\n      <td>0</td>\n    </tr>\n    <tr>\n      <th>5</th>\n      <td>68f0359a2f1cedb0d15c98d88017281db79f9bc6</td>\n      <td>SOBONKR12A58A7A7E0</td>\n      <td>You're The One</td>\n      <td>0</td>\n      <td>0</td>\n      <td>0</td>\n    </tr>\n    <tr>\n      <th>6</th>\n      <td>116a4c95d63623a967edf2f3456c90ebbf964e6f</td>\n      <td>SOBONKR12A58A7A7E0</td>\n      <td>You're The One</td>\n      <td>17</td>\n      <td>1</td>\n      <td>1</td>\n    </tr>\n    <tr>\n      <th>7</th>\n      <td>45544491ccfcdc0b0803c34f201a6287ed4e30f8</td>\n      <td>SOBONKR12A58A7A7E0</td>\n      <td>You're The One</td>\n      <td>0</td>\n      <td>0</td>\n      <td>0</td>\n    </tr>\n    <tr>\n      <th>8</th>\n      <td>e701a24d9b6c59f5ac37ab28462ca82470e27cfb</td>\n      <td>SOBONKR12A58A7A7E0</td>\n      <td>You're The One</td>\n      <td>68</td>\n      <td>1</td>\n      <td>1</td>\n    </tr>\n    <tr>\n      <th>9</th>\n      <td>edc8b7b1fd592a3b69c3d823a742e1a064abec95</td>\n      <td>SOBONKR12A58A7A7E0</td>\n      <td>You're The One</td>\n      <td>0</td>\n      <td>0</td>\n      <td>0</td>\n    </tr>\n  </tbody>\n</table>\n</div>"
     },
     "metadata": {},
     "output_type": "execute_result",
     "execution_count": 24
    }
   ],
   "source": [
    "from sklearn.preprocessing import Binarizer\n",
    "bn = Binarizer(threshold=0.9)\n",
    "pd_watched = bn.transform([popsong_df['listen_count']])[0]\n",
    "popsong_df['pd_watched'] = pd_watched\n",
    "popsong_df.head(10)"
   ],
   "metadata": {
    "collapsed": false,
    "pycharm": {
     "name": "#%%\n",
     "is_executing": false
    }
   }
  },
  {
   "cell_type": "markdown",
   "source": [
    "### Rounding"
   ],
   "metadata": {
    "collapsed": false,
    "pycharm": {
     "name": "#%% md\n"
    }
   }
  },
  {
   "cell_type": "code",
   "execution_count": 32,
   "outputs": [
    {
     "data": {
      "text/plain": "    item_id  pop_percent  popularity_scale_10  popularity_scale_100\n0  it_01345      0.98324                   10                    98\n1  it_03431      0.56123                    6                    56\n2  it_04572      0.12098                    1                    12\n3  it_98021      0.35476                    4                    35\n4  it_01298      0.92101                    9                    92",
      "text/html": "<div>\n<style scoped>\n    .dataframe tbody tr th:only-of-type {\n        vertical-align: middle;\n    }\n\n    .dataframe tbody tr th {\n        vertical-align: top;\n    }\n\n    .dataframe thead th {\n        text-align: right;\n    }\n</style>\n<table border=\"1\" class=\"dataframe\">\n  <thead>\n    <tr style=\"text-align: right;\">\n      <th></th>\n      <th>item_id</th>\n      <th>pop_percent</th>\n      <th>popularity_scale_10</th>\n      <th>popularity_scale_100</th>\n    </tr>\n  </thead>\n  <tbody>\n    <tr>\n      <th>0</th>\n      <td>it_01345</td>\n      <td>0.98324</td>\n      <td>10</td>\n      <td>98</td>\n    </tr>\n    <tr>\n      <th>1</th>\n      <td>it_03431</td>\n      <td>0.56123</td>\n      <td>6</td>\n      <td>56</td>\n    </tr>\n    <tr>\n      <th>2</th>\n      <td>it_04572</td>\n      <td>0.12098</td>\n      <td>1</td>\n      <td>12</td>\n    </tr>\n    <tr>\n      <th>3</th>\n      <td>it_98021</td>\n      <td>0.35476</td>\n      <td>4</td>\n      <td>35</td>\n    </tr>\n    <tr>\n      <th>4</th>\n      <td>it_01298</td>\n      <td>0.92101</td>\n      <td>9</td>\n      <td>92</td>\n    </tr>\n  </tbody>\n</table>\n</div>"
     },
     "metadata": {},
     "output_type": "execute_result",
     "execution_count": 32
    }
   ],
   "source": [
    "items_popularity = pd.read_csv('datasets/item_popularity.csv', encoding='utf-8')\n",
    "# rounding off percentages\n",
    "items_popularity['popularity_scale_10'] = np.array(np.round(items_popularity['pop_percent'] * 10),dtype=int)\n",
    "items_popularity['popularity_scale_100'] = np.array(np.round(items_popularity['pop_percent'] * 100),dtype=int)\n",
    "items_popularity.head()"
   ],
   "metadata": {
    "collapsed": false,
    "pycharm": {
     "name": "#%%\n",
     "is_executing": false
    }
   }
  },
  {
   "cell_type": "markdown",
   "source": [
    "### Interactions"
   ],
   "metadata": {
    "collapsed": false,
    "pycharm": {
     "name": "#%% md\n"
    }
   }
  },
  {
   "cell_type": "code",
   "execution_count": 34,
   "outputs": [
    {
     "data": {
      "text/plain": "array([[   49.,    49.,  2401.,  2401.,  2401.],\n       [   62.,    63.,  3844.,  3906.,  3969.],\n       [   82.,    83.,  6724.,  6806.,  6889.],\n       ...,\n       [  110.,    60., 12100.,  6600.,  3600.],\n       [  160.,    60., 25600.,  9600.,  3600.],\n       [  110.,   120., 12100., 13200., 14400.]])"
     },
     "metadata": {},
     "output_type": "execute_result",
     "execution_count": 34
    }
   ],
   "source": [
    "atk_def = poke_df[['Attack', 'Defense']]\n",
    "atk_def.head()\n",
    "from sklearn.preprocessing import PolynomialFeatures\n",
    "pf = PolynomialFeatures(degree=2,interaction_only=False,include_bias=False)\n",
    "res = pf.fit_transform(atk_def)\n",
    "res"
   ],
   "metadata": {
    "collapsed": false,
    "pycharm": {
     "name": "#%%\n",
     "is_executing": false
    }
   }
  },
  {
   "cell_type": "markdown",
   "source": [
    "We can clearly see from this output that we have a total of five features including the new interaction\n",
    "features. We can see the degree of each feature in the matrix, using the following snippet"
   ],
   "metadata": {
    "collapsed": false,
    "pycharm": {
     "name": "#%% md\n"
    }
   }
  },
  {
   "cell_type": "code",
   "execution_count": 35,
   "outputs": [
    {
     "data": {
      "text/plain": "   Attack_degree  Defense_degree\n0              1               0\n1              0               1\n2              2               0\n3              1               1\n4              0               2",
      "text/html": "<div>\n<style scoped>\n    .dataframe tbody tr th:only-of-type {\n        vertical-align: middle;\n    }\n\n    .dataframe tbody tr th {\n        vertical-align: top;\n    }\n\n    .dataframe thead th {\n        text-align: right;\n    }\n</style>\n<table border=\"1\" class=\"dataframe\">\n  <thead>\n    <tr style=\"text-align: right;\">\n      <th></th>\n      <th>Attack_degree</th>\n      <th>Defense_degree</th>\n    </tr>\n  </thead>\n  <tbody>\n    <tr>\n      <th>0</th>\n      <td>1</td>\n      <td>0</td>\n    </tr>\n    <tr>\n      <th>1</th>\n      <td>0</td>\n      <td>1</td>\n    </tr>\n    <tr>\n      <th>2</th>\n      <td>2</td>\n      <td>0</td>\n    </tr>\n    <tr>\n      <th>3</th>\n      <td>1</td>\n      <td>1</td>\n    </tr>\n    <tr>\n      <th>4</th>\n      <td>0</td>\n      <td>2</td>\n    </tr>\n  </tbody>\n</table>\n</div>"
     },
     "metadata": {},
     "output_type": "execute_result",
     "execution_count": 35
    }
   ],
   "source": [
    "pd.DataFrame(pf.powers_,columns=['Attack_degree', 'Defense_degree'])"
   ],
   "metadata": {
    "collapsed": false,
    "pycharm": {
     "name": "#%%\n",
     "is_executing": false
    }
   }
  },
  {
   "cell_type": "markdown",
   "source": [
    "Now that we know what each feature actually represented from the degrees depicted, we can assign a\n",
    "name to each feature as follows to get the updated feature set."
   ],
   "metadata": {
    "collapsed": false,
    "pycharm": {
     "name": "#%% md\n"
    }
   }
  },
  {
   "cell_type": "code",
   "execution_count": 36,
   "outputs": [
    {
     "data": {
      "text/plain": "   Attack  Defense  Attack^2  Attack x Defense  Defense^2\n0    49.0     49.0    2401.0            2401.0     2401.0\n1    62.0     63.0    3844.0            3906.0     3969.0\n2    82.0     83.0    6724.0            6806.0     6889.0\n3   100.0    123.0   10000.0           12300.0    15129.0\n4    52.0     43.0    2704.0            2236.0     1849.0",
      "text/html": "<div>\n<style scoped>\n    .dataframe tbody tr th:only-of-type {\n        vertical-align: middle;\n    }\n\n    .dataframe tbody tr th {\n        vertical-align: top;\n    }\n\n    .dataframe thead th {\n        text-align: right;\n    }\n</style>\n<table border=\"1\" class=\"dataframe\">\n  <thead>\n    <tr style=\"text-align: right;\">\n      <th></th>\n      <th>Attack</th>\n      <th>Defense</th>\n      <th>Attack^2</th>\n      <th>Attack x Defense</th>\n      <th>Defense^2</th>\n    </tr>\n  </thead>\n  <tbody>\n    <tr>\n      <th>0</th>\n      <td>49.0</td>\n      <td>49.0</td>\n      <td>2401.0</td>\n      <td>2401.0</td>\n      <td>2401.0</td>\n    </tr>\n    <tr>\n      <th>1</th>\n      <td>62.0</td>\n      <td>63.0</td>\n      <td>3844.0</td>\n      <td>3906.0</td>\n      <td>3969.0</td>\n    </tr>\n    <tr>\n      <th>2</th>\n      <td>82.0</td>\n      <td>83.0</td>\n      <td>6724.0</td>\n      <td>6806.0</td>\n      <td>6889.0</td>\n    </tr>\n    <tr>\n      <th>3</th>\n      <td>100.0</td>\n      <td>123.0</td>\n      <td>10000.0</td>\n      <td>12300.0</td>\n      <td>15129.0</td>\n    </tr>\n    <tr>\n      <th>4</th>\n      <td>52.0</td>\n      <td>43.0</td>\n      <td>2704.0</td>\n      <td>2236.0</td>\n      <td>1849.0</td>\n    </tr>\n  </tbody>\n</table>\n</div>"
     },
     "metadata": {},
     "output_type": "execute_result",
     "execution_count": 36
    }
   ],
   "source": [
    "intr_features = pd.DataFrame(res,columns=['Attack', 'Defense', 'Attack^2', 'Attack x Defense', 'Defense^2'])\n",
    "intr_features.head()"
   ],
   "metadata": {
    "collapsed": false,
    "pycharm": {
     "name": "#%%\n",
     "is_executing": false
    }
   }
  },
  {
   "cell_type": "markdown",
   "source": [
    "### Transforming new data in the future (during predictions)\n",
    "The fit_transform(...) API function from scikit-learn is useful to build a feature engineering representation \n",
    "object on the training data, which can be reused on new data during model predictions by calling on the transform(...)\n",
    "function. Let’s take some sample new observations for Pokémon attack and defense features and try to transform\n",
    "them using this same mechanism"
   ],
   "metadata": {
    "collapsed": false,
    "pycharm": {
     "name": "#%% md\n"
    }
   }
  },
  {
   "cell_type": "code",
   "execution_count": 37,
   "outputs": [
    {
     "data": {
      "text/plain": "   Attack  Defense\n0      95       75\n1     121      120\n2      77       60",
      "text/html": "<div>\n<style scoped>\n    .dataframe tbody tr th:only-of-type {\n        vertical-align: middle;\n    }\n\n    .dataframe tbody tr th {\n        vertical-align: top;\n    }\n\n    .dataframe thead th {\n        text-align: right;\n    }\n</style>\n<table border=\"1\" class=\"dataframe\">\n  <thead>\n    <tr style=\"text-align: right;\">\n      <th></th>\n      <th>Attack</th>\n      <th>Defense</th>\n    </tr>\n  </thead>\n  <tbody>\n    <tr>\n      <th>0</th>\n      <td>95</td>\n      <td>75</td>\n    </tr>\n    <tr>\n      <th>1</th>\n      <td>121</td>\n      <td>120</td>\n    </tr>\n    <tr>\n      <th>2</th>\n      <td>77</td>\n      <td>60</td>\n    </tr>\n  </tbody>\n</table>\n</div>"
     },
     "metadata": {},
     "output_type": "execute_result",
     "execution_count": 37
    }
   ],
   "source": [
    "new_df = pd.DataFrame([[95, 75],[121, 120], [77, 60]], columns=['Attack', 'Defense'])\n",
    "new_df"
   ],
   "metadata": {
    "collapsed": false,
    "pycharm": {
     "name": "#%%\n",
     "is_executing": false
    }
   }
  },
  {
   "cell_type": "markdown",
   "source": [
    "We can now use the pf object that we created earlier and transform these input features to give us the\n",
    "interaction features as follows"
   ],
   "metadata": {
    "collapsed": false,
    "pycharm": {
     "name": "#%% md\n"
    }
   }
  },
  {
   "cell_type": "code",
   "execution_count": 39,
   "outputs": [
    {
     "data": {
      "text/plain": "   Attack  Defense  Attack^2  Attack x Defense  Defense^2\n0    95.0     75.0    9025.0            7125.0     5625.0\n1   121.0    120.0   14641.0           14520.0    14400.0\n2    77.0     60.0    5929.0            4620.0     3600.0",
      "text/html": "<div>\n<style scoped>\n    .dataframe tbody tr th:only-of-type {\n        vertical-align: middle;\n    }\n\n    .dataframe tbody tr th {\n        vertical-align: top;\n    }\n\n    .dataframe thead th {\n        text-align: right;\n    }\n</style>\n<table border=\"1\" class=\"dataframe\">\n  <thead>\n    <tr style=\"text-align: right;\">\n      <th></th>\n      <th>Attack</th>\n      <th>Defense</th>\n      <th>Attack^2</th>\n      <th>Attack x Defense</th>\n      <th>Defense^2</th>\n    </tr>\n  </thead>\n  <tbody>\n    <tr>\n      <th>0</th>\n      <td>95.0</td>\n      <td>75.0</td>\n      <td>9025.0</td>\n      <td>7125.0</td>\n      <td>5625.0</td>\n    </tr>\n    <tr>\n      <th>1</th>\n      <td>121.0</td>\n      <td>120.0</td>\n      <td>14641.0</td>\n      <td>14520.0</td>\n      <td>14400.0</td>\n    </tr>\n    <tr>\n      <th>2</th>\n      <td>77.0</td>\n      <td>60.0</td>\n      <td>5929.0</td>\n      <td>4620.0</td>\n      <td>3600.0</td>\n    </tr>\n  </tbody>\n</table>\n</div>"
     },
     "metadata": {},
     "output_type": "execute_result",
     "execution_count": 39
    }
   ],
   "source": [
    "new_res = pf.transform(new_df)\n",
    "new_res\n",
    "new_intr_features = pd.DataFrame(new_res, columns=['Attack', 'Defense', 'Attack^2', 'Attack x Defense', 'Defense^2'])\n",
    "new_intr_features"
   ],
   "metadata": {
    "collapsed": false,
    "pycharm": {
     "name": "#%%\n",
     "is_executing": false
    }
   }
  },
  {
   "cell_type": "markdown",
   "source": [
    "### Binning or Quantization"
   ],
   "metadata": {
    "collapsed": false,
    "pycharm": {
     "name": "#%% md\n"
    }
   }
  },
  {
   "cell_type": "code",
   "execution_count": 41,
   "outputs": [
    {
     "data": {
      "text/plain": "                               ID.x                        EmploymentField  \\\n0  cef35615d61b202f1dc794ef2746df14      office and administrative support   \n1  323e5a113644d18185c743c241407754                      food and beverage   \n2  b29a1027e5cd062e654a63764157461d                                finance   \n3  04a11e4bcb573a1261eb0d9948d32637  arts, entertainment, sports, or media   \n4  9368291c93d5d5f5c8cdb1a575e18bec                              education   \n\n    Age   Income  \n0  28.0  32000.0  \n1  22.0  15000.0  \n2  19.0  48000.0  \n3  26.0  43000.0  \n4  20.0   6000.0  ",
      "text/html": "<div>\n<style scoped>\n    .dataframe tbody tr th:only-of-type {\n        vertical-align: middle;\n    }\n\n    .dataframe tbody tr th {\n        vertical-align: top;\n    }\n\n    .dataframe thead th {\n        text-align: right;\n    }\n</style>\n<table border=\"1\" class=\"dataframe\">\n  <thead>\n    <tr style=\"text-align: right;\">\n      <th></th>\n      <th>ID.x</th>\n      <th>EmploymentField</th>\n      <th>Age</th>\n      <th>Income</th>\n    </tr>\n  </thead>\n  <tbody>\n    <tr>\n      <th>0</th>\n      <td>cef35615d61b202f1dc794ef2746df14</td>\n      <td>office and administrative support</td>\n      <td>28.0</td>\n      <td>32000.0</td>\n    </tr>\n    <tr>\n      <th>1</th>\n      <td>323e5a113644d18185c743c241407754</td>\n      <td>food and beverage</td>\n      <td>22.0</td>\n      <td>15000.0</td>\n    </tr>\n    <tr>\n      <th>2</th>\n      <td>b29a1027e5cd062e654a63764157461d</td>\n      <td>finance</td>\n      <td>19.0</td>\n      <td>48000.0</td>\n    </tr>\n    <tr>\n      <th>3</th>\n      <td>04a11e4bcb573a1261eb0d9948d32637</td>\n      <td>arts, entertainment, sports, or media</td>\n      <td>26.0</td>\n      <td>43000.0</td>\n    </tr>\n    <tr>\n      <th>4</th>\n      <td>9368291c93d5d5f5c8cdb1a575e18bec</td>\n      <td>education</td>\n      <td>20.0</td>\n      <td>6000.0</td>\n    </tr>\n  </tbody>\n</table>\n</div>"
     },
     "metadata": {},
     "output_type": "execute_result",
     "execution_count": 41
    }
   ],
   "source": [
    "fcc_survey_df = pd.read_csv('datasets/fcc_2016_coder_survey_subset.csv', encoding='utf-8')\n",
    "fcc_survey_df[['ID.x', 'EmploymentField', 'Age', 'Income']].head()"
   ],
   "metadata": {
    "collapsed": false,
    "pycharm": {
     "name": "#%%\n",
     "is_executing": false
    }
   }
  },
  {
   "cell_type": "markdown",
   "source": [
    "#### Fixed-width binning - Developer age distribution"
   ],
   "metadata": {
    "collapsed": false,
    "pycharm": {
     "name": "#%% md\n"
    }
   }
  },
  {
   "cell_type": "code",
   "execution_count": 56,
   "outputs": [
    {
     "data": {
      "text/plain": "Text(0, 0.5, 'Frequency')"
     },
     "metadata": {},
     "output_type": "execute_result",
     "execution_count": 56
    },
    {
     "data": {
      "text/plain": "<Figure size 432x288 with 1 Axes>",
      "image/png": "[encoded data removed]"
     },
     "metadata": {
      "needs_background": "light"
     },
     "output_type": "display_data"
    }
   ],
   "source": [
    "fig, ax = plt.subplots()\n",
    "fcc_survey_df['Age'].hist(color='#A9C5D3')\n",
    "ax.set_title('Developer Age Histogram', fontsize=12)\n",
    "ax.set_xlabel('Age', fontsize=14)\n",
    "ax.set_ylabel('Frequency', fontsize=16)"
   ],
   "metadata": {
    "collapsed": false,
    "pycharm": {
     "name": "#%%\n",
     "is_executing": false
    }
   }
  },
  {
   "cell_type": "markdown",
   "source": [
    "### Binning based on rounding\n",
    "Age Range: |Bin\n",
    "-----------|---\n",
    " 0 -  9  : |0 \n",
    "10 - 19  : |1\n",
    "20 - 29  : |2\n",
    "30 - 39  : |3\n",
    "40 - 49  : |4\n",
    "50 - 59  : |5\n",
    "60 - 69  : |6\n",
    "\n",
    "  ... and so on"
   ],
   "metadata": {
    "collapsed": false,
    "pycharm": {
     "name": "#%% md\n"
    }
   }
  },
  {
   "cell_type": "code",
   "execution_count": 58,
   "outputs": [
    {
     "data": {
      "text/plain": "                                  ID.x   Age  Age_bin_round\n1071  6a02aa4618c99fdb3e24de522a099431  17.0            1.0\n1072  f0e5e47278c5f248fe861c5f7214c07a  38.0            3.0\n1073  6e14f6d0779b7e424fa3fdd9e4bd3bf9  21.0            2.0\n1074  c2654c07dc929cdf3dad4d1aec4ffbb3  53.0            5.0\n1075  f07449fc9339b2e57703ec7886232523  35.0            3.0",
      "text/html": "<div>\n<style scoped>\n    .dataframe tbody tr th:only-of-type {\n        vertical-align: middle;\n    }\n\n    .dataframe tbody tr th {\n        vertical-align: top;\n    }\n\n    .dataframe thead th {\n        text-align: right;\n    }\n</style>\n<table border=\"1\" class=\"dataframe\">\n  <thead>\n    <tr style=\"text-align: right;\">\n      <th></th>\n      <th>ID.x</th>\n      <th>Age</th>\n      <th>Age_bin_round</th>\n    </tr>\n  </thead>\n  <tbody>\n    <tr>\n      <th>1071</th>\n      <td>6a02aa4618c99fdb3e24de522a099431</td>\n      <td>17.0</td>\n      <td>1.0</td>\n    </tr>\n    <tr>\n      <th>1072</th>\n      <td>f0e5e47278c5f248fe861c5f7214c07a</td>\n      <td>38.0</td>\n      <td>3.0</td>\n    </tr>\n    <tr>\n      <th>1073</th>\n      <td>6e14f6d0779b7e424fa3fdd9e4bd3bf9</td>\n      <td>21.0</td>\n      <td>2.0</td>\n    </tr>\n    <tr>\n      <th>1074</th>\n      <td>c2654c07dc929cdf3dad4d1aec4ffbb3</td>\n      <td>53.0</td>\n      <td>5.0</td>\n    </tr>\n    <tr>\n      <th>1075</th>\n      <td>f07449fc9339b2e57703ec7886232523</td>\n      <td>35.0</td>\n      <td>3.0</td>\n    </tr>\n  </tbody>\n</table>\n</div>"
     },
     "metadata": {},
     "output_type": "execute_result",
     "execution_count": 58
    }
   ],
   "source": [
    "fcc_survey_df['Age_bin_round'] = np.array(np.floor(np.array(fcc_survey_df['Age']) / 10.))\n",
    "fcc_survey_df[['ID.x', 'Age', 'Age_bin_round']].iloc[1071:1076]"
   ],
   "metadata": {
    "collapsed": false,
    "pycharm": {
     "name": "#%%\n",
     "is_executing": false
    }
   }
  },
  {
   "cell_type": "markdown",
   "source": [
    "### Binning based on custom ranges\n",
    "Age Range | Bin\n",
    "----------|-----\n",
    " 0 -  15  | 1\n",
    "16 -  30  | 2\n",
    "31 -  45  | 3\n",
    "46 -  60  | 4\n",
    "61 -  75  | 5\n",
    "75 - 100  | 6"
   ],
   "metadata": {
    "collapsed": false,
    "pycharm": {
     "name": "#%% md\n"
    }
   }
  },
  {
   "cell_type": "code",
   "execution_count": 60,
   "outputs": [
    {
     "data": {
      "text/plain": "                                  ID.x   Age  Age_bin_round  \\\n1071  6a02aa4618c99fdb3e24de522a099431  17.0            1.0   \n1072  f0e5e47278c5f248fe861c5f7214c07a  38.0            3.0   \n1073  6e14f6d0779b7e424fa3fdd9e4bd3bf9  21.0            2.0   \n1074  c2654c07dc929cdf3dad4d1aec4ffbb3  53.0            5.0   \n1075  f07449fc9339b2e57703ec7886232523  35.0            3.0   \n\n     Age_bin_custom_range Age_bin_custom_label  \n1071             (15, 30]                    2  \n1072             (30, 45]                    3  \n1073             (15, 30]                    2  \n1074             (45, 60]                    4  \n1075             (30, 45]                    3  ",
      "text/html": "<div>\n<style scoped>\n    .dataframe tbody tr th:only-of-type {\n        vertical-align: middle;\n    }\n\n    .dataframe tbody tr th {\n        vertical-align: top;\n    }\n\n    .dataframe thead th {\n        text-align: right;\n    }\n</style>\n<table border=\"1\" class=\"dataframe\">\n  <thead>\n    <tr style=\"text-align: right;\">\n      <th></th>\n      <th>ID.x</th>\n      <th>Age</th>\n      <th>Age_bin_round</th>\n      <th>Age_bin_custom_range</th>\n      <th>Age_bin_custom_label</th>\n    </tr>\n  </thead>\n  <tbody>\n    <tr>\n      <th>1071</th>\n      <td>6a02aa4618c99fdb3e24de522a099431</td>\n      <td>17.0</td>\n      <td>1.0</td>\n      <td>(15, 30]</td>\n      <td>2</td>\n    </tr>\n    <tr>\n      <th>1072</th>\n      <td>f0e5e47278c5f248fe861c5f7214c07a</td>\n      <td>38.0</td>\n      <td>3.0</td>\n      <td>(30, 45]</td>\n      <td>3</td>\n    </tr>\n    <tr>\n      <th>1073</th>\n      <td>6e14f6d0779b7e424fa3fdd9e4bd3bf9</td>\n      <td>21.0</td>\n      <td>2.0</td>\n      <td>(15, 30]</td>\n      <td>2</td>\n    </tr>\n    <tr>\n      <th>1074</th>\n      <td>c2654c07dc929cdf3dad4d1aec4ffbb3</td>\n      <td>53.0</td>\n      <td>5.0</td>\n      <td>(45, 60]</td>\n      <td>4</td>\n    </tr>\n    <tr>\n      <th>1075</th>\n      <td>f07449fc9339b2e57703ec7886232523</td>\n      <td>35.0</td>\n      <td>3.0</td>\n      <td>(30, 45]</td>\n      <td>3</td>\n    </tr>\n  </tbody>\n</table>\n</div>"
     },
     "metadata": {},
     "output_type": "execute_result",
     "execution_count": 60
    }
   ],
   "source": [
    "bin_ranges = [0, 15, 30, 45, 60, 75, 100]\n",
    "bin_names = [1, 2, 3, 4, 5, 6]\n",
    "fcc_survey_df['Age_bin_custom_range'] = pd.cut(np.array(fcc_survey_df['Age']), bins=bin_ranges)\n",
    "fcc_survey_df['Age_bin_custom_label'] = pd.cut(np.array(fcc_survey_df['Age']), bins=bin_ranges, labels=bin_names)\n",
    "fcc_survey_df[['ID.x', 'Age', 'Age_bin_round', 'Age_bin_custom_range', 'Age_bin_custom_label']].iloc[1071:1076]"
   ],
   "metadata": {
    "collapsed": false,
    "pycharm": {
     "name": "#%%\n",
     "is_executing": false
    }
   }
  },
  {
   "cell_type": "markdown",
   "source": [
    "### Adaptive Binning\n",
    "#### Quantile based binning"
   ],
   "metadata": {
    "collapsed": false,
    "pycharm": {
     "name": "#%% md\n"
    }
   }
  },
  {
   "cell_type": "code",
   "execution_count": 65,
   "outputs": [
    {
     "data": {
      "text/plain": "Text(0, 0.5, 'Frequency')"
     },
     "metadata": {},
     "output_type": "execute_result",
     "execution_count": 65
    },
    {
     "data": {
      "text/plain": "<Figure size 432x288 with 1 Axes>",
      "image/png": "[encoded data removed]"
     },
     "metadata": {
      "needs_background": "light"
     },
     "output_type": "display_data"
    }
   ],
   "source": [
    "fcc_survey_df[['ID.x', 'Age', 'Income']].iloc[4:9]\n",
    "fig, ax = plt.subplots()\n",
    "fcc_survey_df['Income'].hist(bins=30, color='#A9C5D3')\n",
    "ax.set_title('Developer Income Histogram', fontsize=12)\n",
    "ax.set_xlabel('Developer Income', fontsize=12)\n",
    "ax.set_ylabel('Frequency', fontsize=12)"
   ],
   "metadata": {
    "collapsed": false,
    "pycharm": {
     "name": "#%%\n",
     "is_executing": false
    }
   }
  },
  {
   "cell_type": "markdown",
   "source": [
    "    We can see from the distribution depicted that as expected there is a right skew with lesser\n",
    "    developers earning more money and vice versa. Let’s take a 4-Quantile or a quartile based adaptive binning\n",
    "    scheme. The following snippet helps us obtain the income values that fall on the four quartiles in the distribution"
   ],
   "metadata": {
    "collapsed": false,
    "pycharm": {
     "name": "#%% md\n"
    }
   }
  },
  {
   "cell_type": "code",
   "execution_count": 68,
   "outputs": [
    {
     "data": {
      "text/plain": "Text(0, 0.5, 'Frequency')"
     },
     "metadata": {},
     "output_type": "execute_result",
     "execution_count": 68
    },
    {
     "data": {
      "text/plain": "<Figure size 432x288 with 1 Axes>",
      "image/png": "[encoded data removed]"
     },
     "metadata": {
      "needs_background": "light"
     },
     "output_type": "display_data"
    }
   ],
   "source": [
    "quantile_list = [0, .25, .5, .75, 1.]\n",
    "quantiles = fcc_survey_df['Income'].quantile(quantile_list)\n",
    "quantiles\n",
    "fig, ax = plt.subplots()\n",
    "fcc_survey_df['Income'].hist(bins=30, color='#A9C5D3')\n",
    "for quantile in quantiles:\n",
    "    qvl = plt.axvline(quantile, color='r')\n",
    "ax.legend([qvl], ['Quantiles'], fontsize=10)\n",
    "ax.set_title('Developer Income Histogram with Quantiles', fontsize=12)\n",
    "ax.set_xlabel('Developer Income', fontsize=12)\n",
    "ax.set_ylabel('Frequency', fontsize=12)"
   ],
   "metadata": {
    "collapsed": false,
    "pycharm": {
     "name": "#%%\n",
     "is_executing": false
    }
   }
  },
  {
   "cell_type": "markdown",
   "source": [
    "The 4-Quantile values for the income attribute are depicted by red vertical lines in Figure.\n",
    "Let’s now use quantile binning to bin each of the developer income values into specific bins using the\n",
    "following code."
   ],
   "metadata": {
    "collapsed": false,
    "pycharm": {
     "name": "#%% md\n"
    }
   }
  },
  {
   "cell_type": "code",
   "execution_count": 69,
   "outputs": [
    {
     "data": {
      "text/plain": "                               ID.x   Age   Income Income_quantile_range  \\\n4  9368291c93d5d5f5c8cdb1a575e18bec  20.0   6000.0   (5999.999, 20000.0]   \n5  dd0e77eab9270e4b67c19b0d6bbf621b  34.0  40000.0    (37000.0, 60000.0]   \n6  7599c0aa0419b59fd11ffede98a3665d  23.0  32000.0    (20000.0, 37000.0]   \n7  6dff182db452487f07a47596f314bddc  35.0  40000.0    (37000.0, 60000.0]   \n8  9dc233f8ed1c6eb2432672ab4bb39249  33.0  80000.0   (60000.0, 200000.0]   \n\n  Income_quantile_label  \n4                 0-25Q  \n5                50-75Q  \n6                25-50Q  \n7                50-75Q  \n8               75-100Q  ",
      "text/html": "<div>\n<style scoped>\n    .dataframe tbody tr th:only-of-type {\n        vertical-align: middle;\n    }\n\n    .dataframe tbody tr th {\n        vertical-align: top;\n    }\n\n    .dataframe thead th {\n        text-align: right;\n    }\n</style>\n<table border=\"1\" class=\"dataframe\">\n  <thead>\n    <tr style=\"text-align: right;\">\n      <th></th>\n      <th>ID.x</th>\n      <th>Age</th>\n      <th>Income</th>\n      <th>Income_quantile_range</th>\n      <th>Income_quantile_label</th>\n    </tr>\n  </thead>\n  <tbody>\n    <tr>\n      <th>4</th>\n      <td>9368291c93d5d5f5c8cdb1a575e18bec</td>\n      <td>20.0</td>\n      <td>6000.0</td>\n      <td>(5999.999, 20000.0]</td>\n      <td>0-25Q</td>\n    </tr>\n    <tr>\n      <th>5</th>\n      <td>dd0e77eab9270e4b67c19b0d6bbf621b</td>\n      <td>34.0</td>\n      <td>40000.0</td>\n      <td>(37000.0, 60000.0]</td>\n      <td>50-75Q</td>\n    </tr>\n    <tr>\n      <th>6</th>\n      <td>7599c0aa0419b59fd11ffede98a3665d</td>\n      <td>23.0</td>\n      <td>32000.0</td>\n      <td>(20000.0, 37000.0]</td>\n      <td>25-50Q</td>\n    </tr>\n    <tr>\n      <th>7</th>\n      <td>6dff182db452487f07a47596f314bddc</td>\n      <td>35.0</td>\n      <td>40000.0</td>\n      <td>(37000.0, 60000.0]</td>\n      <td>50-75Q</td>\n    </tr>\n    <tr>\n      <th>8</th>\n      <td>9dc233f8ed1c6eb2432672ab4bb39249</td>\n      <td>33.0</td>\n      <td>80000.0</td>\n      <td>(60000.0, 200000.0]</td>\n      <td>75-100Q</td>\n    </tr>\n  </tbody>\n</table>\n</div>"
     },
     "metadata": {},
     "output_type": "execute_result",
     "execution_count": 69
    }
   ],
   "source": [
    "quantile_labels = ['0-25Q', '25-50Q', '50-75Q', '75-100Q']\n",
    "fcc_survey_df['Income_quantile_range'] = pd.qcut(fcc_survey_df['Income'], q=quantile_list)\n",
    "fcc_survey_df['Income_quantile_label'] = pd.qcut(fcc_survey_df['Income'], q=quantile_list, labels=quantile_labels)\n",
    "fcc_survey_df[['ID.x', 'Age', 'Income', 'Income_quantile_range', 'Income_quantile_label']].iloc[4:9]"
   ],
   "metadata": {
    "collapsed": false,
    "pycharm": {
     "name": "#%% \n",
     "is_executing": false
    }
   }
  },
  {
   "cell_type": "markdown",
   "source": [
    "### Mathematical Transformations\n",
    "#### Log Transform\n",
    "Log transforms are useful when applied to skewed distributions as they tend to expand\n",
    "the values which fall in the range of lower magnitudes and tend to compress or reduce the values which\n",
    "fall in the range of higher magnitudes. This tends to make the skewed distribution as normal-like as possible."
   ],
   "metadata": {
    "collapsed": false,
    "pycharm": {
     "name": "#%% md\n"
    }
   }
  },
  {
   "cell_type": "code",
   "execution_count": 73,
   "outputs": [
    {
     "data": {
      "text/plain": "                               ID.x   Age   Income  Income_log\n4  9368291c93d5d5f5c8cdb1a575e18bec  20.0   6000.0    8.699681\n5  dd0e77eab9270e4b67c19b0d6bbf621b  34.0  40000.0   10.596660\n6  7599c0aa0419b59fd11ffede98a3665d  23.0  32000.0   10.373522\n7  6dff182db452487f07a47596f314bddc  35.0  40000.0   10.596660\n8  9dc233f8ed1c6eb2432672ab4bb39249  33.0  80000.0   11.289794",
      "text/html": "<div>\n<style scoped>\n    .dataframe tbody tr th:only-of-type {\n        vertical-align: middle;\n    }\n\n    .dataframe tbody tr th {\n        vertical-align: top;\n    }\n\n    .dataframe thead th {\n        text-align: right;\n    }\n</style>\n<table border=\"1\" class=\"dataframe\">\n  <thead>\n    <tr style=\"text-align: right;\">\n      <th></th>\n      <th>ID.x</th>\n      <th>Age</th>\n      <th>Income</th>\n      <th>Income_log</th>\n    </tr>\n  </thead>\n  <tbody>\n    <tr>\n      <th>4</th>\n      <td>9368291c93d5d5f5c8cdb1a575e18bec</td>\n      <td>20.0</td>\n      <td>6000.0</td>\n      <td>8.699681</td>\n    </tr>\n    <tr>\n      <th>5</th>\n      <td>dd0e77eab9270e4b67c19b0d6bbf621b</td>\n      <td>34.0</td>\n      <td>40000.0</td>\n      <td>10.596660</td>\n    </tr>\n    <tr>\n      <th>6</th>\n      <td>7599c0aa0419b59fd11ffede98a3665d</td>\n      <td>23.0</td>\n      <td>32000.0</td>\n      <td>10.373522</td>\n    </tr>\n    <tr>\n      <th>7</th>\n      <td>6dff182db452487f07a47596f314bddc</td>\n      <td>35.0</td>\n      <td>40000.0</td>\n      <td>10.596660</td>\n    </tr>\n    <tr>\n      <th>8</th>\n      <td>9dc233f8ed1c6eb2432672ab4bb39249</td>\n      <td>33.0</td>\n      <td>80000.0</td>\n      <td>11.289794</td>\n    </tr>\n  </tbody>\n</table>\n</div>"
     },
     "metadata": {},
     "output_type": "execute_result",
     "execution_count": 73
    }
   ],
   "source": [
    "fcc_survey_df['Income_log'] = np.log((1+ fcc_survey_df['Income']))\n",
    "fcc_survey_df[['ID.x', 'Age', 'Income', 'Income_log']].iloc[4:9]"
   ],
   "metadata": {
    "collapsed": false,
    "pycharm": {
     "name": "#%%\n",
     "is_executing": false
    }
   }
  },
  {
   "cell_type": "code",
   "execution_count": 82,
   "outputs": [
    {
     "data": {
      "text/plain": "Text(11.5, 450, '$\\\\mu$=10.43')"
     },
     "metadata": {},
     "output_type": "execute_result",
     "execution_count": 82
    },
    {
     "data": {
      "text/plain": "<Figure size 432x288 with 1 Axes>",
      "image/png": "[encoded data removed]"
     },
     "metadata": {
      "needs_background": "light"
     },
     "output_type": "display_data"
    }
   ],
   "source": [
    "income_log_mean = np.round(np.mean(fcc_survey_df['Income_log']), 2)\n",
    "fig, ax = plt.subplots()\n",
    "fcc_survey_df['Income_log'].hist(bins=30, color='#A9C5D3')\n",
    "plt.axvline(income_log_mean, color='r')\n",
    "ax.set_title('Developer Income Histogram after Log Transform', fontsize=12)\n",
    "ax.set_xlabel('Developer Income (log scale)', fontsize=12)\n",
    "ax.set_ylabel('Frequency', fontsize=12)\n",
    "ax.text(11.5, 450, r'$\\mu$='+str(income_log_mean), fontsize=10)"
   ],
   "metadata": {
    "collapsed": false,
    "pycharm": {
     "name": "#%%\n",
     "is_executing": false
    }
   }
  },
  {
   "cell_type": "markdown",
   "source": [
    "#### Box–Cox transform"
   ],
   "metadata": {
    "collapsed": false,
    "pycharm": {
     "name": "#%% md\n"
    }
   }
  },
  {
   "cell_type": "code",
   "execution_count": 87,
   "outputs": [
    {
     "name": "stdout",
     "text": [
      "Optimal lambda value: 0.11799123945557663\n"
     ],
     "output_type": "stream"
    },
    {
     "data": {
      "text/plain": "array([ True,  True,  True, ...,  True,  True,  True])"
     },
     "metadata": {},
     "output_type": "execute_result",
     "execution_count": 87
    }
   ],
   "source": [
    "# get optimal lambda value from non null income values\n",
    "income = np.array(fcc_survey_df['Income'])\n",
    "income_clean = income[~np.isnan(income)]\n",
    "l, opt_lambda = spstats.boxcox(income_clean)\n",
    "print('Optimal lambda value:', opt_lambda)"
   ],
   "metadata": {
    "collapsed": false,
    "pycharm": {
     "name": "#%%\n",
     "is_executing": false
    }
   }
  },
  {
   "cell_type": "markdown",
   "source": [
    "Now that we have obtained the optimal λ value, let’s use the Box-Cox transform for two values of λ such\n",
    "that λ = 0 & λ = λ<sub>optimal</sub> and transform the raw numeric values pertaining to developer incomes"
   ],
   "metadata": {
    "collapsed": false,
    "pycharm": {
     "name": "#%% md\n"
    }
   }
  },
  {
   "cell_type": "code",
   "execution_count": 88,
   "outputs": [
    {
     "name": "stderr",
     "text": [
      "C:\\ProgramData\\Anaconda3\\lib\\site-packages\\scipy\\stats\\morestats.py:1031: RuntimeWarning: invalid value encountered in less_equal\n  if any(x <= 0):\n"
     ],
     "output_type": "stream"
    },
    {
     "data": {
      "text/plain": "                               ID.x   Age   Income  Income_log  \\\n4  9368291c93d5d5f5c8cdb1a575e18bec  20.0   6000.0    8.699681   \n5  dd0e77eab9270e4b67c19b0d6bbf621b  34.0  40000.0   10.596660   \n6  7599c0aa0419b59fd11ffede98a3665d  23.0  32000.0   10.373522   \n7  6dff182db452487f07a47596f314bddc  35.0  40000.0   10.596660   \n8  9dc233f8ed1c6eb2432672ab4bb39249  33.0  80000.0   11.289794   \n\n   Income_boxcox_lambda_0  Income_boxcox_lambda_opt  \n4                8.699681                 15.180668  \n5               10.596660                 21.115342  \n6               10.373522                 20.346420  \n7               10.596660                 21.115342  \n8               11.289794                 23.637131  ",
      "text/html": "<div>\n<style scoped>\n    .dataframe tbody tr th:only-of-type {\n        vertical-align: middle;\n    }\n\n    .dataframe tbody tr th {\n        vertical-align: top;\n    }\n\n    .dataframe thead th {\n        text-align: right;\n    }\n</style>\n<table border=\"1\" class=\"dataframe\">\n  <thead>\n    <tr style=\"text-align: right;\">\n      <th></th>\n      <th>ID.x</th>\n      <th>Age</th>\n      <th>Income</th>\n      <th>Income_log</th>\n      <th>Income_boxcox_lambda_0</th>\n      <th>Income_boxcox_lambda_opt</th>\n    </tr>\n  </thead>\n  <tbody>\n    <tr>\n      <th>4</th>\n      <td>9368291c93d5d5f5c8cdb1a575e18bec</td>\n      <td>20.0</td>\n      <td>6000.0</td>\n      <td>8.699681</td>\n      <td>8.699681</td>\n      <td>15.180668</td>\n    </tr>\n    <tr>\n      <th>5</th>\n      <td>dd0e77eab9270e4b67c19b0d6bbf621b</td>\n      <td>34.0</td>\n      <td>40000.0</td>\n      <td>10.596660</td>\n      <td>10.596660</td>\n      <td>21.115342</td>\n    </tr>\n    <tr>\n      <th>6</th>\n      <td>7599c0aa0419b59fd11ffede98a3665d</td>\n      <td>23.0</td>\n      <td>32000.0</td>\n      <td>10.373522</td>\n      <td>10.373522</td>\n      <td>20.346420</td>\n    </tr>\n    <tr>\n      <th>7</th>\n      <td>6dff182db452487f07a47596f314bddc</td>\n      <td>35.0</td>\n      <td>40000.0</td>\n      <td>10.596660</td>\n      <td>10.596660</td>\n      <td>21.115342</td>\n    </tr>\n    <tr>\n      <th>8</th>\n      <td>9dc233f8ed1c6eb2432672ab4bb39249</td>\n      <td>33.0</td>\n      <td>80000.0</td>\n      <td>11.289794</td>\n      <td>11.289794</td>\n      <td>23.637131</td>\n    </tr>\n  </tbody>\n</table>\n</div>"
     },
     "metadata": {},
     "output_type": "execute_result",
     "execution_count": 88
    }
   ],
   "source": [
    "fcc_survey_df['Income_boxcox_lambda_0'] = spstats.boxcox((1+fcc_survey_df['Income']), lmbda=0)\n",
    "fcc_survey_df['Income_boxcox_lambda_opt'] = spstats.boxcox(fcc_survey_df['Income'], lmbda=opt_lambda)\n",
    "fcc_survey_df[['ID.x', 'Age', 'Income', 'Income_log', 'Income_boxcox_lambda_0', 'Income_boxcox_lambda_opt']].iloc[4:9]"
   ],
   "metadata": {
    "collapsed": false,
    "pycharm": {
     "name": "#%%\n",
     "is_executing": false
    }
   }
  },
  {
   "cell_type": "code",
   "execution_count": 89,
   "outputs": [
    {
     "data": {
      "text/plain": "Text(24, 450, '$\\\\mu$=20.65')"
     },
     "metadata": {},
     "output_type": "execute_result",
     "execution_count": 89
    },
    {
     "data": {
      "text/plain": "<Figure size 432x288 with 1 Axes>",
      "image/png": "[encoded data removed]"
     },
     "metadata": {
      "needs_background": "light"
     },
     "output_type": "display_data"
    }
   ],
   "source": [
    "income_boxcox_mean = np.round(np.mean(fcc_survey_df['Income_boxcox_lambda_opt']), 2)\n",
    "fig, ax = plt.subplots()\n",
    "fcc_survey_df['Income_boxcox_lambda_opt'].hist(bins=30, color='#A9C5D3')\n",
    "plt.axvline(income_boxcox_mean, color='r')\n",
    "ax.set_title('Developer Income Histogram after Box–Cox Transform', fontsize=12)\n",
    "ax.set_xlabel('Developer Income (Box–Cox transform)', fontsize=12)\n",
    "ax.set_ylabel('Frequency', fontsize=12)\n",
    "ax.text(24, 450, r'$\\mu$='+str(income_boxcox_mean), fontsize=10)"
   ],
   "metadata": {
    "collapsed": false,
    "pycharm": {
     "name": "#%%\n",
     "is_executing": false
    }
   }
  }
 ],
 "metadata": {
  "language_info": {
   "codemirror_mode": {
    "name": "ipython",
    "version": 2
   },
   "file_extension": ".py",
   "mimetype": "text/x-python",
   "name": "python",
   "nbconvert_exporter": "python",
   "pygments_lexer": "ipython2",
   "version": "2.7.6"
  },
  "kernelspec": {
   "name": "python3",
   "language": "python",
   "display_name": "Python 3"
  },
  "pycharm": {
   "stem_cell": {
    "cell_type": "raw",
    "source": [],
    "metadata": {
     "collapsed": false
    }
   }
  }
 },
 "nbformat": 4,
 "nbformat_minor": 0
}