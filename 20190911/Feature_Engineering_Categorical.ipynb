{
 "cells": [
  {
   "cell_type": "code",
   "execution_count": 3,
   "metadata": {
    "collapsed": true,
    "pycharm": {
     "is_executing": false
    }
   },
   "outputs": [],
   "source": [
    "import pandas as pd\n",
    "import numpy as np"
   ]
  },
  {
   "cell_type": "markdown",
   "source": [
    "### Transforming Nominal Features"
   ],
   "metadata": {
    "collapsed": false,
    "pycharm": {
     "name": "#%% md\n"
    }
   }
  },
  {
   "cell_type": "code",
   "execution_count": 4,
   "outputs": [
    {
     "data": {
      "text/plain": "                       Name Platform    Year         Genre Publisher\n1         Super Mario Bros.      NES  1985.0      Platform  Nintendo\n2            Mario Kart Wii      Wii  2008.0        Racing  Nintendo\n3         Wii Sports Resort      Wii  2009.0        Sports  Nintendo\n4  Pokemon Red/Pokemon Blue       GB  1996.0  Role-Playing  Nintendo\n5                    Tetris       GB  1989.0        Puzzle  Nintendo\n6     New Super Mario Bros.       DS  2006.0      Platform  Nintendo",
      "text/html": "<div>\n<style scoped>\n    .dataframe tbody tr th:only-of-type {\n        vertical-align: middle;\n    }\n\n    .dataframe tbody tr th {\n        vertical-align: top;\n    }\n\n    .dataframe thead th {\n        text-align: right;\n    }\n</style>\n<table border=\"1\" class=\"dataframe\">\n  <thead>\n    <tr style=\"text-align: right;\">\n      <th></th>\n      <th>Name</th>\n      <th>Platform</th>\n      <th>Year</th>\n      <th>Genre</th>\n      <th>Publisher</th>\n    </tr>\n  </thead>\n  <tbody>\n    <tr>\n      <th>1</th>\n      <td>Super Mario Bros.</td>\n      <td>NES</td>\n      <td>1985.0</td>\n      <td>Platform</td>\n      <td>Nintendo</td>\n    </tr>\n    <tr>\n      <th>2</th>\n      <td>Mario Kart Wii</td>\n      <td>Wii</td>\n      <td>2008.0</td>\n      <td>Racing</td>\n      <td>Nintendo</td>\n    </tr>\n    <tr>\n      <th>3</th>\n      <td>Wii Sports Resort</td>\n      <td>Wii</td>\n      <td>2009.0</td>\n      <td>Sports</td>\n      <td>Nintendo</td>\n    </tr>\n    <tr>\n      <th>4</th>\n      <td>Pokemon Red/Pokemon Blue</td>\n      <td>GB</td>\n      <td>1996.0</td>\n      <td>Role-Playing</td>\n      <td>Nintendo</td>\n    </tr>\n    <tr>\n      <th>5</th>\n      <td>Tetris</td>\n      <td>GB</td>\n      <td>1989.0</td>\n      <td>Puzzle</td>\n      <td>Nintendo</td>\n    </tr>\n    <tr>\n      <th>6</th>\n      <td>New Super Mario Bros.</td>\n      <td>DS</td>\n      <td>2006.0</td>\n      <td>Platform</td>\n      <td>Nintendo</td>\n    </tr>\n  </tbody>\n</table>\n</div>"
     },
     "metadata": {},
     "output_type": "execute_result",
     "execution_count": 4
    }
   ],
   "source": [
    "vg_df = pd.read_csv('datasets/vgsales.csv', encoding='utf-8')\n",
    "vg_df[['Name', 'Platform', 'Year', 'Genre', 'Publisher']].iloc[1:7]"
   ],
   "metadata": {
    "collapsed": false,
    "pycharm": {
     "name": "#%% \n",
     "is_executing": false
    }
   }
  },
  {
   "cell_type": "code",
   "execution_count": 5,
   "outputs": [
    {
     "data": {
      "text/plain": "array(['Action', 'Adventure', 'Fighting', 'Misc', 'Platform', 'Puzzle',\n       'Racing', 'Role-Playing', 'Shooter', 'Simulation', 'Sports',\n       'Strategy'], dtype=object)"
     },
     "metadata": {},
     "output_type": "execute_result",
     "execution_count": 5
    }
   ],
   "source": [
    "genres = np.unique(vg_df['Genre'])\n",
    "genres"
   ],
   "metadata": {
    "collapsed": false,
    "pycharm": {
     "name": "#%%\n",
     "is_executing": false
    }
   }
  },
  {
   "cell_type": "code",
   "execution_count": 6,
   "outputs": [
    {
     "data": {
      "text/plain": "array([10,  4,  6, ...,  6,  5,  4])"
     },
     "metadata": {},
     "output_type": "execute_result",
     "execution_count": 6
    }
   ],
   "source": [
    "from sklearn.preprocessing import LabelEncoder\n",
    "gle = LabelEncoder()\n",
    "genre_labels = gle.fit_transform(vg_df['Genre'])\n",
    "genre_labels"
   ],
   "metadata": {
    "collapsed": false,
    "pycharm": {
     "name": "#%%\n",
     "is_executing": false
    }
   }
  },
  {
   "cell_type": "code",
   "execution_count": 7,
   "outputs": [
    {
     "data": {
      "text/plain": "{0: 'Action',\n 1: 'Adventure',\n 2: 'Fighting',\n 3: 'Misc',\n 4: 'Platform',\n 5: 'Puzzle',\n 6: 'Racing',\n 7: 'Role-Playing',\n 8: 'Shooter',\n 9: 'Simulation',\n 10: 'Sports',\n 11: 'Strategy'}"
     },
     "metadata": {},
     "output_type": "execute_result",
     "execution_count": 7
    }
   ],
   "source": [
    "genre_mappings = {index: label for index, label in enumerate(gle.classes_)}\n",
    "genre_mappings"
   ],
   "metadata": {
    "collapsed": false,
    "pycharm": {
     "name": "#%%\n",
     "is_executing": false
    }
   }
  },
  {
   "cell_type": "code",
   "execution_count": 8,
   "outputs": [
    {
     "data": {
      "text/plain": "                       Name Platform    Year         Genre  GenreLabel\n1         Super Mario Bros.      NES  1985.0      Platform           4\n2            Mario Kart Wii      Wii  2008.0        Racing           6\n3         Wii Sports Resort      Wii  2009.0        Sports          10\n4  Pokemon Red/Pokemon Blue       GB  1996.0  Role-Playing           7\n5                    Tetris       GB  1989.0        Puzzle           5\n6     New Super Mario Bros.       DS  2006.0      Platform           4",
      "text/html": "<div>\n<style scoped>\n    .dataframe tbody tr th:only-of-type {\n        vertical-align: middle;\n    }\n\n    .dataframe tbody tr th {\n        vertical-align: top;\n    }\n\n    .dataframe thead th {\n        text-align: right;\n    }\n</style>\n<table border=\"1\" class=\"dataframe\">\n  <thead>\n    <tr style=\"text-align: right;\">\n      <th></th>\n      <th>Name</th>\n      <th>Platform</th>\n      <th>Year</th>\n      <th>Genre</th>\n      <th>GenreLabel</th>\n    </tr>\n  </thead>\n  <tbody>\n    <tr>\n      <th>1</th>\n      <td>Super Mario Bros.</td>\n      <td>NES</td>\n      <td>1985.0</td>\n      <td>Platform</td>\n      <td>4</td>\n    </tr>\n    <tr>\n      <th>2</th>\n      <td>Mario Kart Wii</td>\n      <td>Wii</td>\n      <td>2008.0</td>\n      <td>Racing</td>\n      <td>6</td>\n    </tr>\n    <tr>\n      <th>3</th>\n      <td>Wii Sports Resort</td>\n      <td>Wii</td>\n      <td>2009.0</td>\n      <td>Sports</td>\n      <td>10</td>\n    </tr>\n    <tr>\n      <th>4</th>\n      <td>Pokemon Red/Pokemon Blue</td>\n      <td>GB</td>\n      <td>1996.0</td>\n      <td>Role-Playing</td>\n      <td>7</td>\n    </tr>\n    <tr>\n      <th>5</th>\n      <td>Tetris</td>\n      <td>GB</td>\n      <td>1989.0</td>\n      <td>Puzzle</td>\n      <td>5</td>\n    </tr>\n    <tr>\n      <th>6</th>\n      <td>New Super Mario Bros.</td>\n      <td>DS</td>\n      <td>2006.0</td>\n      <td>Platform</td>\n      <td>4</td>\n    </tr>\n  </tbody>\n</table>\n</div>"
     },
     "metadata": {},
     "output_type": "execute_result",
     "execution_count": 8
    }
   ],
   "source": [
    "vg_df['GenreLabel'] = genre_labels\n",
    "vg_df[['Name', 'Platform', 'Year', 'Genre', 'GenreLabel']].iloc[1:7]"
   ],
   "metadata": {
    "collapsed": false,
    "pycharm": {
     "name": "#%%\n",
     "is_executing": false
    }
   }
  },
  {
   "cell_type": "markdown",
   "source": [
    "### Transform Ordinal features"
   ],
   "metadata": {
    "collapsed": false,
    "pycharm": {
     "name": "#%% md\n"
    }
   }
  },
  {
   "cell_type": "code",
   "execution_count": 11,
   "outputs": [
    {
     "data": {
      "text/plain": "array(['Gen 1', 'Gen 2', 'Gen 3', 'Gen 4', 'Gen 5', 'Gen 6'], dtype=object)"
     },
     "metadata": {},
     "output_type": "execute_result",
     "execution_count": 11
    }
   ],
   "source": [
    "poke_df = pd.read_csv('datasets/Pokemon.csv', encoding='utf-8')\n",
    "poke_df = poke_df.sample(random_state=1, frac=1).reset_index(drop=True)\n",
    "np.unique(poke_df.Generation)"
   ],
   "metadata": {
    "collapsed": false,
    "pycharm": {
     "name": "#%%\n",
     "is_executing": false
    }
   }
  },
  {
   "cell_type": "code",
   "execution_count": 12,
   "outputs": [
    {
     "data": {
      "text/plain": "                  Name Generation  GenerationLabel\n4            Octillery      Gen 2                2\n5           Helioptile      Gen 6                6\n6               Dialga      Gen 4                4\n7  DeoxysDefense Forme      Gen 3                3\n8             Rapidash      Gen 1                1\n9               Swanna      Gen 5                5",
      "text/html": "<div>\n<style scoped>\n    .dataframe tbody tr th:only-of-type {\n        vertical-align: middle;\n    }\n\n    .dataframe tbody tr th {\n        vertical-align: top;\n    }\n\n    .dataframe thead th {\n        text-align: right;\n    }\n</style>\n<table border=\"1\" class=\"dataframe\">\n  <thead>\n    <tr style=\"text-align: right;\">\n      <th></th>\n      <th>Name</th>\n      <th>Generation</th>\n      <th>GenerationLabel</th>\n    </tr>\n  </thead>\n  <tbody>\n    <tr>\n      <th>4</th>\n      <td>Octillery</td>\n      <td>Gen 2</td>\n      <td>2</td>\n    </tr>\n    <tr>\n      <th>5</th>\n      <td>Helioptile</td>\n      <td>Gen 6</td>\n      <td>6</td>\n    </tr>\n    <tr>\n      <th>6</th>\n      <td>Dialga</td>\n      <td>Gen 4</td>\n      <td>4</td>\n    </tr>\n    <tr>\n      <th>7</th>\n      <td>DeoxysDefense Forme</td>\n      <td>Gen 3</td>\n      <td>3</td>\n    </tr>\n    <tr>\n      <th>8</th>\n      <td>Rapidash</td>\n      <td>Gen 1</td>\n      <td>1</td>\n    </tr>\n    <tr>\n      <th>9</th>\n      <td>Swanna</td>\n      <td>Gen 5</td>\n      <td>5</td>\n    </tr>\n  </tbody>\n</table>\n</div>"
     },
     "metadata": {},
     "output_type": "execute_result",
     "execution_count": 12
    }
   ],
   "source": [
    "gen_ord_map = {'Gen 1': 1, 'Gen 2': 2, 'Gen 3': 3, \n",
    "               'Gen 4': 4, 'Gen 5': 5, 'Gen 6': 6}\n",
    "poke_df['GenerationLabel'] = poke_df['Generation'].map(gen_ord_map)\n",
    "poke_df[['Name', 'Generation', 'GenerationLabel']].iloc[4:10]"
   ],
   "metadata": {
    "collapsed": false,
    "pycharm": {
     "name": "#%%\n",
     "is_executing": false
    }
   }
  },
  {
   "cell_type": "markdown",
   "source": [
    "### Encoding Categorical Features\n",
    "#### One-hot Encoding Scheme"
   ],
   "metadata": {
    "collapsed": false,
    "pycharm": {
     "name": "#%% md\n"
    }
   }
  },
  {
   "cell_type": "code",
   "execution_count": 13,
   "outputs": [
    {
     "data": {
      "text/plain": "                  Name Generation  Legendary\n4            Octillery      Gen 2      False\n5           Helioptile      Gen 6      False\n6               Dialga      Gen 4       True\n7  DeoxysDefense Forme      Gen 3       True\n8             Rapidash      Gen 1      False\n9               Swanna      Gen 5      False",
      "text/html": "<div>\n<style scoped>\n    .dataframe tbody tr th:only-of-type {\n        vertical-align: middle;\n    }\n\n    .dataframe tbody tr th {\n        vertical-align: top;\n    }\n\n    .dataframe thead th {\n        text-align: right;\n    }\n</style>\n<table border=\"1\" class=\"dataframe\">\n  <thead>\n    <tr style=\"text-align: right;\">\n      <th></th>\n      <th>Name</th>\n      <th>Generation</th>\n      <th>Legendary</th>\n    </tr>\n  </thead>\n  <tbody>\n    <tr>\n      <th>4</th>\n      <td>Octillery</td>\n      <td>Gen 2</td>\n      <td>False</td>\n    </tr>\n    <tr>\n      <th>5</th>\n      <td>Helioptile</td>\n      <td>Gen 6</td>\n      <td>False</td>\n    </tr>\n    <tr>\n      <th>6</th>\n      <td>Dialga</td>\n      <td>Gen 4</td>\n      <td>True</td>\n    </tr>\n    <tr>\n      <th>7</th>\n      <td>DeoxysDefense Forme</td>\n      <td>Gen 3</td>\n      <td>True</td>\n    </tr>\n    <tr>\n      <th>8</th>\n      <td>Rapidash</td>\n      <td>Gen 1</td>\n      <td>False</td>\n    </tr>\n    <tr>\n      <th>9</th>\n      <td>Swanna</td>\n      <td>Gen 5</td>\n      <td>False</td>\n    </tr>\n  </tbody>\n</table>\n</div>"
     },
     "metadata": {},
     "output_type": "execute_result",
     "execution_count": 13
    }
   ],
   "source": [
    "poke_df[['Name', 'Generation', 'Legendary']].iloc[4:10]"
   ],
   "metadata": {
    "collapsed": false,
    "pycharm": {
     "name": "#%%\n",
     "is_executing": false
    }
   }
  },
  {
   "cell_type": "markdown",
   "source": [
    "we have two categorical features, Generation and Legendary, \n",
    "depicting the Pokémon generations and their legendary status. \n",
    "First, we need to transform these text labels into numeric representations"
   ],
   "metadata": {
    "collapsed": false,
    "pycharm": {
     "name": "#%% md\n"
    }
   }
  },
  {
   "cell_type": "code",
   "execution_count": 17,
   "outputs": [
    {
     "data": {
      "text/plain": "                  Name Generation  Gen_Label  Legendary  Lgnd_Label\n4            Octillery      Gen 2          1      False           0\n5           Helioptile      Gen 6          5      False           0\n6               Dialga      Gen 4          3       True           1\n7  DeoxysDefense Forme      Gen 3          2       True           1\n8             Rapidash      Gen 1          0      False           0\n9               Swanna      Gen 5          4      False           0",
      "text/html": "<div>\n<style scoped>\n    .dataframe tbody tr th:only-of-type {\n        vertical-align: middle;\n    }\n\n    .dataframe tbody tr th {\n        vertical-align: top;\n    }\n\n    .dataframe thead th {\n        text-align: right;\n    }\n</style>\n<table border=\"1\" class=\"dataframe\">\n  <thead>\n    <tr style=\"text-align: right;\">\n      <th></th>\n      <th>Name</th>\n      <th>Generation</th>\n      <th>Gen_Label</th>\n      <th>Legendary</th>\n      <th>Lgnd_Label</th>\n    </tr>\n  </thead>\n  <tbody>\n    <tr>\n      <th>4</th>\n      <td>Octillery</td>\n      <td>Gen 2</td>\n      <td>1</td>\n      <td>False</td>\n      <td>0</td>\n    </tr>\n    <tr>\n      <th>5</th>\n      <td>Helioptile</td>\n      <td>Gen 6</td>\n      <td>5</td>\n      <td>False</td>\n      <td>0</td>\n    </tr>\n    <tr>\n      <th>6</th>\n      <td>Dialga</td>\n      <td>Gen 4</td>\n      <td>3</td>\n      <td>True</td>\n      <td>1</td>\n    </tr>\n    <tr>\n      <th>7</th>\n      <td>DeoxysDefense Forme</td>\n      <td>Gen 3</td>\n      <td>2</td>\n      <td>True</td>\n      <td>1</td>\n    </tr>\n    <tr>\n      <th>8</th>\n      <td>Rapidash</td>\n      <td>Gen 1</td>\n      <td>0</td>\n      <td>False</td>\n      <td>0</td>\n    </tr>\n    <tr>\n      <th>9</th>\n      <td>Swanna</td>\n      <td>Gen 5</td>\n      <td>4</td>\n      <td>False</td>\n      <td>0</td>\n    </tr>\n  </tbody>\n</table>\n</div>"
     },
     "metadata": {},
     "output_type": "execute_result",
     "execution_count": 17
    }
   ],
   "source": [
    "from sklearn.preprocessing import OneHotEncoder, LabelEncoder\n",
    "# transform and map pokemon generations\n",
    "gen_le = LabelEncoder()\n",
    "gen_labels = gen_le.fit_transform(poke_df['Generation'])\n",
    "poke_df['Gen_Label'] = gen_labels\n",
    "# transform and map pokemon legendary status\n",
    "leg_le = LabelEncoder()\n",
    "leg_labels = leg_le.fit_transform(poke_df['Legendary'])\n",
    "poke_df['Lgnd_Label'] = leg_labels\n",
    "poke_df_sub = poke_df[['Name', 'Generation', 'Gen_Label', 'Legendary', 'Lgnd_Label']]\n",
    "poke_df_sub.iloc[4:10]"
   ],
   "metadata": {
    "collapsed": false,
    "pycharm": {
     "name": "#%%\n",
     "is_executing": false
    }
   }
  },
  {
   "cell_type": "code",
   "execution_count": 29,
   "outputs": [
    {
     "name": "stderr",
     "text": [
      "C:\\ProgramData\\Anaconda3\\lib\\site-packages\\sklearn\\preprocessing\\_encoders.py:415: FutureWarning: The handling of integer data will change in version 0.22. Currently, the categories are determined based on the range [0, max(values)], while in the future they will be determined based on the unique values.\nIf you want the future behaviour and silence this warning, you can specify \"categories='auto'\".\nIn case you used a LabelEncoder before this OneHotEncoder to convert the categories to integers, then you can now use the OneHotEncoder directly.\n  warnings.warn(msg, FutureWarning)\nC:\\ProgramData\\Anaconda3\\lib\\site-packages\\sklearn\\preprocessing\\_encoders.py:415: FutureWarning: The handling of integer data will change in version 0.22. Currently, the categories are determined based on the range [0, max(values)], while in the future they will be determined based on the unique values.\nIf you want the future behaviour and silence this warning, you can specify \"categories='auto'\".\nIn case you used a LabelEncoder before this OneHotEncoder to convert the categories to integers, then you can now use the OneHotEncoder directly.\n  warnings.warn(msg, FutureWarning)\n"
     ],
     "output_type": "stream"
    }
   ],
   "source": [
    "# The features Gen_Label and Lgnd_Label now depict the numeric representations of our categorical\n",
    "# features. Let’s now apply the one hot encoding scheme on these features using the following code\n",
    "# encode generation labels using one-hot encoding scheme\n",
    "gen_ohe = OneHotEncoder()\n",
    "gen_feature_arr  = gen_ohe.fit_transform(poke_df[['Gen_Label']]).toarray()\n",
    "gen_feature_labels = list(gen_le.classes_)\n",
    "gen_features = pd.DataFrame(gen_feature_arr, columns=gen_feature_labels)\n",
    "\n",
    "# encode legendary status labels using one-hot encoding scheme\n",
    "leg_ohe = OneHotEncoder()\n",
    "leg_feature_arr = leg_ohe.fit_transform(poke_df[['Lgnd_Label']]).toarray()\n",
    "leg_feature_labels = ['Legendary_'+str(cls_label) for cls_label in leg_le.classes_]                          \n",
    "leg_features = pd.DataFrame(leg_feature_arr, columns=leg_feature_labels)"
   ],
   "metadata": {
    "collapsed": false,
    "pycharm": {
     "name": "#%%\n",
     "is_executing": false
    }
   }
  },
  {
   "cell_type": "code",
   "execution_count": 30,
   "outputs": [
    {
     "data": {
      "text/plain": "                  Name Generation  Gen_Label  Gen 1  Gen 2  Gen 3  Gen 4  \\\n4            Octillery      Gen 2          1    0.0    1.0    0.0    0.0   \n5           Helioptile      Gen 6          5    0.0    0.0    0.0    0.0   \n6               Dialga      Gen 4          3    0.0    0.0    0.0    1.0   \n7  DeoxysDefense Forme      Gen 3          2    0.0    0.0    1.0    0.0   \n8             Rapidash      Gen 1          0    1.0    0.0    0.0    0.0   \n9               Swanna      Gen 5          4    0.0    0.0    0.0    0.0   \n\n   Gen 5  Gen 6  Legendary  Lgnd_Label  Legendary_False  Legendary_True  \n4    0.0    0.0      False           0              1.0             0.0  \n5    0.0    1.0      False           0              1.0             0.0  \n6    0.0    0.0       True           1              0.0             1.0  \n7    0.0    0.0       True           1              0.0             1.0  \n8    0.0    0.0      False           0              1.0             0.0  \n9    1.0    0.0      False           0              1.0             0.0  ",
      "text/html": "<div>\n<style scoped>\n    .dataframe tbody tr th:only-of-type {\n        vertical-align: middle;\n    }\n\n    .dataframe tbody tr th {\n        vertical-align: top;\n    }\n\n    .dataframe thead th {\n        text-align: right;\n    }\n</style>\n<table border=\"1\" class=\"dataframe\">\n  <thead>\n    <tr style=\"text-align: right;\">\n      <th></th>\n      <th>Name</th>\n      <th>Generation</th>\n      <th>Gen_Label</th>\n      <th>Gen 1</th>\n      <th>Gen 2</th>\n      <th>Gen 3</th>\n      <th>Gen 4</th>\n      <th>Gen 5</th>\n      <th>Gen 6</th>\n      <th>Legendary</th>\n      <th>Lgnd_Label</th>\n      <th>Legendary_False</th>\n      <th>Legendary_True</th>\n    </tr>\n  </thead>\n  <tbody>\n    <tr>\n      <th>4</th>\n      <td>Octillery</td>\n      <td>Gen 2</td>\n      <td>1</td>\n      <td>0.0</td>\n      <td>1.0</td>\n      <td>0.0</td>\n      <td>0.0</td>\n      <td>0.0</td>\n      <td>0.0</td>\n      <td>False</td>\n      <td>0</td>\n      <td>1.0</td>\n      <td>0.0</td>\n    </tr>\n    <tr>\n      <th>5</th>\n      <td>Helioptile</td>\n      <td>Gen 6</td>\n      <td>5</td>\n      <td>0.0</td>\n      <td>0.0</td>\n      <td>0.0</td>\n      <td>0.0</td>\n      <td>0.0</td>\n      <td>1.0</td>\n      <td>False</td>\n      <td>0</td>\n      <td>1.0</td>\n      <td>0.0</td>\n    </tr>\n    <tr>\n      <th>6</th>\n      <td>Dialga</td>\n      <td>Gen 4</td>\n      <td>3</td>\n      <td>0.0</td>\n      <td>0.0</td>\n      <td>0.0</td>\n      <td>1.0</td>\n      <td>0.0</td>\n      <td>0.0</td>\n      <td>True</td>\n      <td>1</td>\n      <td>0.0</td>\n      <td>1.0</td>\n    </tr>\n    <tr>\n      <th>7</th>\n      <td>DeoxysDefense Forme</td>\n      <td>Gen 3</td>\n      <td>2</td>\n      <td>0.0</td>\n      <td>0.0</td>\n      <td>1.0</td>\n      <td>0.0</td>\n      <td>0.0</td>\n      <td>0.0</td>\n      <td>True</td>\n      <td>1</td>\n      <td>0.0</td>\n      <td>1.0</td>\n    </tr>\n    <tr>\n      <th>8</th>\n      <td>Rapidash</td>\n      <td>Gen 1</td>\n      <td>0</td>\n      <td>1.0</td>\n      <td>0.0</td>\n      <td>0.0</td>\n      <td>0.0</td>\n      <td>0.0</td>\n      <td>0.0</td>\n      <td>False</td>\n      <td>0</td>\n      <td>1.0</td>\n      <td>0.0</td>\n    </tr>\n    <tr>\n      <th>9</th>\n      <td>Swanna</td>\n      <td>Gen 5</td>\n      <td>4</td>\n      <td>0.0</td>\n      <td>0.0</td>\n      <td>0.0</td>\n      <td>0.0</td>\n      <td>1.0</td>\n      <td>0.0</td>\n      <td>False</td>\n      <td>0</td>\n      <td>1.0</td>\n      <td>0.0</td>\n    </tr>\n  </tbody>\n</table>\n</div>"
     },
     "metadata": {},
     "output_type": "execute_result",
     "execution_count": 30
    }
   ],
   "source": [
    "poke_df_ohe = pd.concat([poke_df_sub, gen_features, leg_features], axis=1)\n",
    "columns = sum([['Name', 'Generation', 'Gen_Label'],gen_feature_labels,\n",
    "              ['Legendary', 'Lgnd_Label'],leg_feature_labels], [])\n",
    "poke_df_ohe[columns].iloc[4:10]"
   ],
   "metadata": {
    "collapsed": false,
    "pycharm": {
     "name": "#%%\n",
     "is_executing": false
    }
   }
  },
  {
   "cell_type": "code",
   "execution_count": 31,
   "outputs": [
    {
     "data": {
      "text/plain": "          Name Generation  Legendary\n0     PikaZoom      Gen 3       True\n1  CharMyToast      Gen 4      False",
      "text/html": "<div>\n<style scoped>\n    .dataframe tbody tr th:only-of-type {\n        vertical-align: middle;\n    }\n\n    .dataframe tbody tr th {\n        vertical-align: top;\n    }\n\n    .dataframe thead th {\n        text-align: right;\n    }\n</style>\n<table border=\"1\" class=\"dataframe\">\n  <thead>\n    <tr style=\"text-align: right;\">\n      <th></th>\n      <th>Name</th>\n      <th>Generation</th>\n      <th>Legendary</th>\n    </tr>\n  </thead>\n  <tbody>\n    <tr>\n      <th>0</th>\n      <td>PikaZoom</td>\n      <td>Gen 3</td>\n      <td>True</td>\n    </tr>\n    <tr>\n      <th>1</th>\n      <td>CharMyToast</td>\n      <td>Gen 4</td>\n      <td>False</td>\n    </tr>\n  </tbody>\n</table>\n</div>"
     },
     "metadata": {},
     "output_type": "execute_result",
     "execution_count": 31
    }
   ],
   "source": [
    "# we have some new Pokémon data for which we need to engineer the same features before we want to run it by our \n",
    "# trained model. We can use the transform(...) function for our LabelEncoder and OneHotEncoder objects, \n",
    "# which we have previously constructed to engineer the features from the training data\n",
    "new_poke_df = pd.DataFrame([['PikaZoom', 'Gen 3', True], \n",
    "                           ['CharMyToast', 'Gen 4', False]],\n",
    "                           columns=['Name', 'Generation', 'Legendary'])\n",
    "new_poke_df"
   ],
   "metadata": {
    "collapsed": false,
    "pycharm": {
     "name": "#%%\n",
     "is_executing": false
    }
   }
  },
  {
   "cell_type": "code",
   "execution_count": 32,
   "outputs": [
    {
     "data": {
      "text/plain": "          Name Generation  Gen_Label  Legendary  Lgnd_Label\n0     PikaZoom      Gen 3          2       True           1\n1  CharMyToast      Gen 4          3      False           0",
      "text/html": "<div>\n<style scoped>\n    .dataframe tbody tr th:only-of-type {\n        vertical-align: middle;\n    }\n\n    .dataframe tbody tr th {\n        vertical-align: top;\n    }\n\n    .dataframe thead th {\n        text-align: right;\n    }\n</style>\n<table border=\"1\" class=\"dataframe\">\n  <thead>\n    <tr style=\"text-align: right;\">\n      <th></th>\n      <th>Name</th>\n      <th>Generation</th>\n      <th>Gen_Label</th>\n      <th>Legendary</th>\n      <th>Lgnd_Label</th>\n    </tr>\n  </thead>\n  <tbody>\n    <tr>\n      <th>0</th>\n      <td>PikaZoom</td>\n      <td>Gen 3</td>\n      <td>2</td>\n      <td>True</td>\n      <td>1</td>\n    </tr>\n    <tr>\n      <th>1</th>\n      <td>CharMyToast</td>\n      <td>Gen 4</td>\n      <td>3</td>\n      <td>False</td>\n      <td>0</td>\n    </tr>\n  </tbody>\n</table>\n</div>"
     },
     "metadata": {},
     "output_type": "execute_result",
     "execution_count": 32
    }
   ],
   "source": [
    "new_gen_labels = gen_le.transform(new_poke_df['Generation'])\n",
    "new_poke_df['Gen_Label'] = new_gen_labels\n",
    "\n",
    "new_leg_labels = leg_le.transform(new_poke_df['Legendary'])\n",
    "new_poke_df['Lgnd_Label'] = new_leg_labels\n",
    "\n",
    "new_poke_df[['Name', 'Generation', 'Gen_Label', 'Legendary', 'Lgnd_Label']]"
   ],
   "metadata": {
    "collapsed": false,
    "pycharm": {
     "name": "#%%\n",
     "is_executing": false
    }
   }
  },
  {
   "cell_type": "code",
   "execution_count": 33,
   "outputs": [
    {
     "data": {
      "text/plain": "          Name Generation  Gen_Label  Gen 1  Gen 2  Gen 3  Gen 4  Gen 5  \\\n0     PikaZoom      Gen 3          2    0.0    0.0    1.0    0.0    0.0   \n1  CharMyToast      Gen 4          3    0.0    0.0    0.0    1.0    0.0   \n\n   Gen 6  Legendary  Lgnd_Label  Legendary_False  Legendary_True  \n0    0.0       True           1              0.0             1.0  \n1    0.0      False           0              1.0             0.0  ",
      "text/html": "<div>\n<style scoped>\n    .dataframe tbody tr th:only-of-type {\n        vertical-align: middle;\n    }\n\n    .dataframe tbody tr th {\n        vertical-align: top;\n    }\n\n    .dataframe thead th {\n        text-align: right;\n    }\n</style>\n<table border=\"1\" class=\"dataframe\">\n  <thead>\n    <tr style=\"text-align: right;\">\n      <th></th>\n      <th>Name</th>\n      <th>Generation</th>\n      <th>Gen_Label</th>\n      <th>Gen 1</th>\n      <th>Gen 2</th>\n      <th>Gen 3</th>\n      <th>Gen 4</th>\n      <th>Gen 5</th>\n      <th>Gen 6</th>\n      <th>Legendary</th>\n      <th>Lgnd_Label</th>\n      <th>Legendary_False</th>\n      <th>Legendary_True</th>\n    </tr>\n  </thead>\n  <tbody>\n    <tr>\n      <th>0</th>\n      <td>PikaZoom</td>\n      <td>Gen 3</td>\n      <td>2</td>\n      <td>0.0</td>\n      <td>0.0</td>\n      <td>1.0</td>\n      <td>0.0</td>\n      <td>0.0</td>\n      <td>0.0</td>\n      <td>True</td>\n      <td>1</td>\n      <td>0.0</td>\n      <td>1.0</td>\n    </tr>\n    <tr>\n      <th>1</th>\n      <td>CharMyToast</td>\n      <td>Gen 4</td>\n      <td>3</td>\n      <td>0.0</td>\n      <td>0.0</td>\n      <td>0.0</td>\n      <td>1.0</td>\n      <td>0.0</td>\n      <td>0.0</td>\n      <td>False</td>\n      <td>0</td>\n      <td>1.0</td>\n      <td>0.0</td>\n    </tr>\n  </tbody>\n</table>\n</div>"
     },
     "metadata": {},
     "output_type": "execute_result",
     "execution_count": 33
    }
   ],
   "source": [
    "new_gen_feature_arr = gen_ohe.transform(new_poke_df[['Gen_Label']]).toarray()\n",
    "new_gen_features = pd.DataFrame(new_gen_feature_arr, columns=gen_feature_labels)\n",
    "\n",
    "new_leg_feature_arr = leg_ohe.transform(new_poke_df[['Lgnd_Label']]).toarray()\n",
    "new_leg_features = pd.DataFrame(new_leg_feature_arr, columns=leg_feature_labels)\n",
    "\n",
    "new_poke_ohe = pd.concat([new_poke_df, new_gen_features, new_leg_features], axis=1)\n",
    "columns = sum([['Name', 'Generation', 'Gen_Label'], gen_feature_labels,\n",
    "               ['Legendary', 'Lgnd_Label'], leg_feature_labels], [])\n",
    "new_poke_ohe[columns]"
   ],
   "metadata": {
    "collapsed": false,
    "pycharm": {
     "name": "#%%\n",
     "is_executing": false
    }
   }
  },
  {
   "cell_type": "code",
   "execution_count": 34,
   "outputs": [
    {
     "data": {
      "text/plain": "                  Name Generation  Gen 1  Gen 2  Gen 3  Gen 4  Gen 5  Gen 6\n4            Octillery      Gen 2      0      1      0      0      0      0\n5           Helioptile      Gen 6      0      0      0      0      0      1\n6               Dialga      Gen 4      0      0      0      1      0      0\n7  DeoxysDefense Forme      Gen 3      0      0      1      0      0      0\n8             Rapidash      Gen 1      1      0      0      0      0      0\n9               Swanna      Gen 5      0      0      0      0      1      0",
      "text/html": "<div>\n<style scoped>\n    .dataframe tbody tr th:only-of-type {\n        vertical-align: middle;\n    }\n\n    .dataframe tbody tr th {\n        vertical-align: top;\n    }\n\n    .dataframe thead th {\n        text-align: right;\n    }\n</style>\n<table border=\"1\" class=\"dataframe\">\n  <thead>\n    <tr style=\"text-align: right;\">\n      <th></th>\n      <th>Name</th>\n      <th>Generation</th>\n      <th>Gen 1</th>\n      <th>Gen 2</th>\n      <th>Gen 3</th>\n      <th>Gen 4</th>\n      <th>Gen 5</th>\n      <th>Gen 6</th>\n    </tr>\n  </thead>\n  <tbody>\n    <tr>\n      <th>4</th>\n      <td>Octillery</td>\n      <td>Gen 2</td>\n      <td>0</td>\n      <td>1</td>\n      <td>0</td>\n      <td>0</td>\n      <td>0</td>\n      <td>0</td>\n    </tr>\n    <tr>\n      <th>5</th>\n      <td>Helioptile</td>\n      <td>Gen 6</td>\n      <td>0</td>\n      <td>0</td>\n      <td>0</td>\n      <td>0</td>\n      <td>0</td>\n      <td>1</td>\n    </tr>\n    <tr>\n      <th>6</th>\n      <td>Dialga</td>\n      <td>Gen 4</td>\n      <td>0</td>\n      <td>0</td>\n      <td>0</td>\n      <td>1</td>\n      <td>0</td>\n      <td>0</td>\n    </tr>\n    <tr>\n      <th>7</th>\n      <td>DeoxysDefense Forme</td>\n      <td>Gen 3</td>\n      <td>0</td>\n      <td>0</td>\n      <td>1</td>\n      <td>0</td>\n      <td>0</td>\n      <td>0</td>\n    </tr>\n    <tr>\n      <th>8</th>\n      <td>Rapidash</td>\n      <td>Gen 1</td>\n      <td>1</td>\n      <td>0</td>\n      <td>0</td>\n      <td>0</td>\n      <td>0</td>\n      <td>0</td>\n    </tr>\n    <tr>\n      <th>9</th>\n      <td>Swanna</td>\n      <td>Gen 5</td>\n      <td>0</td>\n      <td>0</td>\n      <td>0</td>\n      <td>0</td>\n      <td>1</td>\n      <td>0</td>\n    </tr>\n  </tbody>\n</table>\n</div>"
     },
     "metadata": {},
     "output_type": "execute_result",
     "execution_count": 34
    }
   ],
   "source": [
    "# Pandas also provides a wonderful function called to_dummies(...), which helps us easily perform one hot encoding\n",
    "gen_onehot_features = pd.get_dummies(poke_df['Generation'])\n",
    "pd.concat([poke_df[['Name', 'Generation']], gen_onehot_features], axis=1).iloc[4:10]"
   ],
   "metadata": {
    "collapsed": false,
    "pycharm": {
     "name": "#%%\n",
     "is_executing": false
    }
   }
  },
  {
   "cell_type": "markdown",
   "source": [
    "### Dummy Coding Scheme\n",
    "The dummy coding scheme is similar to the one hot encoding scheme, except in the case of dummy coding\n",
    "scheme, when applied on a categorical feature with m distinct labels, we get m-1 binary features. Thus each\n",
    "value of the categorical variable gets converted into a vector of size m-1. The extra feature is completely\n",
    "disregarded and thus if the category values range from {0, 1, ..., m-1} the 0th or the m-1th feature is usually\n",
    "represented by a vector of all zeros (0)."
   ],
   "metadata": {
    "collapsed": false,
    "pycharm": {
     "name": "#%% md\n"
    }
   }
  },
  {
   "cell_type": "code",
   "execution_count": 36,
   "outputs": [
    {
     "data": {
      "text/plain": "                  Name Generation  Gen 1  Gen 2  Gen 3  Gen 4  Gen 5\n4            Octillery      Gen 2      0      1      0      0      0\n5           Helioptile      Gen 6      0      0      0      0      0\n6               Dialga      Gen 4      0      0      0      1      0\n7  DeoxysDefense Forme      Gen 3      0      0      1      0      0\n8             Rapidash      Gen 1      1      0      0      0      0\n9               Swanna      Gen 5      0      0      0      0      1",
      "text/html": "<div>\n<style scoped>\n    .dataframe tbody tr th:only-of-type {\n        vertical-align: middle;\n    }\n\n    .dataframe tbody tr th {\n        vertical-align: top;\n    }\n\n    .dataframe thead th {\n        text-align: right;\n    }\n</style>\n<table border=\"1\" class=\"dataframe\">\n  <thead>\n    <tr style=\"text-align: right;\">\n      <th></th>\n      <th>Name</th>\n      <th>Generation</th>\n      <th>Gen 1</th>\n      <th>Gen 2</th>\n      <th>Gen 3</th>\n      <th>Gen 4</th>\n      <th>Gen 5</th>\n    </tr>\n  </thead>\n  <tbody>\n    <tr>\n      <th>4</th>\n      <td>Octillery</td>\n      <td>Gen 2</td>\n      <td>0</td>\n      <td>1</td>\n      <td>0</td>\n      <td>0</td>\n      <td>0</td>\n    </tr>\n    <tr>\n      <th>5</th>\n      <td>Helioptile</td>\n      <td>Gen 6</td>\n      <td>0</td>\n      <td>0</td>\n      <td>0</td>\n      <td>0</td>\n      <td>0</td>\n    </tr>\n    <tr>\n      <th>6</th>\n      <td>Dialga</td>\n      <td>Gen 4</td>\n      <td>0</td>\n      <td>0</td>\n      <td>0</td>\n      <td>1</td>\n      <td>0</td>\n    </tr>\n    <tr>\n      <th>7</th>\n      <td>DeoxysDefense Forme</td>\n      <td>Gen 3</td>\n      <td>0</td>\n      <td>0</td>\n      <td>1</td>\n      <td>0</td>\n      <td>0</td>\n    </tr>\n    <tr>\n      <th>8</th>\n      <td>Rapidash</td>\n      <td>Gen 1</td>\n      <td>1</td>\n      <td>0</td>\n      <td>0</td>\n      <td>0</td>\n      <td>0</td>\n    </tr>\n    <tr>\n      <th>9</th>\n      <td>Swanna</td>\n      <td>Gen 5</td>\n      <td>0</td>\n      <td>0</td>\n      <td>0</td>\n      <td>0</td>\n      <td>1</td>\n    </tr>\n  </tbody>\n</table>\n</div>"
     },
     "metadata": {},
     "output_type": "execute_result",
     "execution_count": 36
    }
   ],
   "source": [
    "gen_dummy_features = pd.get_dummies(poke_df['Generation'], drop_first=True)\n",
    "pd.concat([poke_df[['Name', 'Generation']], gen_dummy_features], axis=1).iloc[4:10]\n",
    "# If you want, you can also choose to drop the last level binary encoded feature (Gen 6) by using the following code\n",
    "gen_onehot_features = pd.get_dummies(poke_df['Generation'])\n",
    "gen_dummy_features = gen_onehot_features.iloc[:,:-1]\n",
    "pd.concat([poke_df[['Name', 'Generation']], gen_dummy_features], axis=1).iloc[4:10]"
   ],
   "metadata": {
    "collapsed": false,
    "pycharm": {
     "name": "#%%\n",
     "is_executing": false
    }
   }
  },
  {
   "cell_type": "markdown",
   "source": [
    "### Effect Coding Scheme\n",
    "The effect coding scheme is very similar to the dummy coding scheme in most aspects. However, the\n",
    "encoded features or feature vector, for the category values that represent all 0s in the dummy coding scheme,\n",
    "is replaced by -1s in the effect coding scheme"
   ],
   "metadata": {
    "collapsed": false,
    "pycharm": {
     "name": "#%% md\n"
    }
   }
  },
  {
   "cell_type": "code",
   "execution_count": 37,
   "outputs": [
    {
     "name": "stderr",
     "text": [
      "C:\\ProgramData\\Anaconda3\\lib\\site-packages\\pandas\\core\\indexing.py:543: SettingWithCopyWarning: \nA value is trying to be set on a copy of a slice from a DataFrame.\nTry using .loc[row_indexer,col_indexer] = value instead\n\nSee the caveats in the documentation: http://pandas.pydata.org/pandas-docs/stable/indexing.html#indexing-view-versus-copy\n  self.obj[item] = s\n"
     ],
     "output_type": "stream"
    },
    {
     "data": {
      "text/plain": "                  Name Generation  Gen 1  Gen 2  Gen 3  Gen 4  Gen 5\n4            Octillery      Gen 2    0.0    1.0    0.0    0.0    0.0\n5           Helioptile      Gen 6   -1.0   -1.0   -1.0   -1.0   -1.0\n6               Dialga      Gen 4    0.0    0.0    0.0    1.0    0.0\n7  DeoxysDefense Forme      Gen 3    0.0    0.0    1.0    0.0    0.0\n8             Rapidash      Gen 1    1.0    0.0    0.0    0.0    0.0\n9               Swanna      Gen 5    0.0    0.0    0.0    0.0    1.0",
      "text/html": "<div>\n<style scoped>\n    .dataframe tbody tr th:only-of-type {\n        vertical-align: middle;\n    }\n\n    .dataframe tbody tr th {\n        vertical-align: top;\n    }\n\n    .dataframe thead th {\n        text-align: right;\n    }\n</style>\n<table border=\"1\" class=\"dataframe\">\n  <thead>\n    <tr style=\"text-align: right;\">\n      <th></th>\n      <th>Name</th>\n      <th>Generation</th>\n      <th>Gen 1</th>\n      <th>Gen 2</th>\n      <th>Gen 3</th>\n      <th>Gen 4</th>\n      <th>Gen 5</th>\n    </tr>\n  </thead>\n  <tbody>\n    <tr>\n      <th>4</th>\n      <td>Octillery</td>\n      <td>Gen 2</td>\n      <td>0.0</td>\n      <td>1.0</td>\n      <td>0.0</td>\n      <td>0.0</td>\n      <td>0.0</td>\n    </tr>\n    <tr>\n      <th>5</th>\n      <td>Helioptile</td>\n      <td>Gen 6</td>\n      <td>-1.0</td>\n      <td>-1.0</td>\n      <td>-1.0</td>\n      <td>-1.0</td>\n      <td>-1.0</td>\n    </tr>\n    <tr>\n      <th>6</th>\n      <td>Dialga</td>\n      <td>Gen 4</td>\n      <td>0.0</td>\n      <td>0.0</td>\n      <td>0.0</td>\n      <td>1.0</td>\n      <td>0.0</td>\n    </tr>\n    <tr>\n      <th>7</th>\n      <td>DeoxysDefense Forme</td>\n      <td>Gen 3</td>\n      <td>0.0</td>\n      <td>0.0</td>\n      <td>1.0</td>\n      <td>0.0</td>\n      <td>0.0</td>\n    </tr>\n    <tr>\n      <th>8</th>\n      <td>Rapidash</td>\n      <td>Gen 1</td>\n      <td>1.0</td>\n      <td>0.0</td>\n      <td>0.0</td>\n      <td>0.0</td>\n      <td>0.0</td>\n    </tr>\n    <tr>\n      <th>9</th>\n      <td>Swanna</td>\n      <td>Gen 5</td>\n      <td>0.0</td>\n      <td>0.0</td>\n      <td>0.0</td>\n      <td>0.0</td>\n      <td>1.0</td>\n    </tr>\n  </tbody>\n</table>\n</div>"
     },
     "metadata": {},
     "output_type": "execute_result",
     "execution_count": 37
    }
   ],
   "source": [
    "gen_onehot_features = pd.get_dummies(poke_df['Generation'])\n",
    "gen_effect_features = gen_onehot_features.iloc[:,:-1]\n",
    "gen_effect_features.loc[np.all(gen_effect_features == 0, axis=1)] = -1.\n",
    "pd.concat([poke_df[['Name', 'Generation']], gen_effect_features], axis=1).iloc[4:10]"
   ],
   "metadata": {
    "collapsed": false,
    "pycharm": {
     "name": "#%%\n",
     "is_executing": false
    }
   }
  },
  {
   "cell_type": "markdown",
   "source": [
    "### Feature Hashing Scheme"
   ],
   "metadata": {
    "collapsed": false,
    "pycharm": {
     "name": "#%% md\n"
    }
   }
  },
  {
   "cell_type": "code",
   "execution_count": 38,
   "outputs": [
    {
     "name": "stdout",
     "text": [
      "Total game genres: 12\n['Action' 'Adventure' 'Fighting' 'Misc' 'Platform' 'Puzzle' 'Racing'\n 'Role-Playing' 'Shooter' 'Simulation' 'Sports' 'Strategy']\n"
     ],
     "output_type": "stream"
    }
   ],
   "source": [
    "unique_genres = np.unique(vg_df[['Genre']])\n",
    "print(\"Total game genres:\", len(unique_genres))\n",
    "print(unique_genres)"
   ],
   "metadata": {
    "collapsed": false,
    "pycharm": {
     "name": "#%%\n",
     "is_executing": false
    }
   }
  },
  {
   "cell_type": "code",
   "execution_count": 46,
   "outputs": [
    {
     "data": {
      "text/plain": "{'alternate_sign': True,\n 'dtype': numpy.float64,\n 'input_type': 'string',\n 'n_features': 6}"
     },
     "metadata": {},
     "output_type": "execute_result",
     "execution_count": 46
    }
   ],
   "source": [
    "from sklearn.feature_extraction import FeatureHasher\n",
    "fh = FeatureHasher(n_features=6,input_type='string')\n",
    "hashed_features = fh.fit_transform(vg_df['Genre']).toarray()\n",
    "pd.concat([vg_df[['Name', 'Genre']], pd.DataFrame(hashed_features)], axis=1).iloc[1:7]"
   ],
   "metadata": {
    "collapsed": false,
    "pycharm": {
     "name": "#%%\n",
     "is_executing": false
    }
   }
  },
  {
   "cell_type": "code",
   "execution_count": 47,
   "outputs": [
    {
     "data": {
      "text/plain": "{'alternate_sign': True,\n 'dtype': numpy.float64,\n 'input_type': 'string',\n 'n_features': 6}"
     },
     "metadata": {},
     "output_type": "execute_result",
     "execution_count": 47
    }
   ],
   "source": [
    "fh.get_params()"
   ],
   "metadata": {
    "collapsed": false,
    "pycharm": {
     "name": "#%%\n",
     "is_executing": false
    }
   }
  }
 ],
 "metadata": {
  "language_info": {
   "codemirror_mode": {
    "name": "ipython",
    "version": 2
   },
   "file_extension": ".py",
   "mimetype": "text/x-python",
   "name": "python",
   "nbconvert_exporter": "python",
   "pygments_lexer": "ipython2",
   "version": "2.7.6"
  },
  "kernelspec": {
   "name": "python3",
   "language": "python",
   "display_name": "Python 3"
  },
  "pycharm": {
   "stem_cell": {
    "cell_type": "raw",
    "source": [],
    "metadata": {
     "collapsed": false
    }
   }
  }
 },
 "nbformat": 4,
 "nbformat_minor": 0
}